{
 "cells": [
  {
   "cell_type": "code",
   "execution_count": 1,
   "metadata": {},
   "outputs": [
    {
     "name": "stdout",
     "output_type": "stream",
     "text": [
      "/mnt/disk2/samarth/qdpy-numpyro\n"
     ]
    }
   ],
   "source": [
    "cd ~/qdpy-numpyro"
   ]
  },
  {
   "cell_type": "code",
   "execution_count": 2,
   "metadata": {},
   "outputs": [
    {
     "name": "stdout",
     "output_type": "stream",
     "text": [
      "rth = 0.9\n",
      "[[  0 200]\n",
      " [  0 201]]\n",
      "Total multiplets: 2\n",
      "rth = 0.97\n",
      "Generating the Ritzwoller-Lavely polynomials for ell = 201 and jmax = 5\n",
      "Generating the Ritzwoller-Lavely polynomials for ell = 200 and jmax = 5\n",
      "Shape = (2, 6, 403)\n",
      "rth = 0.97\n",
      "rth = 0.97\n"
     ]
    },
    {
     "name": "stderr",
     "output_type": "stream",
     "text": [
      "nmult: 100%|██████████| 2/2 [00:00<00:00,  6.38it/s]\n"
     ]
    },
    {
     "name": "stdout",
     "output_type": "stream",
     "text": [
      "Max diff = 90.98267746458112\n",
      "0 [-593.09439284 -589.89141855 -586.68185598 ...  483.9261471   487.13653751\n",
      "  399.3440133 ]\n",
      "1 [-588.70774386 -585.51244333 -582.31054142 ...    0.            0.\n",
      "  -90.99961828]\n",
      "num elements = 4030\n"
     ]
    },
    {
     "data": {
      "image/png": "[encoded data removed]",
      "text/plain": [
       "<Figure size 432x288 with 1 Axes>"
      ]
     },
     "metadata": {
      "needs_background": "light"
     },
     "output_type": "display_data"
    }
   ],
   "source": [
    "%run vorontsov_qdpy/mode_lister.py --nmin 0 --nmax 0 --lmin 200 --lmax 201\n",
    "%run vorontsov_qdpy/precompute_ritzlavely.py\n",
    "%run vorontsov_qdpy/generate_synthetic_eigvals.py --load_mults 1 --knot_num 5 --rth 0.97\n",
    "\n",
    "plt.figure()\n",
    "plt.semilogy(abs(sm_model.flatten() - sm_qdpt.flatten()))\n",
    "plt.show()"
   ]
  },
  {
   "cell_type": "code",
   "execution_count": 3,
   "metadata": {},
   "outputs": [
    {
     "name": "stdout",
     "output_type": "stream",
     "text": [
      "rth = 0.97\n"
     ]
    },
    {
     "name": "stderr",
     "output_type": "stream",
     "text": [
      "WARNING:absl:Compiling prim_fun (139992581110144) for args (ShapedArray(int64[4,2]), ShapedArray(int32[2])).\n"
     ]
    },
    {
     "name": "stdout",
     "output_type": "stream",
     "text": [
      "JAX using: cpu\n",
      "rth = 0.97\n"
     ]
    },
    {
     "name": "stderr",
     "output_type": "stream",
     "text": [
      "WARNING:absl:Compiling prim_fun (139992650494912) for args (ShapedArray(float64[4030]),).\n",
      "WARNING:absl:Compiling prim_fun (139992632543616) for args (ShapedArray(float64[804]),).\n",
      "WARNING:absl:Compiling prim_fun (139992650685056) for args (ShapedArray(float64[6]),).\n",
      "nmult: 100%|██████████| 2/2 [00:00<00:00,  6.36it/s]\n",
      "WARNING:absl:Compiling prim_fun (139992650045312) for args (ShapedArray(float64[3,9]),).\n",
      "WARNING:absl:Compiling prim_fun (139992650047424) for args (ShapedArray(float64[3,9]), ShapedArray(int32[2])).\n",
      "WARNING:absl:Compiling prim_fun (139992650045056) for args (ShapedArray(float64[10275]),).\n",
      "WARNING:absl:Compiling prim_fun (139992648955968) for args (ShapedArray(int64[10275,2]),).\n",
      "WARNING:absl:Compiling todense (139992649063744) for args (ShapedArray(float64[10275]), ShapedArray(int64[10275,2])).\n"
     ]
    },
    {
     "name": "stdout",
     "output_type": "stream",
     "text": [
      "(2, 10275)\n",
      "(2, 10275, 2)\n",
      "[ 0.01907192  0.00496713  0.02026428  0.01785718 -0.00062958  0.01474696]\n",
      "rth = 0.97\n",
      "rth = 0.97\n",
      "JAX using: cpu\n",
      "rth = 0.97\n"
     ]
    },
    {
     "name": "stderr",
     "output_type": "stream",
     "text": [
      "nmult: 100%|██████████| 2/2 [00:00<00:00,  5.94it/s]\n"
     ]
    },
    {
     "name": "stdout",
     "output_type": "stream",
     "text": [
      "param_coeff = (3, 4, 2, 5, 5, 411)\n",
      "cind_arr = [0 1 2 3]\n",
      "[<jaxlib.xla_extension.Device object at 0x7f51c819f170>]\n",
      "rth = 0.97\n"
     ]
    },
    {
     "name": "stderr",
     "output_type": "stream",
     "text": [
      "WARNING:absl:Compiling prim_fun (139989154447936) for args (ShapedArray(float64[2,3,411]),).\n",
      "WARNING:absl:Compiling prim_fun (139989153969792) for args (ShapedArray(float64[2,4]),).\n",
      "WARNING:absl:Compiling prim_fun (139989154447936) for args (ShapedArray(float64[2,4,2,5,5,411]),).\n",
      "WARNING:absl:Compiling prim_fun (139989225502528) for args (ShapedArray(float64[2,5,5,411]),).\n",
      "WARNING:absl:Compiling prim_fun (139989154513920) for args (ShapedArray(float64[2,3]),).\n",
      "WARNING:absl:Compiling prim_fun (139989156113408) for args (ShapedArray(int64[2,5,5,411,2]),).\n",
      "WARNING:absl:Compiling prim_fun (139989156113408) for args (ShapedArray(int64[2]),).\n",
      "WARNING:absl:Compiling prim_fun (139989225211008) for args (ShapedArray(float64[2]),).\n",
      "WARNING:absl:Compiling prim_fun (139989153503488) for args (ShapedArray(float64[]),).\n",
      "WARNING:absl:Compiling prim_fun (139989153748608) for args (ShapedArray(float64[]),).\n",
      "WARNING:absl:Compiling prim_fun (139989153558848) for args (ShapedArray(int64[2]), ShapedArray(float64[4030]), ShapedArray(float64[2,3,411]), ShapedArray(float64[2,3]), ShapedArray(int64[], weak_type=True), ShapedArray(float64[6])).\n",
      "WARNING:absl:Compiling prim_fun (139989153600064) for args (ShapedArray(int64[2]), ShapedArray(int32[1])).\n",
      "WARNING:absl:Compiling <lambda> (139989153578240) for args (ShapedArray(int64[], weak_type=True), ShapedArray(int64[])).\n",
      "WARNING:absl:Compiling fn (139989153576448) for args (ShapedArray(int64[]), ShapedArray(int64[], weak_type=True)).\n",
      "WARNING:absl:Compiling prim_fun (139989153540032) for args (ShapedArray(float64[2,4]),).\n",
      "WARNING:absl:Compiling prim_fun (139989156295040) for args (ShapedArray(float64[2,4,2,5,5,411]),).\n",
      "WARNING:absl:Compiling prim_fun (139989153757632) for args (ShapedArray(float64[411,5,5,2,8]),).\n",
      "WARNING:absl:Compiling _moveaxis (139989153623168) for args (ShapedArray(float64[8,2,5,5,411]),).\n",
      "WARNING:absl:Compiling prim_fun (139989153578560) for args (ShapedArray(float64[]),).\n",
      "WARNING:absl:Compiling fn (139989153521984) for args (ShapedArray(float64[8]), ShapedArray(float64[], weak_type=True)).\n",
      "WARNING:absl:Compiling matmul (139989154514752) for args (ShapedArray(float64[2,5,5,411,8]), ShapedArray(float64[8])).\n",
      "WARNING:absl:Compiling fn (139989153524352) for args (ShapedArray(float64[2,5,5,411]), ShapedArray(float64[2,5,5,411])).\n",
      "WARNING:absl:Compiling compare_model (139989153553728) for args ().\n",
      "WARNING:absl:Compiling <lambda> (139989153391360) for args (ShapedArray(float64[6]), ShapedArray(float64[6])).\n",
      "WARNING:absl:Compiling prim_fun (139989153726912) for args (ShapedArray(float64[6]), ShapedArray(int32[1])).\n",
      "WARNING:absl:Compiling fn (139989153726912) for args (ShapedArray(float64[]), ShapedArray(float64[], weak_type=True)).\n",
      "WARNING:absl:Compiling true_divide (139989156159424) for args (ShapedArray(float64[]), ShapedArray(float64[])).\n",
      "WARNING:absl:Compiling _reduce_sum (139989153649792) for args (ShapedArray(float64[6]),).\n",
      "WARNING:absl:Compiling true_divide (139989153282112) for args (ShapedArray(float64[]), ShapedArray(int64[], weak_type=True)).\n",
      "WARNING:absl:Compiling fn (139989153742464) for args (ShapedArray(float64[]), ShapedArray(int64[], weak_type=True)).\n",
      "WARNING:absl:Compiling fn (139989153459392) for args (ShapedArray(float64[]), ShapedArray(float64[])).\n"
     ]
    },
    {
     "name": "stdout",
     "output_type": "stream",
     "text": [
      " ell     |   Model       |    True       |    Diff       | Diff/sigma \n",
      "-----------------------------------------------------------------------\n",
      " 201     |   436.87224   |   438.03475   |    -1.16251   |   -32.54187\n",
      " 201     |    21.95791   |    20.05801   |     1.89990   |    40.96433\n",
      " 201     |    -5.07128   |    -4.35099   |    -0.72028   |   -13.27914\n",
      "-------------------------------------------------------------------\n",
      " 200     |   436.87766   |   438.04030   |    -1.16265   |   -32.02342\n",
      " 200     |    21.96010   |    20.05927   |     1.90083   |    40.76700\n",
      " 200     |    -5.07069   |    -4.35053   |    -0.72016   |   -12.97974\n",
      "-------------------------------------------------------------------\n",
      "Total time taken for 2 modes = 9.953e-03 seconds\n"
     ]
    }
   ],
   "source": [
    "%run vorontsov_qdpy/save_reduced_problem.py\n",
    "%run vorontsov_qdpy/save_reduced_problem_M.py\n",
    "%run vorontsov_qdpy/run_reduced_problem_model.py"
   ]
  },
  {
   "cell_type": "code",
   "execution_count": 4,
   "metadata": {},
   "outputs": [
    {
     "name": "stderr",
     "output_type": "stream",
     "text": [
      "WARNING:absl:Compiling _linspace (139989152724160) for args (ShapedArray(int64[], weak_type=True), ShapedArray(float64[], weak_type=True)).\n",
      "WARNING:absl:Compiling prim_fun (139989153571840) for args (ShapedArray(float64[]),).\n",
      "WARNING:absl:Compiling prim_fun (139989152737216) for args (ShapedArray(float64[2,5,5,411]), ShapedArray(float64[25]), ShapedArray(float64[2,5,5,411]), ShapedArray(float64[2,5,5,411]), ShapedArray(float64[2,5,1]), ShapedArray(int64[], weak_type=True), ShapedArray(float64[2,5,411,25])).\n",
      "WARNING:absl:Compiling trapz (139989152808768) for args (ShapedArray(float64[2,5,411,25]), ShapedArray(float64[25])).\n",
      "WARNING:absl:Compiling true_divide (139989152755264) for args (ShapedArray(float64[2,5,411]), ShapedArray(float64[], weak_type=True)).\n",
      "WARNING:absl:Compiling prim_fun (139989152748608) for args (ShapedArray(float64[2,5,411]), ShapedArray(int32[1])).\n",
      "WARNING:absl:Compiling prim_fun (139989152760064) for args (ShapedArray(float64[5,411]),).\n",
      "WARNING:absl:Compiling prim_fun (139989152866752) for args (ShapedArray(float64[2,5,5,411]), ShapedArray(int32[1])).\n",
      "WARNING:absl:Compiling prim_fun (139989152745216) for args (ShapedArray(float64[5,5,411]),).\n",
      "WARNING:absl:Compiling prim_fun (139989152788032) for args (ShapedArray(float64[5,5,411]),).\n",
      "WARNING:absl:Compiling prim_fun (139989152786688) for args (ShapedArray(int64[2,5,5,411,2]), ShapedArray(int32[1])).\n",
      "WARNING:absl:Compiling prim_fun (139989152808064) for args (ShapedArray(int64[5,5,411,2]),).\n",
      "WARNING:absl:Compiling prim_fun (139989152751424) for args (ShapedArray(int64[5,5,411,2]),).\n",
      "WARNING:absl:Compiling prim_fun (139989152766720) for args (ShapedArray(int64[2,10275]),).\n",
      "WARNING:absl:Compiling prim_fun (139989152770560) for args (ShapedArray(float64[5,411]),).\n",
      "WARNING:absl:Compiling fn (139989152757760) for args (ShapedArray(float64[5,5,411]), ShapedArray(float64[5,1,411])).\n",
      "WARNING:absl:Compiling _reduce_sum (139989152747072) for args (ShapedArray(float64[5,5,411]),).\n",
      "WARNING:absl:Compiling fn (139989152765312) for args (ShapedArray(float64[5,411]), ShapedArray(float64[5,411])).\n",
      "WARNING:absl:Compiling _reduce_sum (139989152843264) for args (ShapedArray(float64[5,411]),).\n",
      "WARNING:absl:Compiling eigh (139989152842240) for args (ShapedArray(float64[2005,2005]),).\n",
      "WARNING:absl:Compiling true_divide (139989152754112) for args (ShapedArray(float64[2005]), ShapedArray(float64[], weak_type=True)).\n",
      "WARNING:absl:Compiling true_divide (139989152901248) for args (ShapedArray(float64[2005]), ShapedArray(float64[])).\n",
      "WARNING:absl:Compiling prim_fun (139989152767936) for args (ShapedArray(int64[]),).\n",
      "WARNING:absl:Compiling prim_fun (139989152899264) for args (ShapedArray(float64[2005,2005]), ShapedArray(int64[], weak_type=True), ShapedArray(int64[2005])).\n",
      "WARNING:absl:Compiling prim_fun (139989152820992) for args (ShapedArray(int64[2005]), ShapedArray(int64[])).\n",
      "WARNING:absl:Compiling prim_fun (139989152820992) for args (ShapedArray(int64[2005]), ShapedArray(int64[])).\n",
      "WARNING:absl:Compiling prim_fun (139989154275648) for args (ShapedArray(bool[2005]), ShapedArray(int64[2005]), ShapedArray(int64[2005])).\n",
      "WARNING:absl:Compiling prim_fun (139992311770688) for args (ShapedArray(int64[2005]),).\n",
      "WARNING:absl:Compiling prim_fun (139989151201280) for args (ShapedArray(int32[2005]),).\n",
      "WARNING:absl:Compiling prim_fun (139989152935616) for args (ShapedArray(float64[2005]), ShapedArray(int32[2005,1])).\n",
      "WARNING:absl:Compiling prim_fun (139989152915520) for args (ShapedArray(float64[2005]),).\n",
      "WARNING:absl:Compiling prim_fun (139989152934080) for args (ShapedArray(float64[2005]), ShapedArray(int32[1])).\n",
      "WARNING:absl:Compiling prim_fun (139989152868032) for args (ShapedArray(float64[2,3,411]), ShapedArray(int32[1])).\n",
      "WARNING:absl:Compiling prim_fun (139989152946752) for args (ShapedArray(float64[3,411]),).\n",
      "WARNING:absl:Compiling matmul (139989152933376) for args (ShapedArray(float64[3,411]), ShapedArray(float64[411])).\n",
      "WARNING:absl:Compiling prim_fun (139989152753280) for args (ShapedArray(float64[2,3]), ShapedArray(int32[1])).\n",
      "WARNING:absl:Compiling prim_fun (139989152945984) for args (ShapedArray(float64[3]),).\n",
      "WARNING:absl:Compiling prim_fun (139989152935808) for args (ShapedArray(float64[3,411]), ShapedArray(int32[1])).\n",
      "WARNING:absl:Compiling prim_fun (139989152935808) for args (ShapedArray(float64[3,401]),).\n",
      "WARNING:absl:Compiling fn (139989151215296) for args (ShapedArray(float64[3]), ShapedArray(float64[])).\n",
      "WARNING:absl:Compiling fn (139989151254656) for args (ShapedArray(float64[3]), ShapedArray(float64[], weak_type=True)).\n"
     ]
    },
    {
     "name": "stdout",
     "output_type": "stream",
     "text": [
      "[ 0.43688713  0.02194288 -0.0050643 ]\n",
      "[ 0.43688539  0.02194333 -0.00506275]\n"
     ]
    }
   ],
   "source": [
    "zfull = param_coeff @ true_params + fixed_part\n",
    "zM = param_coeff_M @ true_params + fixed_part_M\n",
    "bkm = param_coeff_bkm @ true_params + fixed_part_bkm\n",
    "clp = get_clp(bkm)\n",
    "\n",
    "mode_idx = -1\n",
    "clp_200 = clp[mode_idx]\n",
    "\n",
    "zfull_200 = zfull[mode_idx]\n",
    "zM_200 = zM[mode_idx]\n",
    "bkm_200 = bkm[mode_idx]\n",
    "zfull_200_flat = jnp.reshape(zfull_200, (max_nbs*max_nbs*len_mmax), order='F')\n",
    "zM_200_flat = jnp.reshape(zM_200, (max_nbs*max_nbs*len_mmax), order='F')\n",
    "bkm_200_flat = jnp.reshape(bkm_200, (max_nbs*max_nbs*len_mmax), order='F')\n",
    "\n",
    "sparse_idx_200 = sparse_idx[mode_idx]\n",
    "sparseM_idx_200 = sparse_idx_M[mode_idx]\n",
    "\n",
    "sparse_200_flat = jnp.reshape(sparse_idx_200, (max_nbs*max_nbs*len_mmax, 2), order='F')\n",
    "sparseM_200_flat = jnp.reshape(sparseM_idx_200, (max_nbs*max_nbs*len_mmax, 2), order='F')\n",
    "\n",
    "\n",
    "zf_dense = sparse.BCOO((zfull_200_flat, sparse_200_flat), shape=(dim_hyper, dim_hyper)).todense()\n",
    "zMf_dense = sparse.BCOO((zM_200_flat, sparseM_200_flat), shape=(dim_hyper, dim_hyper)).todense()\n",
    "bkm_dense = sparse.BCOO((bkm_200_flat, sparse_200_flat), shape=(dim_hyper, dim_hyper)).todense()\n",
    "zf_diag = np.diag(zf_dense)\n",
    "zMf_diag = np.diag(zMf_dense)\n",
    "\n",
    "ev_200_V11 = np.sum(clp_200.conj() * (zM_200 * clp_200[:, NAX, :]).sum(axis=0), axis=0)\n",
    "\n",
    "supmat = np.load(\"supmat_qdpt_200.npy\").real\n",
    "ev_200_eigh, evec_200 = jnp.linalg.eigh(supmat)\n",
    "ev_200_eigh = eigval_sort_slice(ev_200_eigh/2./omega0_arr[-1], evec_200)[:401]\n",
    "\n",
    "lmax_pjl = int(len_mmax//2)\n",
    "dell = lmax_pjl - 200\n",
    "ac1 = Pjl[-1] @ ev_200_V11/Pjl_norm[-1]\n",
    "ac2 = Pjl[-1][:, dell:-dell] @ ev_200_eigh/Pjl_norm[-1]\n",
    "print(ac1*GVARS.OM*1e6)\n",
    "print(ac2*GVARS.OM*1e6)"
   ]
  },
  {
   "cell_type": "code",
   "execution_count": null,
   "metadata": {},
   "outputs": [],
   "source": [
    "def plot_fullmat(mat):\n",
    "    vmax = abs(mat).max()\n",
    "    fig = plt.figure()\n",
    "    plt.imshow(mat, cmap='seismic', vmax=vmax/100000, vmin=-vmax/100000)\n",
    "    return fig\n",
    "\n",
    "fig = plot_fullmat(zMf_dense)\n",
    "fig.show()"
   ]
  },
  {
   "cell_type": "code",
   "execution_count": null,
   "metadata": {},
   "outputs": [],
   "source": [
    "plt.figure()\n",
    "for i in range(5):\n",
    "    plt.semilogy(abs(clp[0, 4, :]), label=i)\n",
    "plt.legend()\n",
    "plt.show()"
   ]
  },
  {
   "cell_type": "markdown",
   "metadata": {},
   "source": [
    "### Comparing supermatrices with the ones constructed using qdPy"
   ]
  },
  {
   "cell_type": "code",
   "execution_count": 5,
   "metadata": {},
   "outputs": [
    {
     "data": {
      "image/png": "[encoded data removed]",
      "text/plain": [
       "<Figure size 432x288 with 1 Axes>"
      ]
     },
     "metadata": {
      "needs_background": "light"
     },
     "output_type": "display_data"
    },
    {
     "data": {
      "image/png": "[encoded data removed]",
      "text/plain": [
       "<Figure size 432x288 with 1 Axes>"
      ]
     },
     "metadata": {
      "needs_background": "light"
     },
     "output_type": "display_data"
    },
    {
     "name": "stderr",
     "output_type": "stream",
     "text": [
      "WARNING:absl:Compiling prim_fun (139989156217280) for args (ShapedArray(float64[2015,2015]), ShapedArray(int32[2])).\n",
      "WARNING:absl:Compiling prim_fun (139989155600064) for args (ShapedArray(float64[2005,2005]),).\n",
      "WARNING:absl:Compiling ravel (139989155600320) for args (ShapedArray(float64[2005,2005]),).\n",
      "WARNING:absl:Compiling <lambda> (139989153812608) for args (ShapedArray(float64[4020025]), ShapedArray(float64[4020025])).\n",
      "WARNING:absl:Compiling absolute (139989155734848) for args (ShapedArray(float64[4020025]),).\n",
      "WARNING:absl:Compiling prim_fun (139989155860096) for args (ShapedArray(float64[4020025]),).\n",
      "WARNING:absl:Compiling prim_fun (139989152741312) for args (ShapedArray(float64[4020025,1]), ShapedArray(int32[1])).\n",
      "WARNING:absl:Compiling prim_fun (139989156195712) for args (ShapedArray(float64[4020025]),).\n"
     ]
    },
    {
     "data": {
      "image/png": "[encoded data removed]",
      "text/plain": [
       "<Figure size 432x288 with 1 Axes>"
      ]
     },
     "metadata": {
      "needs_background": "light"
     },
     "output_type": "display_data"
    },
    {
     "name": "stderr",
     "output_type": "stream",
     "text": [
      "WARNING:absl:Compiling <lambda> (139992657605632) for args (ShapedArray(float64[2005,2005]), ShapedArray(float64[2005,2005])).\n",
      "WARNING:absl:Compiling absolute (139989155139136) for args (ShapedArray(float64[2005,2005]),).\n",
      "WARNING:absl:Compiling _reduce_max (139992657605056) for args (ShapedArray(float64[2005,2005]),).\n",
      "WARNING:absl:Compiling prim_fun (139992657606464) for args (ShapedArray(float64[], weak_type=True),).\n",
      "WARNING:absl:Compiling prim_fun (139992657607104) for args (ShapedArray(float64[2005,2005]), ShapedArray(float64[])).\n",
      "WARNING:absl:Compiling _reduce_sum (139992654705280) for args (ShapedArray(bool[2005,2005]),).\n"
     ]
    },
    {
     "name": "stdout",
     "output_type": "stream",
     "text": [
      "max diff = 90.982677464581\n",
      "count of diff > 1e-11 = 409\n"
     ]
    },
    {
     "name": "stderr",
     "output_type": "stream",
     "text": [
      "<ipython-input-5-06522c3fd8e5>:32: UserWarning: Matplotlib is currently using module://ipykernel.pylab.backend_inline, which is a non-GUI backend, so cannot show the figure.\n",
      "  fig.show()\n"
     ]
    },
    {
     "data": {
      "image/png": "[encoded data removed]",
      "text/plain": [
       "<Figure size 1080x360 with 6 Axes>"
      ]
     },
     "metadata": {
      "needs_background": "light"
     },
     "output_type": "display_data"
    }
   ],
   "source": [
    "supmat = np.load(\"supmat_qdpt_200.npy\").real\n",
    "matsize = supmat.shape[0]\n",
    "qdpt_diag = np.diag(supmat)\n",
    "plt.figure()\n",
    "plt.plot(zf_diag[:matsize])\n",
    "plt.plot(qdpt_diag, '--r')\n",
    "plt.show()\n",
    "\n",
    "plt.figure()\n",
    "plt.semilogy(abs(zf_diag[:matsize] - qdpt_diag))\n",
    "plt.show()\n",
    "\n",
    "plt.figure()\n",
    "plt.semilogy(abs(zf_dense[:matsize, :matsize].flatten() - supmat.flatten()))\n",
    "plt.show()\n",
    "\n",
    "matdiff = abs(supmat - zf_dense[:matsize, :matsize])\n",
    "thresh = 1e-11\n",
    "print(f\"max diff = {matdiff.max()}\")\n",
    "print(f\"count of diff > {thresh} = {(matdiff>thresh).sum()}\")\n",
    "\n",
    "fig, axs = plt.subplots(ncols=3, figsize=(15, 5))\n",
    "axs = axs.flatten()\n",
    "im1 = axs[0].imshow(zf_dense[:matsize, :matsize])\n",
    "plt.colorbar(im1, ax=axs[0])\n",
    "\n",
    "im2 = axs[1].imshow(supmat)\n",
    "plt.colorbar(im1, ax=axs[1])\n",
    "\n",
    "im2 = axs[2].imshow(zf_dense[:matsize, :matsize] - supmat)\n",
    "plt.colorbar(im2, ax=axs[2])\n",
    "fig.show()\n",
    "\n"
   ]
  },
  {
   "cell_type": "code",
   "execution_count": null,
   "metadata": {},
   "outputs": [],
   "source": []
  },
  {
   "cell_type": "markdown",
   "metadata": {},
   "source": [
    "## Testing out the compare_model function"
   ]
  },
  {
   "cell_type": "code",
   "execution_count": null,
   "metadata": {},
   "outputs": [],
   "source": [
    "mult_idx = -1\n",
    "z0 = param_coeff_M[mult_idx] @ true_params + fixed_part_M[mult_idx]\n",
    "zfull = param_coeff[mult_idx] @ true_params + fixed_part[mult_idx]\n",
    "bkm = param_coeff_bkm @ true_params + fixed_part_bkm\n",
    "\n",
    "for midx in range(nmults):\n",
    "    bkm = jidx_update(bkm, \n",
    "                      jidx[midx, :, :, :],\n",
    "                      -1.0*bkm[midx]/dom_dell_jax[midx])\n",
    "                         \n",
    "clp = get_clp(bkm)[mult_idx]\n",
    "bkm = bkm[mult_idx]\n",
    "                        \n",
    "omegaref = omega0_arr_jax[mult_idx]\n",
    "ell0 = ell0_arr_jax[mult_idx]\n",
    "\n",
    "z1 = zfull/2./omegaref - z0\n",
    "_eigval0mult = get_eig_corr(clp, z0)*GVARS.OM*1e6\n",
    "_eigval1mult = get_eig_corr(clp, z1)*GVARS.OM*1e6\n",
    "_eigval_mult = _eigval0mult + _eigval1mult\n",
    "\n",
    "Pjl_local = Pjl[mult_idx]"
   ]
  },
  {
   "cell_type": "code",
   "execution_count": null,
   "metadata": {},
   "outputs": [],
   "source": [
    "plt.figure()\n",
    "plt.plot(_eigval_mult[-10:], '--r')\n",
    "plt.plot(Pjl_local[0, -10:], 'k')\n",
    "plt.show()\n",
    "\n",
    "plt.figure()\n",
    "plt.plot(_eigval_mult[:10], '--r')\n",
    "plt.plot(Pjl_local[0, :10], 'k')\n",
    "plt.show()"
   ]
  },
  {
   "cell_type": "markdown",
   "metadata": {},
   "source": [
    "### Explicit computation of eigenvalues"
   ]
  },
  {
   "cell_type": "code",
   "execution_count": null,
   "metadata": {},
   "outputs": [],
   "source": [
    "def eigval_sort_slice(eigval, eigvec):\n",
    "    eigbasis_sort = np.zeros(len(eigval), dtype=int)\n",
    "    for i in range(len(eigval)):\n",
    "        eigbasis_sort[i] = np.argmax(abs(eigvec[i]))\n",
    "    return eigval[eigbasis_sort]\n",
    "\n",
    "ell0 = 200\n",
    "omegaref = omega0_arr[-1]\n",
    "supmat = np.load(f\"supmat_qdpt_{ell0}.npy\").real\n",
    "\n",
    "\n",
    "eigvals, eigvecs = np.linalg.eigh(supmat)\n",
    "eigvals = eigval_sort_slice(eigvals, eigvecs)\n",
    "eigvals = eigvals[:2*ell0+1]/2./omegaref*GVARS.OM*1e6\n",
    "\n",
    "supmat2 = zf_dense[:matsize, :matsize]\n",
    "eigvals2, eigvecs2 = np.linalg.eigh(supmat2)\n",
    "eigvals2 = eigval_sort_slice(eigvals2, eigvecs2)\n",
    "eigvals2 = eigvals2[:2*ell0+1]/2./omegaref*GVARS.OM*1e6\n",
    "\n",
    "acoeffs = (Pjl[-1][:, :2*ell0+1] @ eigvals)/Pjl_norm[-1]\n",
    "acoeffs2 = (Pjl[-1][:, :2*ell0+1] @ eigvals2)/Pjl_norm[-1]\n",
    "print(acoeffs)\n",
    "print(acoeffs2)"
   ]
  },
  {
   "cell_type": "code",
   "execution_count": null,
   "metadata": {},
   "outputs": [],
   "source": [
    "supmat"
   ]
  },
  {
   "cell_type": "code",
   "execution_count": null,
   "metadata": {},
   "outputs": [],
   "source": [
    "GVARS.omega0_arr"
   ]
  },
  {
   "cell_type": "code",
   "execution_count": null,
   "metadata": {},
   "outputs": [],
   "source": [
    "np.diag(supmat)[:10]"
   ]
  },
  {
   "cell_type": "code",
   "execution_count": null,
   "metadata": {},
   "outputs": [],
   "source": [
    "Pjl[-1][0, :].max()"
   ]
  },
  {
   "cell_type": "code",
   "execution_count": null,
   "metadata": {},
   "outputs": [],
   "source": [
    "Pjl.shape"
   ]
  },
  {
   "cell_type": "code",
   "execution_count": null,
   "metadata": {},
   "outputs": [],
   "source": [
    "plt.figure()\n",
    "plt.plot(Pjl[-1, 0, :])"
   ]
  },
  {
   "cell_type": "code",
   "execution_count": null,
   "metadata": {},
   "outputs": [],
   "source": []
  }
 ],
 "metadata": {
  "kernelspec": {
   "display_name": "jax-gpu",
   "language": "python",
   "name": "jax-gpu"
  },
  "language_info": {
   "codemirror_mode": {
    "name": "ipython",
    "version": 3
   },
   "file_extension": ".py",
   "mimetype": "text/x-python",
   "name": "python",
   "nbconvert_exporter": "python",
   "pygments_lexer": "ipython3",
   "version": "3.8.10"
  }
 },
 "nbformat": 4,
 "nbformat_minor": 4
}
