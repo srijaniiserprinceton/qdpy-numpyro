{
 "cells": [
  {
   "cell_type": "code",
   "execution_count": 1,
   "metadata": {},
   "outputs": [
    {
     "name": "stdout",
     "output_type": "stream",
     "text": [
      "/mnt/disk2/samarth/qdpy-numpyro\n"
     ]
    }
   ],
   "source": [
    "cd ~/qdpy-numpyro"
   ]
  },
  {
   "cell_type": "code",
   "execution_count": null,
   "metadata": {},
   "outputs": [],
   "source": [
    "%run vorontsov_qdpy/mode_lister.py --nmin 0 --nmax 0 --lmin 200 --lmax 204\n",
    "%run vorontsov_qdpy/precompute_ritzlavely.py\n",
    "%run vorontsov_qdpy/generate_synthetic_eigvals.py --load_mults 1 --knot_num 5 --rth 0.97"
   ]
  },
  {
   "cell_type": "code",
   "execution_count": null,
   "metadata": {},
   "outputs": [],
   "source": [
    "%run vorontsov_qdpy/save_reduced_problem.py\n",
    "%run vorontsov_qdpy/save_reduced_problem_M.py"
   ]
  },
  {
   "cell_type": "code",
   "execution_count": 12,
   "metadata": {},
   "outputs": [
    {
     "name": "stdout",
     "output_type": "stream",
     "text": [
      "[<jaxlib.xla_extension.Device object at 0x7f45a8066a70>, <jaxlib.xla_extension.Device object at 0x7f456019df70>]\n",
      "rth = 0.97\n",
      " ell     |   Model       |    True       |    Diff       | Diff/sigma \n",
      "-----------------------------------------------------------------------\n",
      " 204     |   436.85460   |   436.86286   |    -0.00826   |    -0.23443\n",
      " 204     |    21.95387   |    21.93603   |     0.01784   |     0.38070\n",
      " 204     |    -5.07394   |    -5.06551   |    -0.00842   |    -0.15067\n",
      "-------------------------------------------------------------------\n",
      " 203     |   436.86048   |   436.86848   |    -0.00800   |    -0.22685\n",
      " 203     |    21.95522   |    21.93787   |     0.01734   |     0.37572\n",
      " 203     |    -5.07305   |    -5.06483   |    -0.00822   |    -0.15043\n",
      "-------------------------------------------------------------------\n",
      " 202     |   436.86590   |   436.87411   |    -0.00821   |    -0.23398\n",
      " 202     |    21.95740   |    21.93971   |     0.01770   |     0.39406\n",
      " 202     |    -5.07248   |    -5.06414   |    -0.00834   |    -0.15621\n",
      "-------------------------------------------------------------------\n",
      " 201     |   436.87179   |   436.87975   |    -0.00797   |    -0.22299\n",
      " 201     |    21.95874   |    21.94152   |     0.01721   |     0.37112\n",
      " 201     |    -5.07159   |    -5.06344   |    -0.00814   |    -0.15009\n",
      "-------------------------------------------------------------------\n",
      " 200     |   436.87766   |   436.88539   |    -0.00773   |    -0.21303\n",
      " 200     |    21.96010   |    21.94333   |     0.01677   |     0.35963\n",
      " 200     |    -5.07069   |    -5.06275   |    -0.00794   |    -0.14318\n",
      "-------------------------------------------------------------------\n",
      "Total time taken for 5 modes = 2.066e-02 seconds\n"
     ]
    }
   ],
   "source": [
    "%run vorontsov_qdpy/run_reduced_problem_model.py --warmup 100 --chain_num 5 --maxiter 200"
   ]
  },
  {
   "cell_type": "code",
   "execution_count": 8,
   "metadata": {},
   "outputs": [
    {
     "data": {
      "text/plain": [
       "DeviceArray(-65.85572513, dtype=float64)"
      ]
     },
     "execution_count": 8,
     "metadata": {},
     "output_type": "execute_result"
    }
   ],
   "source": [
    "np.random.rand(5) @ (zfull[0][:, :, 0] @ np.random.rand(5))"
   ]
  },
  {
   "cell_type": "code",
   "execution_count": 4,
   "metadata": {},
   "outputs": [
    {
     "name": "stdout",
     "output_type": "stream",
     "text": [
      "[ 0.43687768  0.02196005 -0.00507067]\n",
      "[ 0.43688539  0.02194333 -0.00506275]\n"
     ]
    }
   ],
   "source": [
    "zfull = param_coeff @ true_params + fixed_part\n",
    "zM = param_coeff_M @ true_params + fixed_part_M\n",
    "bkm = param_coeff_bkm @ true_params + fixed_part_bkm\n",
    "clp = get_clp(bkm)\n",
    "\n",
    "mode_idx = -1\n",
    "clp_200 = clp[mode_idx]\n",
    "\n",
    "zfull_200 = zfull[mode_idx]\n",
    "zM_200 = zM[mode_idx]\n",
    "bkm_200 = bkm[mode_idx]\n",
    "zfull_200_flat = jnp.reshape(zfull_200, (max_nbs*max_nbs*len_mmax), order='F')\n",
    "zM_200_flat = jnp.reshape(zM_200, (max_nbs*max_nbs*len_mmax), order='F')\n",
    "bkm_200_flat = jnp.reshape(bkm_200, (max_nbs*max_nbs*len_mmax), order='F')\n",
    "\n",
    "sparse_idx_200 = sparse_idx[mode_idx]\n",
    "sparseM_idx_200 = sparse_idx_M[mode_idx]\n",
    "\n",
    "sparse_200_flat = jnp.reshape(sparse_idx_200, (max_nbs*max_nbs*len_mmax, 2), order='F')\n",
    "sparseM_200_flat = jnp.reshape(sparseM_idx_200, (max_nbs*max_nbs*len_mmax, 2), order='F')\n",
    "\n",
    "\n",
    "zf_dense = sparse.BCOO((zfull_200_flat, sparse_200_flat), shape=(dim_hyper, dim_hyper)).todense()\n",
    "zMf_dense = sparse.BCOO((zM_200_flat, sparseM_200_flat), shape=(dim_hyper, dim_hyper)).todense()\n",
    "bkm_dense = sparse.BCOO((bkm_200_flat, sparse_200_flat), shape=(dim_hyper, dim_hyper)).todense()\n",
    "zf_diag = np.diag(zf_dense)\n",
    "zMf_diag = np.diag(zMf_dense)\n",
    "\n",
    "ev_200_V11 = np.sum(clp_200.conj() * (zM_200 * clp_200[:, NAX, :]).sum(axis=0), axis=0)\n",
    "\n",
    "supmat = np.load(\"supmat_qdpt_200.npy\").real\n",
    "ev_200_eigh, evec_200 = jnp.linalg.eigh(supmat)\n",
    "ev_200_eigh = eigval_sort_slice(ev_200_eigh/2./omega0_arr[-1], evec_200)[:401]\n",
    "\n",
    "lmax_pjl = int(len_mmax//2)\n",
    "dell = lmax_pjl - 200\n",
    "ac1 = Pjl[-1] @ ev_200_V11/Pjl_norm[-1]\n",
    "ac2 = Pjl[-1][:, dell:-dell] @ ev_200_eigh/Pjl_norm[-1]\n",
    "print(ac1*GVARS.OM*1e6)\n",
    "print(ac2*GVARS.OM*1e6)"
   ]
  },
  {
   "cell_type": "code",
   "execution_count": null,
   "metadata": {},
   "outputs": [],
   "source": [
    "abs(ev_200_V11[dell:-dell] - ev_200_eigh).max()*1000/200"
   ]
  },
  {
   "cell_type": "code",
   "execution_count": null,
   "metadata": {},
   "outputs": [],
   "source": [
    "def plot_fullmat(mat):\n",
    "    vmax = abs(mat).max()\n",
    "    fig = plt.figure()\n",
    "    plt.imshow(mat, cmap='seismic', vmax=vmax/100000, vmin=-vmax/100000)\n",
    "    return fig\n",
    "\n",
    "fig = plot_fullmat(zMf_dense)\n",
    "fig.show()"
   ]
  },
  {
   "cell_type": "code",
   "execution_count": null,
   "metadata": {},
   "outputs": [],
   "source": [
    "plt.figure()\n",
    "for i in range(5):\n",
    "    plt.semilogy(abs(clp[0, 4, :]), label=i)\n",
    "plt.legend()\n",
    "plt.show()"
   ]
  },
  {
   "cell_type": "markdown",
   "metadata": {},
   "source": [
    "### Comparing supermatrices with the ones constructed using qdPy"
   ]
  },
  {
   "cell_type": "code",
   "execution_count": null,
   "metadata": {},
   "outputs": [],
   "source": [
    "supmat = np.load(\"supmat_qdpt_200.npy\").real\n",
    "matsize = supmat.shape[0]\n",
    "qdpt_diag = np.diag(supmat)\n",
    "plt.figure()\n",
    "plt.plot(zf_diag[:matsize])\n",
    "plt.plot(qdpt_diag, '--r')\n",
    "plt.show()\n",
    "\n",
    "plt.figure()\n",
    "plt.semilogy(abs(zf_diag[:matsize] - qdpt_diag))\n",
    "plt.show()\n",
    "\n",
    "plt.figure()\n",
    "plt.semilogy(abs(zf_dense[:matsize, :matsize].flatten() - supmat.flatten()))\n",
    "plt.show()\n",
    "\n",
    "matdiff = abs(supmat - zf_dense[:matsize, :matsize])\n",
    "thresh = 1e-11\n",
    "print(f\"max diff = {matdiff.max()}\")\n",
    "print(f\"count of diff > {thresh} = {(matdiff>thresh).sum()}\")\n",
    "\n",
    "fig, axs = plt.subplots(ncols=3, figsize=(15, 5))\n",
    "axs = axs.flatten()\n",
    "im1 = axs[0].imshow(zf_dense[:matsize, :matsize])\n",
    "plt.colorbar(im1, ax=axs[0])\n",
    "\n",
    "im2 = axs[1].imshow(supmat)\n",
    "plt.colorbar(im1, ax=axs[1])\n",
    "\n",
    "im2 = axs[2].imshow(zf_dense[:matsize, :matsize] - supmat)\n",
    "plt.colorbar(im2, ax=axs[2])\n",
    "fig.show()\n",
    "\n"
   ]
  },
  {
   "cell_type": "code",
   "execution_count": null,
   "metadata": {},
   "outputs": [],
   "source": []
  },
  {
   "cell_type": "markdown",
   "metadata": {},
   "source": [
    "## Testing out the compare_model function"
   ]
  },
  {
   "cell_type": "code",
   "execution_count": null,
   "metadata": {},
   "outputs": [],
   "source": [
    "mult_idx = -1\n",
    "z0 = param_coeff_M[mult_idx] @ true_params + fixed_part_M[mult_idx]\n",
    "zfull = param_coeff[mult_idx] @ true_params + fixed_part[mult_idx]\n",
    "bkm = param_coeff_bkm @ true_params + fixed_part_bkm\n",
    "\n",
    "for midx in range(nmults):\n",
    "    bkm = jidx_update(bkm, \n",
    "                      jidx[midx, :, :, :],\n",
    "                      -1.0*bkm[midx]/dom_dell_jax[midx])\n",
    "                         \n",
    "clp = get_clp(bkm)[mult_idx]\n",
    "bkm = bkm[mult_idx]\n",
    "                        \n",
    "omegaref = omega0_arr_jax[mult_idx]\n",
    "ell0 = ell0_arr_jax[mult_idx]\n",
    "\n",
    "z1 = zfull/2./omegaref - z0\n",
    "_eigval0mult = get_eig_corr(clp, z0)*GVARS.OM*1e6\n",
    "_eigval1mult = get_eig_corr(clp, z1)*GVARS.OM*1e6\n",
    "_eigval_mult = _eigval0mult + _eigval1mult\n",
    "\n",
    "Pjl_local = Pjl[mult_idx]"
   ]
  },
  {
   "cell_type": "code",
   "execution_count": null,
   "metadata": {},
   "outputs": [],
   "source": [
    "plt.figure()\n",
    "plt.plot(_eigval_mult[-10:], '--r')\n",
    "plt.plot(Pjl_local[0, -10:], 'k')\n",
    "plt.show()\n",
    "\n",
    "plt.figure()\n",
    "plt.plot(_eigval_mult[:10], '--r')\n",
    "plt.plot(Pjl_local[0, :10], 'k')\n",
    "plt.show()"
   ]
  },
  {
   "cell_type": "markdown",
   "metadata": {},
   "source": [
    "### Explicit computation of eigenvalues"
   ]
  },
  {
   "cell_type": "code",
   "execution_count": null,
   "metadata": {},
   "outputs": [],
   "source": [
    "def eigval_sort_slice(eigval, eigvec):\n",
    "    eigbasis_sort = np.zeros(len(eigval), dtype=int)\n",
    "    for i in range(len(eigval)):\n",
    "        eigbasis_sort[i] = np.argmax(abs(eigvec[i]))\n",
    "    return eigval[eigbasis_sort]\n",
    "\n",
    "ell0 = 200\n",
    "omegaref = omega0_arr[-1]\n",
    "supmat = np.load(f\"supmat_qdpt_{ell0}.npy\").real\n",
    "\n",
    "\n",
    "eigvals, eigvecs = np.linalg.eigh(supmat)\n",
    "eigvals = eigval_sort_slice(eigvals, eigvecs)\n",
    "eigvals = eigvals[:2*ell0+1]/2./omegaref*GVARS.OM*1e6\n",
    "\n",
    "supmat2 = zf_dense[:matsize, :matsize]\n",
    "eigvals2, eigvecs2 = np.linalg.eigh(supmat2)\n",
    "eigvals2 = eigval_sort_slice(eigvals2, eigvecs2)\n",
    "eigvals2 = eigvals2[:2*ell0+1]/2./omegaref*GVARS.OM*1e6\n",
    "\n",
    "acoeffs = (Pjl[-1][:, :2*ell0+1] @ eigvals)/Pjl_norm[-1]\n",
    "acoeffs2 = (Pjl[-1][:, :2*ell0+1] @ eigvals2)/Pjl_norm[-1]\n",
    "print(acoeffs)\n",
    "print(acoeffs2)"
   ]
  },
  {
   "cell_type": "code",
   "execution_count": null,
   "metadata": {},
   "outputs": [],
   "source": [
    "supmat"
   ]
  },
  {
   "cell_type": "code",
   "execution_count": null,
   "metadata": {},
   "outputs": [],
   "source": [
    "GVARS.omega0_arr"
   ]
  },
  {
   "cell_type": "code",
   "execution_count": null,
   "metadata": {},
   "outputs": [],
   "source": [
    "np.diag(supmat)[:10]"
   ]
  },
  {
   "cell_type": "code",
   "execution_count": null,
   "metadata": {},
   "outputs": [],
   "source": [
    "Pjl[-1][0, :].max()"
   ]
  },
  {
   "cell_type": "code",
   "execution_count": null,
   "metadata": {},
   "outputs": [],
   "source": [
    "Pjl.shape"
   ]
  },
  {
   "cell_type": "code",
   "execution_count": null,
   "metadata": {},
   "outputs": [],
   "source": [
    "plt.figure()\n",
    "plt.plot(Pjl[-1, 0, :])"
   ]
  },
  {
   "cell_type": "code",
   "execution_count": null,
   "metadata": {},
   "outputs": [],
   "source": []
  }
 ],
 "metadata": {
  "kernelspec": {
   "display_name": "jax-gpu",
   "language": "python",
   "name": "jax-gpu"
  },
  "language_info": {
   "codemirror_mode": {
    "name": "ipython",
    "version": 3
   },
   "file_extension": ".py",
   "mimetype": "text/x-python",
   "name": "python",
   "nbconvert_exporter": "python",
   "pygments_lexer": "ipython3",
   "version": "3.8.10"
  }
 },
 "nbformat": 4,
 "nbformat_minor": 4
}
