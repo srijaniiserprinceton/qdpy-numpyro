{
 "cells": [
  {
   "cell_type": "code",
   "execution_count": 1,
   "metadata": {},
   "outputs": [
    {
     "name": "stdout",
     "output_type": "stream",
     "text": [
      "/mnt/disk2/samarth/qdpy-numpyro\n"
     ]
    }
   ],
   "source": [
    "cd ~/qdpy-numpyro"
   ]
  },
  {
   "cell_type": "code",
   "execution_count": 2,
   "metadata": {},
   "outputs": [
    {
     "name": "stdout",
     "output_type": "stream",
     "text": [
      "rth = 0.9\n",
      "[[  0 200]\n",
      " [  0 201]\n",
      " [  0 202]\n",
      " [  0 203]\n",
      " [  0 204]]\n",
      "Total multiplets: 5\n",
      "rth = 0.97\n",
      "rth = 0.97\n"
     ]
    },
    {
     "name": "stderr",
     "output_type": "stream",
     "text": [
      "nmult: 100%|██████████| 5/5 [00:01<00:00,  3.00it/s]\n"
     ]
    },
    {
     "name": "stdout",
     "output_type": "stream",
     "text": [
      "0 (2045, 2045)\n",
      "1 (2045, 2045)\n",
      "2 (2045, 2045)\n",
      "3 (2045, 2045)\n",
      "4 (2045, 2045)\n",
      "num elements = 10225\n",
      "rth = 0.97\n",
      "Generating the Ritzwoller-Lavely polynomials for ell = 204 and jmax = 5\n",
      "Generating the Ritzwoller-Lavely polynomials for ell = 203 and jmax = 5\n",
      "Generating the Ritzwoller-Lavely polynomials for ell = 202 and jmax = 5\n",
      "Generating the Ritzwoller-Lavely polynomials for ell = 201 and jmax = 5\n",
      "Generating the Ritzwoller-Lavely polynomials for ell = 200 and jmax = 5\n",
      "Shape = (5, 6, 409)\n"
     ]
    }
   ],
   "source": [
    "%run vorontsov_qdpy/mode_lister.py --nmin 0 --nmax 0 --lmin 200 --lmax 204\n",
    "%run vorontsov_qdpy/generate_synthetic_eigvals.py --load_mults 1 --knot_num 5 --rth 0.97\n",
    "%run vorontsov_qdpy/precompute_ritzlavely.py"
   ]
  },
  {
   "cell_type": "code",
   "execution_count": 4,
   "metadata": {},
   "outputs": [
    {
     "name": "stdout",
     "output_type": "stream",
     "text": [
      "rth = 0.97\n"
     ]
    },
    {
     "name": "stderr",
     "output_type": "stream",
     "text": [
      "WARNING:absl:Compiling prim_fun (140219855305344) for args (ShapedArray(int64[4,2]), ShapedArray(int32[2])).\n"
     ]
    },
    {
     "name": "stdout",
     "output_type": "stream",
     "text": [
      "JAX using: cpu\n",
      "rth = 0.97\n"
     ]
    },
    {
     "name": "stderr",
     "output_type": "stream",
     "text": [
      "nmult: 100%|██████████| 5/5 [00:01<00:00,  3.01it/s]\n",
      "WARNING:absl:Compiling prim_fun (140219855505344) for args (ShapedArray(float64[3,9]), ShapedArray(int32[2])).\n"
     ]
    },
    {
     "name": "stdout",
     "output_type": "stream",
     "text": [
      "JAX using: cpu\n",
      "rth = 0.97\n"
     ]
    },
    {
     "name": "stderr",
     "output_type": "stream",
     "text": [
      "nmult: 100%|██████████| 5/5 [00:01<00:00,  2.77it/s]\n"
     ]
    },
    {
     "name": "stdout",
     "output_type": "stream",
     "text": [
      "param_coeff = (3, 4, 5, 5, 5, 417)\n",
      "cind_arr = [0 1 2 3]\n",
      "[<jaxlib.xla_extension.Device object at 0x7f877aec94b0>]\n",
      "rth = 0.97\n"
     ]
    },
    {
     "name": "stderr",
     "output_type": "stream",
     "text": [
      "WARNING:absl:Compiling prim_fun (140220684110144) for args (ShapedArray(int64[5]), ShapedArray(float64[10225]), ShapedArray(float64[5,3,417]), ShapedArray(float64[5,3]), ShapedArray(int64[], weak_type=True), ShapedArray(float64[15])).\n",
      "WARNING:absl:Compiling compare_model (140220684109760) for args ().\n"
     ]
    },
    {
     "name": "stdout",
     "output_type": "stream",
     "text": [
      "acoeffs model = \n",
      " [ 0.85671159  0.02168696 -0.04940278  0.8518522   0.01050335 -0.06632126\n",
      "  0.8525925   0.01233055 -0.06293354  0.85092789  0.00885238 -0.067018\n",
      "  0.84975287  0.00690389 -0.06762433]\n",
      "acoeffs true = \n",
      " [ 0.4367707   0.0219629  -0.00421433  0.4367803   0.0219342  -0.00427259\n",
      "  0.4367135   0.0220458  -0.00433568  0.4367955   0.022082   -0.00427108\n",
      "  0.436727    0.0220257  -0.0043986 ]\n",
      "\n",
      " diff = \n",
      " [ 4.19940893e-01 -2.75935964e-04 -4.51884468e-02  4.15071903e-01\n",
      " -1.14308459e-02 -6.20486717e-02  4.15879005e-01 -9.71525272e-03\n",
      " -5.85978632e-02  4.14132386e-01 -1.32296155e-02 -6.27469234e-02\n",
      "  4.13025866e-01 -1.51218054e-02 -6.32257285e-02]\n",
      "\n",
      " diff/sigma = \n",
      " [ 1.19245494e+04 -5.88841769e+00 -8.08200807e+02  1.17678118e+04\n",
      " -2.47630482e+02 -1.13506298e+03  1.18470884e+04 -2.16349319e+02\n",
      " -1.09791395e+03  1.15927483e+04 -2.85248279e+02 -1.15680230e+03\n",
      "  1.13762113e+04 -3.24316441e+02 -1.13954521e+03]\n",
      "Total time taken for 5 modes = 1.818e-02 seconds\n"
     ]
    }
   ],
   "source": [
    "%run vorontsov_qdpy/save_reduced_problem.py\n",
    "%run vorontsov_qdpy/save_reduced_problem_M.py\n",
    "%run vorontsov_qdpy/run_reduced_problem_model.py"
   ]
  },
  {
   "cell_type": "code",
   "execution_count": null,
   "metadata": {},
   "outputs": [],
   "source": []
  },
  {
   "cell_type": "code",
   "execution_count": 5,
   "metadata": {},
   "outputs": [
    {
     "name": "stderr",
     "output_type": "stream",
     "text": [
      "WARNING:absl:Compiling _linspace (140223168670976) for args (ShapedArray(int64[], weak_type=True), ShapedArray(float64[], weak_type=True)).\n",
      "WARNING:absl:Compiling prim_fun (140219853519552) for args (ShapedArray(float64[]),).\n",
      "WARNING:absl:Compiling prim_fun (140223143806400) for args (ShapedArray(float64[5,5,5,417]), ShapedArray(float64[25]), ShapedArray(float64[5,5,5,417]), ShapedArray(float64[5,5,5,417]), ShapedArray(float64[5,5,417]), ShapedArray(int64[], weak_type=True), ShapedArray(float64[5,5,417,25])).\n",
      "WARNING:absl:Compiling trapz (140223168731072) for args (ShapedArray(float64[5,5,417,25]), ShapedArray(float64[25])).\n",
      "WARNING:absl:Compiling true_divide (140223143796800) for args (ShapedArray(float64[5,5,417]), ShapedArray(float64[], weak_type=True)).\n",
      "WARNING:absl:Compiling prim_fun (140223137704832) for args (ShapedArray(float64[5,5,5,417]), ShapedArray(int32[1])).\n",
      "WARNING:absl:Compiling prim_fun (140223137789504) for args (ShapedArray(float64[5,5,417]),).\n",
      "WARNING:absl:Compiling prim_fun (140223137563392) for args (ShapedArray(float64[5,5,417]),).\n",
      "WARNING:absl:Compiling prim_fun (140219858720896) for args (ShapedArray(int64[5,5,5,417,2]), ShapedArray(int32[1])).\n",
      "WARNING:absl:Compiling prim_fun (140219858720896) for args (ShapedArray(int64[5,5,417,2]),).\n",
      "WARNING:absl:Compiling prim_fun (140223137706880) for args (ShapedArray(int64[5,5,417,2]),).\n",
      "WARNING:absl:Compiling prim_fun (140223137796544) for args (ShapedArray(int64[2,10425]),).\n",
      "WARNING:absl:Compiling todense (140219858756736) for args (ShapedArray(float64[10425]), ShapedArray(int64[10425,2])).\n",
      "WARNING:absl:Compiling prim_fun (140219858824960) for args (ShapedArray(int64[10425,2]),).\n"
     ]
    }
   ],
   "source": [
    "zfull = param_coeff @ true_params + fixed_part\n",
    "zM = param_coeff_M @ true_params + fixed_part_M\n",
    "bkm = param_coeff_bkm @ true_params + fixed_part_bkm\n",
    "clp = get_clp(bkm)\n",
    "\n",
    "zfull_200 = zfull[-1]\n",
    "zM_200 = zM[-1]\n",
    "bkm_200 = bkm[-1]\n",
    "zfull_200_flat = jnp.reshape(zfull_200, (max_nbs*max_nbs*len_mmax), order='F')\n",
    "zM_200_flat = jnp.reshape(zM_200, (max_nbs*max_nbs*len_mmax), order='F')\n",
    "bkm_200_flat = jnp.reshape(bkm_200, (max_nbs*max_nbs*len_mmax), order='F')\n",
    "\n",
    "sparse_idx_200 = sparse_idx[-1]\n",
    "sparseM_idx_200 = sparse_idx_M[-1]\n",
    "\n",
    "sparse_200_flat = jnp.reshape(sparse_idx_200, (max_nbs*max_nbs*len_mmax, 2), order='F')\n",
    "sparseM_200_flat = jnp.reshape(sparseM_idx_200, (max_nbs*max_nbs*len_mmax, 2), order='F')\n",
    "\n",
    "\n",
    "zf_dense = sparse.BCOO((zfull_200_flat, sparse_200_flat), shape=(dim_hyper, dim_hyper)).todense()\n",
    "zMf_dense = sparse.BCOO((zM_200_flat, sparseM_200_flat), shape=(dim_hyper, dim_hyper)).todense()\n",
    "bkm_dense = sparse.BCOO((bkm_200_flat, sparse_200_flat), shape=(dim_hyper, dim_hyper)).todense()\n",
    "zf_diag = np.diag(zf_dense)\n",
    "zMf_diag = np.diag(zMf_dense)\n"
   ]
  },
  {
   "cell_type": "code",
   "execution_count": 6,
   "metadata": {},
   "outputs": [
    {
     "name": "stderr",
     "output_type": "stream",
     "text": [
      "WARNING:absl:Compiling absolute (140223137675648) for args (ShapedArray(float64[2045,2045]),).\n",
      "WARNING:absl:Compiling _reduce_max (140219853200192) for args (ShapedArray(float64[2045,2045]),).\n",
      "WARNING:absl:Compiling <lambda> (140219853519808) for args (ShapedArray(float64[]),).\n",
      "<ipython-input-6-26c8ba9a96d6>:8: UserWarning: Matplotlib is currently using module://ipykernel.pylab.backend_inline, which is a non-GUI backend, so cannot show the figure.\n",
      "  fig.show()\n"
     ]
    },
    {
     "data": {
      "image/png": "[encoded data removed]",
      "text/plain": [
       "<Figure size 432x288 with 1 Axes>"
      ]
     },
     "metadata": {
      "needs_background": "light"
     },
     "output_type": "display_data"
    }
   ],
   "source": [
    "def plot_fullmat(mat):\n",
    "    vmax = abs(mat).max()\n",
    "    fig = plt.figure()\n",
    "    plt.imshow(mat, cmap='seismic', vmax=vmax/100000, vmin=-vmax/100000)\n",
    "    return fig\n",
    "\n",
    "fig = plot_fullmat(bkm_dense)\n",
    "fig.show()"
   ]
  },
  {
   "cell_type": "code",
   "execution_count": null,
   "metadata": {},
   "outputs": [],
   "source": [
    "plt.figure()\n",
    "for i in range(5):\n",
    "    plt.plot(clp[-1, 0, :], label=i)\n",
    "plt.legend()\n",
    "plt.show()"
   ]
  },
  {
   "cell_type": "code",
   "execution_count": null,
   "metadata": {},
   "outputs": [],
   "source": [
    "p_arr[:, :, 22]"
   ]
  },
  {
   "cell_type": "code",
   "execution_count": null,
   "metadata": {},
   "outputs": [],
   "source": [
    "supmat = np.load(\"supmat_qdpt_200.npy\").real\n",
    "qdpt_diag = np.diag(supmat)\n",
    "plt.figure()\n",
    "plt.plot(zf_diag[:2005])\n",
    "plt.plot(qdpt_diag, '--r')\n",
    "plt.show()\n",
    "\n",
    "plt.figure()\n",
    "plt.semilogy(abs(zf_diag[:2005] - qdpt_diag))\n",
    "plt.show()\n",
    "\n",
    "matdiff = abs(supmat - zf_dense[:2005, :2005])\n",
    "thresh = 1e-11\n",
    "print(f\"max diff = {matdiff.max()}\")\n",
    "print(f\"count of diff > {thresh} = {(matdiff>thresh).sum()}\")\n",
    "\n",
    "fig, axs = plt.subplots(ncols=3, figsize=(15, 5))\n",
    "axs = axs.flatten()\n",
    "im1 = axs[0].imshow(zf_dense[:2005, :2005])\n",
    "plt.colorbar(im1, ax=axs[0])\n",
    "\n",
    "im2 = axs[1].imshow(supmat)\n",
    "plt.colorbar(im1, ax=axs[1])\n",
    "\n",
    "im2 = axs[2].imshow(zf_dense[:2005, :2005] - supmat)\n",
    "plt.colorbar(im2, ax=axs[2])\n",
    "fig.show()"
   ]
  }
 ],
 "metadata": {
  "kernelspec": {
   "display_name": "jax-gpu",
   "language": "python",
   "name": "jax-gpu"
  },
  "language_info": {
   "codemirror_mode": {
    "name": "ipython",
    "version": 3
   },
   "file_extension": ".py",
   "mimetype": "text/x-python",
   "name": "python",
   "nbconvert_exporter": "python",
   "pygments_lexer": "ipython3",
   "version": "3.8.10"
  }
 },
 "nbformat": 4,
 "nbformat_minor": 4
}
