{
 "cells": [
  {
   "cell_type": "code",
   "execution_count": 1,
   "metadata": {},
   "outputs": [
    {
     "name": "stdout",
     "output_type": "stream",
     "text": [
      "/mnt/disk2/samarth/qdpy-numpyro\n"
     ]
    }
   ],
   "source": [
    "cd ~/qdpy-numpyro"
   ]
  },
  {
   "cell_type": "code",
   "execution_count": 2,
   "metadata": {},
   "outputs": [
    {
     "name": "stdout",
     "output_type": "stream",
     "text": [
      "rth = 0.9\n",
      "[[ 5 60]\n",
      " [ 5 61]\n",
      " [ 5 62]\n",
      " [ 5 63]\n",
      " [ 5 64]]\n",
      "Total multiplets: 5\n",
      "rth = 0.97\n",
      "Generating the Ritzwoller-Lavely polynomials for ell = 64 and jmax = 5\n",
      "Generating the Ritzwoller-Lavely polynomials for ell = 63 and jmax = 5\n",
      "Generating the Ritzwoller-Lavely polynomials for ell = 62 and jmax = 5\n",
      "Generating the Ritzwoller-Lavely polynomials for ell = 61 and jmax = 5\n",
      "Generating the Ritzwoller-Lavely polynomials for ell = 60 and jmax = 5\n",
      "Shape = (5, 6, 129)\n",
      "rth = 0.97\n",
      "rth = 0.97\n"
     ]
    },
    {
     "name": "stderr",
     "output_type": "stream",
     "text": [
      "nmult: 100%|██████████| 5/5 [00:00<00:00,  7.96it/s]\n"
     ]
    },
    {
     "name": "stdout",
     "output_type": "stream",
     "text": [
      "num elements = 3225\n"
     ]
    }
   ],
   "source": [
    "%run vorontsov_qdpy/mode_lister.py --nmin 5 --nmax 5 --lmin 60 --lmax 64\n",
    "%run vorontsov_qdpy/precompute_ritzlavely.py\n",
    "%run vorontsov_qdpy/generate_synthetic_eigvals.py --load_mults 1 --knot_num 5 --rth 0.97"
   ]
  },
  {
   "cell_type": "code",
   "execution_count": 3,
   "metadata": {},
   "outputs": [
    {
     "name": "stdout",
     "output_type": "stream",
     "text": [
      "rth = 0.97\n"
     ]
    },
    {
     "name": "stderr",
     "output_type": "stream",
     "text": [
      "WARNING:absl:Compiling prim_fun (140486640196544) for args (ShapedArray(int64[4,2]), ShapedArray(int32[2])).\n"
     ]
    },
    {
     "name": "stdout",
     "output_type": "stream",
     "text": [
      "JAX using: cpu\n",
      "rth = 0.97\n"
     ]
    },
    {
     "name": "stderr",
     "output_type": "stream",
     "text": [
      "WARNING:absl:Compiling prim_fun (140486672947456) for args (ShapedArray(float64[3225]),).\n",
      "WARNING:absl:Compiling prim_fun (140486677786880) for args (ShapedArray(float64[625]),).\n",
      "WARNING:absl:Compiling prim_fun (140486663826048) for args (ShapedArray(float64[15]),).\n",
      "nmult: 100%|██████████| 5/5 [00:00<00:00,  7.34it/s]\n",
      "WARNING:absl:Compiling prim_fun (140486657417920) for args (ShapedArray(float64[3,9]),).\n",
      "WARNING:absl:Compiling prim_fun (140486654716992) for args (ShapedArray(float64[3,9]), ShapedArray(int32[2])).\n",
      "WARNING:absl:Compiling prim_fun (140486657420800) for args (ShapedArray(float64[3425]),).\n",
      "WARNING:absl:Compiling prim_fun (140486655066048) for args (ShapedArray(int64[3425,2]),).\n",
      "WARNING:absl:Compiling todense (140486655062720) for args (ShapedArray(float64[3425]), ShapedArray(int64[3425,2])).\n"
     ]
    },
    {
     "name": "stdout",
     "output_type": "stream",
     "text": [
      "(5, 3425)\n",
      "(5, 3425, 2)\n",
      "[-0.030455   -0.00126405 -0.07679451 -0.03130332 -0.0087903  -0.08998194\n",
      "  0.00319551  0.01347499 -0.03106697 -0.00345289  0.02295232 -0.02736546\n",
      " -0.01407185  0.03607555 -0.01466213]\n",
      "rth = 0.97\n",
      "rth = 0.97\n",
      "JAX using: cpu\n",
      "rth = 0.97\n"
     ]
    },
    {
     "name": "stderr",
     "output_type": "stream",
     "text": [
      "nmult: 100%|██████████| 5/5 [00:00<00:00,  6.47it/s]"
     ]
    },
    {
     "name": "stdout",
     "output_type": "stream",
     "text": [
      "param_coeff = (3, 4, 5, 5, 5, 137)\n",
      "cind_arr = [0 1 2 3]\n"
     ]
    },
    {
     "name": "stderr",
     "output_type": "stream",
     "text": [
      "\n"
     ]
    }
   ],
   "source": [
    "%run vorontsov_qdpy/save_reduced_problem.py\n",
    "%run vorontsov_qdpy/save_reduced_problem_M.py"
   ]
  },
  {
   "cell_type": "code",
   "execution_count": 4,
   "metadata": {},
   "outputs": [
    {
     "name": "stdout",
     "output_type": "stream",
     "text": [
      "[<jaxlib.xla_extension.Device object at 0x7fc4d0741bb0>]\n",
      "rth = 0.97\n"
     ]
    },
    {
     "name": "stderr",
     "output_type": "stream",
     "text": [
      "WARNING:absl:Compiling prim_fun (140486660128448) for args (ShapedArray(float64[5,3,137]),).\n",
      "WARNING:absl:Compiling prim_fun (140486660125504) for args (ShapedArray(float64[5,3]),).\n",
      "WARNING:absl:Compiling prim_fun (140486651741440) for args (ShapedArray(float64[5,3,645]),).\n",
      "WARNING:absl:Compiling prim_fun (140486651454976) for args (ShapedArray(float64[2,4]),).\n",
      "WARNING:absl:Compiling prim_fun (140486660773376) for args (ShapedArray(float64[2,4,5,5,5,137]),).\n",
      "WARNING:absl:Compiling prim_fun (140486660773568) for args (ShapedArray(float64[5,5,5,137]),).\n",
      "WARNING:absl:Compiling prim_fun (140486660774016) for args (ShapedArray(int64[5,5,5,137,2]),).\n",
      "WARNING:absl:Compiling prim_fun (140486660774016) for args (ShapedArray(int64[5]),).\n",
      "WARNING:absl:Compiling prim_fun (140486651548544) for args (ShapedArray(float64[5]),).\n",
      "WARNING:absl:Compiling prim_fun (140486651781056) for args (ShapedArray(float64[2,4]),).\n",
      "WARNING:absl:Compiling prim_fun (140486651833280) for args (ShapedArray(float64[2,4,5,5,5,137]),).\n",
      "WARNING:absl:Compiling prim_fun (140486651781056) for args (ShapedArray(float64[137,5,5,5,8]),).\n",
      "WARNING:absl:Compiling _moveaxis (140486651778944) for args (ShapedArray(float64[8,5,5,5,137]),).\n",
      "WARNING:absl:Compiling prim_fun (140486651753216) for args (ShapedArray(float64[]),).\n",
      "WARNING:absl:Compiling prim_fun (140486660774976) for args (ShapedArray(float64[]),).\n",
      "WARNING:absl:Compiling fn (140486659922816) for args (ShapedArray(float64[8]), ShapedArray(float64[], weak_type=True)).\n",
      "WARNING:absl:Compiling matmul (140486651755392) for args (ShapedArray(float64[5,5,5,137,8]), ShapedArray(float64[8])).\n",
      "WARNING:absl:Compiling fn (140486659922432) for args (ShapedArray(float64[5,5,5,137]), ShapedArray(float64[5,5,5,137])).\n",
      "WARNING:absl:Compiling prim_fun (140486651781056) for args (ShapedArray(float64[]),).\n",
      "WARNING:absl:Compiling prim_fun (140486651791744) for args (ShapedArray(float64[5]), ShapedArray(int64[], weak_type=True), ShapedArray(float64[5,5,5,137])).\n",
      "WARNING:absl:Compiling _linspace (140486651454336) for args (ShapedArray(int64[], weak_type=True), ShapedArray(float64[], weak_type=True)).\n",
      "WARNING:absl:Compiling prim_fun (140486651819328) for args (ShapedArray(float64[]),).\n",
      "WARNING:absl:Compiling prim_fun (140486651730048) for args (ShapedArray(float64[5,5,5,137]), ShapedArray(float64[25]), ShapedArray(float64[5,5,5,137]), ShapedArray(float64[5,5,5,137]), ShapedArray(float64[5,5,1]), ShapedArray(int64[], weak_type=True), ShapedArray(float64[5,5,137,25])).\n",
      "WARNING:absl:Compiling trapz (140486660665728) for args (ShapedArray(float64[5,5,137,25]), ShapedArray(float64[25])).\n",
      "WARNING:absl:Compiling true_divide (140486651157376) for args (ShapedArray(float64[5,5,137]), ShapedArray(float64[], weak_type=True)).\n",
      "WARNING:absl:Compiling prim_fun (140486651583808) for args (ShapedArray(int64[5]), ShapedArray(float64[5]), ShapedArray(float64[5,5,5,137]), ShapedArray(float64[5,5,5,137]), ShapedArray(float64[5,5,137]), ShapedArray(float64[5,3,137]), ShapedArray(float64[5,3]), ShapedArray(int64[], weak_type=True), ShapedArray(float64[15])).\n",
      "WARNING:absl:Compiling prim_fun (140486651131776) for args (ShapedArray(int64[5]), ShapedArray(float64[5]), ShapedArray(float64[5,5,5,137]), ShapedArray(int64[5,5,5,137,2]), ShapedArray(float64[5,3,645]), ShapedArray(float64[5,3]), ShapedArray(int64[], weak_type=True), ShapedArray(float64[15])).\n",
      "WARNING:absl:Compiling <lambda> (140486651157376) for args (ShapedArray(float64[15]), ShapedArray(float64[15])).\n",
      "WARNING:absl:Compiling prim_fun (140486659760448) for args (ShapedArray(int64[5]), ShapedArray(int32[1])).\n",
      "WARNING:absl:Compiling prim_fun (140486665409792) for args (ShapedArray(float64[15]), ShapedArray(int32[1])).\n",
      "WARNING:absl:Compiling fn (140486651122816) for args (ShapedArray(float64[]), ShapedArray(float64[], weak_type=True)).\n",
      "WARNING:absl:Compiling true_divide (140486660042368) for args (ShapedArray(float64[]), ShapedArray(float64[])).\n"
     ]
    },
    {
     "name": "stdout",
     "output_type": "stream",
     "text": [
      " ell     |   Model       |    True       |    Diff       | Diff/sigma \n",
      "-----------------------------------------------------------------------\n",
      "  64     |   442.36838   |   442.60370   |    -0.23532   |    -1.01322\n",
      "  64     |    22.02709   |    21.07060   |     0.95649   |     3.33918\n",
      "  64     |    -4.62881   |    -3.64488   |    -0.98393   |    -3.11958\n",
      "-------------------------------------------------------------------\n",
      "  63     |   442.35145   |   442.32790   |     0.02355   |     0.10048\n",
      "  63     |    22.00793   |    21.79770   |     0.21023   |     0.71282\n",
      "  63     |    -4.61272   |    -3.54345   |    -1.06927   |    -3.32449\n",
      "-------------------------------------------------------------------\n",
      "  62     |   442.33299   |   442.45680   |    -0.12381   |    -0.51804\n",
      "  62     |    21.98821   |    22.12750   |    -0.13929   |    -0.47229\n",
      "  62     |    -4.59629   |    -2.97897   |    -1.61732   |    -5.00236\n",
      "-------------------------------------------------------------------\n",
      "  61     |   442.31287   |   441.97870   |     0.33417   |     1.39441\n",
      "  61     |    21.96791   |    21.51130   |     0.45661   |     1.51986\n",
      "  61     |    -4.57954   |    -3.66676   |    -0.91278   |    -2.79674\n",
      "-------------------------------------------------------------------\n",
      "  60     |   442.29091   |   442.27390   |     0.01701   |     0.07159\n",
      "  60     |    21.94703   |    21.73490   |     0.21213   |     0.70690\n",
      "  60     |    -4.56246   |    -3.33701   |    -1.22545   |    -3.74881\n",
      "-------------------------------------------------------------------\n"
     ]
    },
    {
     "name": "stderr",
     "output_type": "stream",
     "text": [
      "WARNING:absl:Compiling compare_model (140486651145472) for args ().\n"
     ]
    },
    {
     "ename": "AttributeError",
     "evalue": "'tuple' object has no attribute 'sum'",
     "output_type": "error",
     "traceback": [
      "\u001b[0;31m---------------------------------------------------------------------------\u001b[0m",
      "\u001b[0;31mAttributeError\u001b[0m                            Traceback (most recent call last)",
      "\u001b[0;32m~/qdpy-numpyro/vorontsov_qdpy/run_reduced_problem_model.py\u001b[0m in \u001b[0;36m<module>\u001b[0;34m\u001b[0m\n\u001b[1;32m    420\u001b[0m \u001b[0;34m\u001b[0m\u001b[0m\n\u001b[1;32m    421\u001b[0m \u001b[0;32mif\u001b[0m \u001b[0m__name__\u001b[0m \u001b[0;34m==\u001b[0m \u001b[0;34m\"__main__\"\u001b[0m\u001b[0;34m:\u001b[0m\u001b[0;34m\u001b[0m\u001b[0;34m\u001b[0m\u001b[0m\n\u001b[0;32m--> 422\u001b[0;31m     \u001b[0mtest_setup\u001b[0m\u001b[0;34m(\u001b[0m\u001b[0;34m)\u001b[0m\u001b[0;34m\u001b[0m\u001b[0;34m\u001b[0m\u001b[0m\n\u001b[0m\u001b[1;32m    423\u001b[0m \u001b[0;34m\u001b[0m\u001b[0m\n\u001b[1;32m    424\u001b[0m     \u001b[0;31m# Start from this source of randomness. We will split keys for subsequent operations.\u001b[0m\u001b[0;34m\u001b[0m\u001b[0;34m\u001b[0m\u001b[0;34m\u001b[0m\u001b[0m\n",
      "\u001b[0;32m~/qdpy-numpyro/vorontsov_qdpy/run_reduced_problem_model.py\u001b[0m in \u001b[0;36mtest_setup\u001b[0;34m()\u001b[0m\n\u001b[1;32m    414\u001b[0m     \u001b[0;32mfor\u001b[0m \u001b[0mi\u001b[0m \u001b[0;32min\u001b[0m \u001b[0mrange\u001b[0m\u001b[0;34m(\u001b[0m\u001b[0mN\u001b[0m\u001b[0;34m)\u001b[0m\u001b[0;34m:\u001b[0m\u001b[0;34m\u001b[0m\u001b[0;34m\u001b[0m\u001b[0m\n\u001b[1;32m    415\u001b[0m         \u001b[0m_temp\u001b[0m \u001b[0;34m=\u001b[0m \u001b[0mcompare_model_\u001b[0m\u001b[0;34m(\u001b[0m\u001b[0;34m)\u001b[0m\u001b[0;34m\u001b[0m\u001b[0;34m\u001b[0m\u001b[0m\n\u001b[0;32m--> 416\u001b[0;31m         \u001b[0mcount\u001b[0m \u001b[0;34m+=\u001b[0m \u001b[0m_temp\u001b[0m\u001b[0;34m.\u001b[0m\u001b[0msum\u001b[0m\u001b[0;34m(\u001b[0m\u001b[0;34m)\u001b[0m\u001b[0;34m/\u001b[0m\u001b[0mN\u001b[0m\u001b[0;34m\u001b[0m\u001b[0;34m\u001b[0m\u001b[0m\n\u001b[0m\u001b[1;32m    417\u001b[0m     \u001b[0mt2\u001b[0m \u001b[0;34m=\u001b[0m \u001b[0mtime\u001b[0m\u001b[0;34m.\u001b[0m\u001b[0mtime\u001b[0m\u001b[0;34m(\u001b[0m\u001b[0;34m)\u001b[0m\u001b[0;34m\u001b[0m\u001b[0;34m\u001b[0m\u001b[0m\n\u001b[1;32m    418\u001b[0m     \u001b[0mprint\u001b[0m\u001b[0;34m(\u001b[0m\u001b[0;34mf\"Total time taken for {nmults} modes = {(t2-t1)/N:.3e} seconds\"\u001b[0m\u001b[0;34m)\u001b[0m\u001b[0;34m\u001b[0m\u001b[0;34m\u001b[0m\u001b[0m\n",
      "\u001b[0;31mAttributeError\u001b[0m: 'tuple' object has no attribute 'sum'"
     ]
    }
   ],
   "source": [
    "%run vorontsov_qdpy/run_reduced_problem_model.py --warmup 10 --chain_num 5 --maxiter 10"
   ]
  },
  {
   "cell_type": "code",
   "execution_count": null,
   "metadata": {},
   "outputs": [],
   "source": [
    "np.random.rand(5) @ (zfull[0][:, :, 0] @ np.random.rand(5))"
   ]
  },
  {
   "cell_type": "code",
   "execution_count": null,
   "metadata": {},
   "outputs": [],
   "source": [
    "zfull = param_coeff @ true_params + fixed_part\n",
    "zM = param_coeff_M @ true_params + fixed_part_M\n",
    "bkm = param_coeff_bkm @ true_params + fixed_part_bkm\n",
    "clp = get_clp(bkm)\n",
    "\n",
    "mode_idx = -1\n",
    "clp_200 = clp[mode_idx]\n",
    "\n",
    "zfull_200 = zfull[mode_idx]\n",
    "zM_200 = zM[mode_idx]\n",
    "bkm_200 = bkm[mode_idx]\n",
    "zfull_200_flat = jnp.reshape(zfull_200, (max_nbs*max_nbs*len_mmax), order='F')\n",
    "zM_200_flat = jnp.reshape(zM_200, (max_nbs*max_nbs*len_mmax), order='F')\n",
    "bkm_200_flat = jnp.reshape(bkm_200, (max_nbs*max_nbs*len_mmax), order='F')\n",
    "\n",
    "sparse_idx_200 = sparse_idx[mode_idx]\n",
    "sparseM_idx_200 = sparse_idx_M[mode_idx]\n",
    "\n",
    "sparse_200_flat = jnp.reshape(sparse_idx_200, (max_nbs*max_nbs*len_mmax, 2), order='F')\n",
    "sparseM_200_flat = jnp.reshape(sparseM_idx_200, (max_nbs*max_nbs*len_mmax, 2), order='F')\n",
    "\n",
    "\n",
    "zf_dense = sparse.BCOO((zfull_200_flat, sparse_200_flat), shape=(dim_hyper, dim_hyper)).todense()\n",
    "zMf_dense = sparse.BCOO((zM_200_flat, sparseM_200_flat), shape=(dim_hyper, dim_hyper)).todense()\n",
    "bkm_dense = sparse.BCOO((bkm_200_flat, sparse_200_flat), shape=(dim_hyper, dim_hyper)).todense()\n",
    "zf_diag = np.diag(zf_dense)\n",
    "zMf_diag = np.diag(zMf_dense)\n",
    "\n",
    "ev_200_V11 = np.sum(clp_200.conj() * (zM_200 * clp_200[:, NAX, :]).sum(axis=0), axis=0)\n",
    "\n",
    "supmat = np.load(\"supmat_qdpt_200.npy\").real\n",
    "ev_200_eigh, evec_200 = jnp.linalg.eigh(supmat)\n",
    "ev_200_eigh = eigval_sort_slice(ev_200_eigh/2./omega0_arr[-1], evec_200)[:401]\n",
    "\n",
    "lmax_pjl = int(len_mmax//2)\n",
    "dell = lmax_pjl - 200\n",
    "ac1 = Pjl[-1] @ ev_200_V11/Pjl_norm[-1]\n",
    "ac2 = Pjl[-1][:, dell:-dell] @ ev_200_eigh/Pjl_norm[-1]\n",
    "print(ac1*GVARS.OM*1e6)\n",
    "print(ac2*GVARS.OM*1e6)"
   ]
  },
  {
   "cell_type": "code",
   "execution_count": null,
   "metadata": {},
   "outputs": [],
   "source": [
    "abs(ev_200_V11[dell:-dell] - ev_200_eigh).max()*1000/200"
   ]
  },
  {
   "cell_type": "code",
   "execution_count": null,
   "metadata": {},
   "outputs": [],
   "source": [
    "def plot_fullmat(mat):\n",
    "    vmax = abs(mat).max()\n",
    "    fig = plt.figure()\n",
    "    plt.imshow(mat, cmap='seismic', vmax=vmax/100000, vmin=-vmax/100000)\n",
    "    return fig\n",
    "\n",
    "fig = plot_fullmat(zMf_dense)\n",
    "fig.show()"
   ]
  },
  {
   "cell_type": "code",
   "execution_count": null,
   "metadata": {},
   "outputs": [],
   "source": [
    "plt.figure()\n",
    "for i in range(5):\n",
    "    plt.semilogy(abs(clp[0, 4, :]), label=i)\n",
    "plt.legend()\n",
    "plt.show()"
   ]
  },
  {
   "cell_type": "markdown",
   "metadata": {},
   "source": [
    "### Comparing supermatrices with the ones constructed using qdPy"
   ]
  },
  {
   "cell_type": "code",
   "execution_count": null,
   "metadata": {},
   "outputs": [],
   "source": [
    "supmat = np.load(\"supmat_qdpt_200.npy\").real\n",
    "matsize = supmat.shape[0]\n",
    "qdpt_diag = np.diag(supmat)\n",
    "plt.figure()\n",
    "plt.plot(zf_diag[:matsize])\n",
    "plt.plot(qdpt_diag, '--r')\n",
    "plt.show()\n",
    "\n",
    "plt.figure()\n",
    "plt.semilogy(abs(zf_diag[:matsize] - qdpt_diag))\n",
    "plt.show()\n",
    "\n",
    "plt.figure()\n",
    "plt.semilogy(abs(zf_dense[:matsize, :matsize].flatten() - supmat.flatten()))\n",
    "plt.show()\n",
    "\n",
    "matdiff = abs(supmat - zf_dense[:matsize, :matsize])\n",
    "thresh = 1e-11\n",
    "print(f\"max diff = {matdiff.max()}\")\n",
    "print(f\"count of diff > {thresh} = {(matdiff>thresh).sum()}\")\n",
    "\n",
    "fig, axs = plt.subplots(ncols=3, figsize=(15, 5))\n",
    "axs = axs.flatten()\n",
    "im1 = axs[0].imshow(zf_dense[:matsize, :matsize])\n",
    "plt.colorbar(im1, ax=axs[0])\n",
    "\n",
    "im2 = axs[1].imshow(supmat)\n",
    "plt.colorbar(im1, ax=axs[1])\n",
    "\n",
    "im2 = axs[2].imshow(zf_dense[:matsize, :matsize] - supmat)\n",
    "plt.colorbar(im2, ax=axs[2])\n",
    "fig.show()\n",
    "\n"
   ]
  },
  {
   "cell_type": "code",
   "execution_count": null,
   "metadata": {},
   "outputs": [],
   "source": []
  },
  {
   "cell_type": "markdown",
   "metadata": {},
   "source": [
    "## Testing out the compare_model function"
   ]
  },
  {
   "cell_type": "code",
   "execution_count": null,
   "metadata": {},
   "outputs": [],
   "source": [
    "mult_idx = -1\n",
    "z0 = param_coeff_M[mult_idx] @ true_params + fixed_part_M[mult_idx]\n",
    "zfull = param_coeff[mult_idx] @ true_params + fixed_part[mult_idx]\n",
    "bkm = param_coeff_bkm @ true_params + fixed_part_bkm\n",
    "\n",
    "for midx in range(nmults):\n",
    "    bkm = jidx_update(bkm, \n",
    "                      jidx[midx, :, :, :],\n",
    "                      -1.0*bkm[midx]/dom_dell_jax[midx])\n",
    "                         \n",
    "clp = get_clp(bkm)[mult_idx]\n",
    "bkm = bkm[mult_idx]\n",
    "                        \n",
    "omegaref = omega0_arr_jax[mult_idx]\n",
    "ell0 = ell0_arr_jax[mult_idx]\n",
    "\n",
    "z1 = zfull/2./omegaref - z0\n",
    "_eigval0mult = get_eig_corr(clp, z0)*GVARS.OM*1e6\n",
    "_eigval1mult = get_eig_corr(clp, z1)*GVARS.OM*1e6\n",
    "_eigval_mult = _eigval0mult + _eigval1mult\n",
    "\n",
    "Pjl_local = Pjl[mult_idx]"
   ]
  },
  {
   "cell_type": "code",
   "execution_count": null,
   "metadata": {},
   "outputs": [],
   "source": [
    "plt.figure()\n",
    "plt.plot(_eigval_mult[-10:], '--r')\n",
    "plt.plot(Pjl_local[0, -10:], 'k')\n",
    "plt.show()\n",
    "\n",
    "plt.figure()\n",
    "plt.plot(_eigval_mult[:10], '--r')\n",
    "plt.plot(Pjl_local[0, :10], 'k')\n",
    "plt.show()"
   ]
  },
  {
   "cell_type": "markdown",
   "metadata": {},
   "source": [
    "### Explicit computation of eigenvalues"
   ]
  },
  {
   "cell_type": "code",
   "execution_count": null,
   "metadata": {},
   "outputs": [],
   "source": [
    "def eigval_sort_slice(eigval, eigvec):\n",
    "    eigbasis_sort = np.zeros(len(eigval), dtype=int)\n",
    "    for i in range(len(eigval)):\n",
    "        eigbasis_sort[i] = np.argmax(abs(eigvec[i]))\n",
    "    return eigval[eigbasis_sort]\n",
    "\n",
    "ell0 = 200\n",
    "omegaref = omega0_arr[-1]\n",
    "supmat = np.load(f\"supmat_qdpt_{ell0}.npy\").real\n",
    "\n",
    "\n",
    "eigvals, eigvecs = np.linalg.eigh(supmat)\n",
    "eigvals = eigval_sort_slice(eigvals, eigvecs)\n",
    "eigvals = eigvals[:2*ell0+1]/2./omegaref*GVARS.OM*1e6\n",
    "\n",
    "supmat2 = zf_dense[:matsize, :matsize]\n",
    "eigvals2, eigvecs2 = np.linalg.eigh(supmat2)\n",
    "eigvals2 = eigval_sort_slice(eigvals2, eigvecs2)\n",
    "eigvals2 = eigvals2[:2*ell0+1]/2./omegaref*GVARS.OM*1e6\n",
    "\n",
    "acoeffs = (Pjl[-1][:, :2*ell0+1] @ eigvals)/Pjl_norm[-1]\n",
    "acoeffs2 = (Pjl[-1][:, :2*ell0+1] @ eigvals2)/Pjl_norm[-1]\n",
    "print(acoeffs)\n",
    "print(acoeffs2)"
   ]
  },
  {
   "cell_type": "code",
   "execution_count": null,
   "metadata": {},
   "outputs": [],
   "source": [
    "supmat"
   ]
  },
  {
   "cell_type": "code",
   "execution_count": null,
   "metadata": {},
   "outputs": [],
   "source": [
    "GVARS.omega0_arr"
   ]
  },
  {
   "cell_type": "code",
   "execution_count": null,
   "metadata": {},
   "outputs": [],
   "source": [
    "np.diag(supmat)[:10]"
   ]
  },
  {
   "cell_type": "code",
   "execution_count": null,
   "metadata": {},
   "outputs": [],
   "source": [
    "Pjl[-1][0, :].max()"
   ]
  },
  {
   "cell_type": "code",
   "execution_count": null,
   "metadata": {},
   "outputs": [],
   "source": [
    "Pjl.shape"
   ]
  },
  {
   "cell_type": "code",
   "execution_count": null,
   "metadata": {},
   "outputs": [],
   "source": [
    "plt.figure()\n",
    "plt.plot(Pjl[-1, 0, :])"
   ]
  },
  {
   "cell_type": "code",
   "execution_count": null,
   "metadata": {},
   "outputs": [],
   "source": []
  }
 ],
 "metadata": {
  "kernelspec": {
   "display_name": "jax-gpu",
   "language": "python",
   "name": "jax-gpu"
  },
  "language_info": {
   "codemirror_mode": {
    "name": "ipython",
    "version": 3
   },
   "file_extension": ".py",
   "mimetype": "text/x-python",
   "name": "python",
   "nbconvert_exporter": "python",
   "pygments_lexer": "ipython3",
   "version": "3.8.10"
  }
 },
 "nbformat": 4,
 "nbformat_minor": 4
}
