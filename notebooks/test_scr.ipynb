{
 "cells": [
  {
   "cell_type": "code",
   "execution_count": 2,
   "metadata": {},
   "outputs": [
    {
     "name": "stdout",
     "output_type": "stream",
     "text": [
      "/mnt/disk2/samarth/qdpy-numpyro\n"
     ]
    }
   ],
   "source": [
    "cd ~/qdpy-numpyro"
   ]
  },
  {
   "cell_type": "code",
   "execution_count": 3,
   "metadata": {},
   "outputs": [
    {
     "name": "stdout",
     "output_type": "stream",
     "text": [
      "rth = 0.9\n",
      "[[  0 200]\n",
      " [  0 201]\n",
      " [  0 202]\n",
      " [  0 203]\n",
      " [  0 204]\n",
      " [  0 205]\n",
      " [  0 206]\n",
      " [  0 207]\n",
      " [  0 208]]\n",
      "Total multiplets: 9\n",
      "rth = 0.97\n",
      "Generating the Ritzwoller-Lavely polynomials for ell = 208 and jmax = 5\n",
      "Generating the Ritzwoller-Lavely polynomials for ell = 207 and jmax = 5\n",
      "Generating the Ritzwoller-Lavely polynomials for ell = 206 and jmax = 5\n",
      "Generating the Ritzwoller-Lavely polynomials for ell = 205 and jmax = 5\n",
      "Generating the Ritzwoller-Lavely polynomials for ell = 204 and jmax = 5\n",
      "Generating the Ritzwoller-Lavely polynomials for ell = 203 and jmax = 5\n",
      "Generating the Ritzwoller-Lavely polynomials for ell = 202 and jmax = 5\n",
      "Generating the Ritzwoller-Lavely polynomials for ell = 201 and jmax = 5\n",
      "Generating the Ritzwoller-Lavely polynomials for ell = 200 and jmax = 5\n",
      "Shape = (9, 6, 417)\n",
      "rth = 0.97\n",
      "rth = 0.97\n"
     ]
    },
    {
     "name": "stderr",
     "output_type": "stream",
     "text": [
      "nmult: 100%|██████████| 9/9 [00:05<00:00,  1.72it/s]\n"
     ]
    },
    {
     "name": "stdout",
     "output_type": "stream",
     "text": [
      "[204] Max diff = 2.0463630789890885e-12\n",
      "[203] Max diff = 4.547473508864641e-13\n",
      "[202] Max diff = 2.3874235921539366e-12\n",
      "[201] Max diff = 2.1032064978498966e-12\n",
      "[200] Max diff = 2.2737367544323206e-12\n",
      "num elements = 18765\n"
     ]
    }
   ],
   "source": [
    "%run vorontsov_qdpy/mode_lister.py --nmin 0 --nmax 0 --lmin 200 --lmax 208\n",
    "%run vorontsov_qdpy/precompute_ritzlavely.py\n",
    "%run vorontsov_qdpy/generate_synthetic_eigvals.py --load_mults 1 --knot_num 5 --rth 0.97"
   ]
  },
  {
   "cell_type": "code",
   "execution_count": 4,
   "metadata": {},
   "outputs": [
    {
     "name": "stdout",
     "output_type": "stream",
     "text": [
      "rth = 0.97\n"
     ]
    },
    {
     "name": "stderr",
     "output_type": "stream",
     "text": [
      "WARNING:absl:Compiling prim_fun (140242886821376) for args (ShapedArray(int64[4,2]), ShapedArray(int32[2])).\n"
     ]
    },
    {
     "name": "stdout",
     "output_type": "stream",
     "text": [
      "JAX using: cpu\n",
      "rth = 0.97\n"
     ]
    },
    {
     "name": "stderr",
     "output_type": "stream",
     "text": [
      "WARNING:absl:Compiling prim_fun (140242911201088) for args (ShapedArray(float64[18765]),).\n",
      "WARNING:absl:Compiling prim_fun (140242901986944) for args (ShapedArray(float64[3681]),).\n",
      "WARNING:absl:Compiling prim_fun (140242900403200) for args (ShapedArray(float64[27]),).\n",
      "nmult: 100%|██████████| 9/9 [00:05<00:00,  1.77it/s]\n",
      "WARNING:absl:Compiling prim_fun (140242889139712) for args (ShapedArray(float64[3,9]),).\n",
      "WARNING:absl:Compiling prim_fun (140242901135680) for args (ShapedArray(float64[3,9]), ShapedArray(int32[2])).\n",
      "WARNING:absl:Compiling prim_fun (140242900623488) for args (ShapedArray(float64[10625]),).\n",
      "WARNING:absl:Compiling prim_fun (140242889186816) for args (ShapedArray(int64[10625,2]),).\n",
      "WARNING:absl:Compiling todense (140242900625216) for args (ShapedArray(float64[10625]), ShapedArray(int64[10625,2])).\n"
     ]
    },
    {
     "name": "stdout",
     "output_type": "stream",
     "text": [
      "(9, 10625)\n",
      "(9, 10625, 2)\n",
      "[ 0.0194131   0.02420461  0.02413443  0.01931235  0.01796018  0.01980596\n",
      "  0.01782879  0.01559768  0.01341383  0.0151763   0.00345295  0.00360937\n",
      "  0.0091709  -0.00604694 -0.01430629 -0.00442826 -0.03187104 -0.04423772\n",
      "  0.00792895 -0.00836102 -0.01723394  0.00018202  0.00295055 -0.02908689\n",
      "  0.00346637 -0.01602917 -0.02676804]\n",
      "rth = 0.97\n",
      "rth = 0.97\n",
      "JAX using: cpu\n",
      "rth = 0.97\n"
     ]
    },
    {
     "name": "stderr",
     "output_type": "stream",
     "text": [
      "nmult: 100%|██████████| 9/9 [00:05<00:00,  1.67it/s]"
     ]
    },
    {
     "name": "stdout",
     "output_type": "stream",
     "text": [
      "param_coeff = (3, 4, 9, 5, 5, 425)\n",
      "cind_arr = [0 1 2 3]\n"
     ]
    },
    {
     "name": "stderr",
     "output_type": "stream",
     "text": [
      "\n"
     ]
    }
   ],
   "source": [
    "%run vorontsov_qdpy/save_reduced_problem.py\n",
    "%run vorontsov_qdpy/save_reduced_problem_M.py"
   ]
  },
  {
   "cell_type": "code",
   "execution_count": null,
   "metadata": {},
   "outputs": [
    {
     "name": "stdout",
     "output_type": "stream",
     "text": [
      "[<jaxlib.xla_extension.Device object at 0x7f8c1276bb70>]\n",
      "rth = 0.97\n"
     ]
    },
    {
     "name": "stderr",
     "output_type": "stream",
     "text": [
      "WARNING:absl:Compiling prim_fun (140242872578816) for args (ShapedArray(float64[9,3,425]),).\n",
      "WARNING:absl:Compiling prim_fun (140242871315712) for args (ShapedArray(float64[2,4]),).\n",
      "WARNING:absl:Compiling prim_fun (140239576969024) for args (ShapedArray(float64[2,4,9,5,5,425]),).\n",
      "WARNING:absl:Compiling prim_fun (140239576969024) for args (ShapedArray(float64[9,5,5,425]),).\n",
      "WARNING:absl:Compiling prim_fun (140242871366400) for args (ShapedArray(float64[9,3]),).\n",
      "WARNING:absl:Compiling prim_fun (140242869868672) for args (ShapedArray(int64[9,5,5,425,2]),).\n",
      "WARNING:absl:Compiling prim_fun (140242871270080) for args (ShapedArray(int64[9]),).\n",
      "WARNING:absl:Compiling prim_fun (140242871270080) for args (ShapedArray(float64[9]),).\n",
      "WARNING:absl:Compiling prim_fun (140242870587200) for args (ShapedArray(float64[2,4]),).\n",
      "WARNING:absl:Compiling prim_fun (140242870587200) for args (ShapedArray(float64[2,4,9,5,5,425]),).\n",
      "WARNING:absl:Compiling prim_fun (140242871241216) for args (ShapedArray(float64[425,5,5,9,8]),).\n",
      "WARNING:absl:Compiling _moveaxis (140242870669888) for args (ShapedArray(float64[8,9,5,5,425]),).\n",
      "WARNING:absl:Compiling prim_fun (140242869844224) for args (ShapedArray(float64[]),).\n",
      "WARNING:absl:Compiling prim_fun (140242871314432) for args (ShapedArray(float64[]),).\n",
      "WARNING:absl:Compiling fn (140242871339712) for args (ShapedArray(float64[8]), ShapedArray(float64[], weak_type=True)).\n",
      "WARNING:absl:Compiling matmul (140242871257024) for args (ShapedArray(float64[9,5,5,425,8]), ShapedArray(float64[8])).\n",
      "WARNING:absl:Compiling fn (140242870667200) for args (ShapedArray(float64[9,5,5,425]), ShapedArray(float64[9,5,5,425])).\n",
      "WARNING:absl:Compiling compare_model (140242870667200) for args ().\n",
      "WARNING:absl:Compiling <lambda> (140242871167488) for args (ShapedArray(float64[27]), ShapedArray(float64[27])).\n",
      "WARNING:absl:Compiling prim_fun (140242871044416) for args (ShapedArray(int64[9]), ShapedArray(int32[1])).\n",
      "WARNING:absl:Compiling prim_fun (140242869953536) for args (ShapedArray(float64[27]), ShapedArray(int32[1])).\n",
      "WARNING:absl:Compiling fn (140242869962560) for args (ShapedArray(float64[]), ShapedArray(float64[], weak_type=True)).\n",
      "WARNING:absl:Compiling true_divide (140242871183552) for args (ShapedArray(float64[]), ShapedArray(float64[])).\n"
     ]
    },
    {
     "name": "stdout",
     "output_type": "stream",
     "text": [
      " ell     |   Model       |    True       |    Diff       | Diff/sigma \n",
      "-----------------------------------------------------------------------\n",
      " 208     |   436.83109   |   437.99521   |    -1.16412   |   -33.97858\n",
      " 208     |    21.94845   |    20.05024   |     1.89821   |    42.70384\n",
      " 208     |    -5.07746   |    -4.35492   |    -0.72254   |   -13.73425\n",
      "-------------------------------------------------------------------\n",
      " 207     |   436.83697   |   438.00092   |    -1.16395   |   -32.53511\n",
      " 207     |    21.94981   |    20.05125   |     1.89856   |    40.75222\n",
      " 207     |    -5.07658   |    -4.35429   |    -0.72229   |   -13.19449\n",
      "-------------------------------------------------------------------\n",
      " 206     |   436.84237   |   436.85163   |    -0.00926   |    -0.26585\n",
      " 206     |    21.95203   |    21.93230   |     0.01974   |     0.43782\n",
      " 206     |    -5.07602   |    -5.06686   |    -0.00916   |    -0.17338\n",
      "-------------------------------------------------------------------\n",
      " 205     |   436.84825   |   436.85724   |    -0.00899   |    -0.24926\n",
      " 205     |    21.95338   |    21.93417   |     0.01921   |     0.40426\n",
      " 205     |    -5.07514   |    -5.06619   |    -0.00895   |    -0.15637\n",
      "-------------------------------------------------------------------\n",
      " 204     |   436.85413   |   436.86286   |    -0.00873   |    -0.24779\n",
      " 204     |    21.95472   |    21.93603   |     0.01869   |     0.39894\n",
      " 204     |    -5.07425   |    -5.06551   |    -0.00874   |    -0.15636\n",
      "-------------------------------------------------------------------\n",
      " 203     |   436.86002   |   436.86848   |    -0.00847   |    -0.24005\n",
      " 203     |    21.95606   |    21.93787   |     0.01819   |     0.39405\n",
      " 203     |    -5.07337   |    -5.06483   |    -0.00854   |    -0.15618\n",
      "-------------------------------------------------------------------\n",
      " 202     |   436.86590   |   436.87411   |    -0.00821   |    -0.23398\n",
      " 202     |    21.95740   |    21.93971   |     0.01770   |     0.39406\n",
      " 202     |    -5.07248   |    -5.06414   |    -0.00834   |    -0.15621\n",
      "-------------------------------------------------------------------\n",
      " 201     |   436.87179   |   436.87975   |    -0.00797   |    -0.22299\n",
      " 201     |    21.95874   |    21.94152   |     0.01721   |     0.37112\n",
      " 201     |    -5.07159   |    -5.06344   |    -0.00814   |    -0.15009\n",
      "-------------------------------------------------------------------\n",
      " 200     |   436.87766   |   436.88539   |    -0.00773   |    -0.21303\n",
      " 200     |    21.96010   |    21.94333   |     0.01677   |     0.35963\n",
      " 200     |    -5.07069   |    -5.06275   |    -0.00794   |    -0.14318\n",
      "-------------------------------------------------------------------\n"
     ]
    },
    {
     "name": "stderr",
     "output_type": "stream",
     "text": [
      "WARNING:absl:Compiling _reduce_sum (140242870666048) for args (ShapedArray(float64[27]),).\n",
      "WARNING:absl:Compiling true_divide (140242870666432) for args (ShapedArray(float64[]), ShapedArray(int64[], weak_type=True)).\n",
      "WARNING:absl:Compiling fn (140242870668160) for args (ShapedArray(float64[]), ShapedArray(int64[], weak_type=True)).\n",
      "WARNING:absl:Compiling fn (140242870668736) for args (ShapedArray(float64[]), ShapedArray(float64[])).\n",
      "WARNING:absl:Compiling prim_fun (140242871211584) for args (ShapedArray(int64[]), ShapedArray(int64[])).\n",
      "WARNING:absl:Compiling prim_fun (140242869905856) for args (ShapedArray(int64[]),).\n",
      "WARNING:absl:Compiling prim_fun (140242871166912) for args (ShapedArray(uint32[]),).\n",
      "WARNING:absl:Compiling <lambda> (140242888172416) for args (ShapedArray(int64[]), ShapedArray(uint32[])).\n",
      "WARNING:absl:Compiling prim_fun (140242870704640) for args (ShapedArray(uint32[1]), ShapedArray(uint32[1])).\n",
      "WARNING:absl:Compiling _threefry_split (140242872747776) for args (ShapedArray(uint32[2]),).\n",
      "/mnt/disk2/samarth/anaconda3/envs/jax-gpu/lib/python3.8/site-packages/numpyro/infer/mcmc.py:274: UserWarning: There are not enough devices to run parallel chains: expected 2 but got 1. Chains will be drawn sequentially. If you are running MCMC in CPU, consider using `numpyro.set_host_device_count(2)` at the beginning of your program. You can double-check how many devices are available in your system using `jax.local_device_count()`.\n",
      "  warnings.warn(\n",
      "WARNING:absl:Compiling _get_value_from_index (140242871339456) for args (ShapedArray(uint32[2,2]), ShapedArray(int64[], weak_type=True)).\n"
     ]
    },
    {
     "name": "stdout",
     "output_type": "stream",
     "text": [
      "Total time taken for 9 modes = 3.943e-02 seconds\n"
     ]
    },
    {
     "name": "stderr",
     "output_type": "stream",
     "text": [
      "WARNING:absl:Compiling <lambda> (140242871338240) for args (ShapedArray(float64[8]), ShapedArray(float64[8])).\n",
      "WARNING:absl:Compiling _uniform (140242888159808) for args (ShapedArray(uint32[2]), ShapedArray(int64[], weak_type=True), ShapedArray(int64[], weak_type=True)).\n",
      "WARNING:absl:Compiling prim_fun (140242872758016) for args (ShapedArray(float64[8]),).\n",
      "WARNING:absl:Compiling prim_fun (140242892966976) for args (ShapedArray(float64[8]),).\n",
      "WARNING:absl:Compiling prim_fun (140242871267264) for args (ShapedArray(float64[]), ShapedArray(float64[8])).\n",
      "WARNING:absl:Compiling prim_fun (140242894443648) for args (ShapedArray(float64[]), ShapedArray(float64[8])).\n",
      "WARNING:absl:Compiling clip (140242887837760) for args (ShapedArray(float64[8]), ShapedArray(float64[]), ShapedArray(float64[])).\n",
      "WARNING:absl:Compiling fn (140242894085184) for args (ShapedArray(float64[8]), ShapedArray(float64[8])).\n",
      "WARNING:absl:Compiling fn (140242893176704) for args (ShapedArray(float64[8]), ShapedArray(float64[8])).\n",
      "WARNING:absl:Compiling prim_fun (140242892965824) for args (ShapedArray(float64[]),).\n",
      "WARNING:absl:Compiling prim_fun (140242889528192) for args (ShapedArray(float64[9]), ShapedArray(int64[], weak_type=True), ShapedArray(float64[9,5,5,425])).\n",
      "WARNING:absl:Compiling _linspace (140242871266432) for args (ShapedArray(int64[], weak_type=True), ShapedArray(float64[], weak_type=True)).\n",
      "WARNING:absl:Compiling prim_fun (140242872766272) for args (ShapedArray(float64[]),).\n",
      "WARNING:absl:Compiling prim_fun (140242893263872) for args (ShapedArray(float64[9,5,5,425]), ShapedArray(float64[25]), ShapedArray(float64[9,5,5,425]), ShapedArray(float64[9,5,5,425]), ShapedArray(float64[9,5,1]), ShapedArray(int64[], weak_type=True), ShapedArray(float64[9,5,425,25])).\n",
      "WARNING:absl:Compiling trapz (140242894187136) for args (ShapedArray(float64[9,5,425,25]), ShapedArray(float64[25])).\n",
      "WARNING:absl:Compiling true_divide (140242894252032) for args (ShapedArray(float64[9,5,425]), ShapedArray(float64[], weak_type=True)).\n",
      "WARNING:absl:Compiling prim_fun (140242888506496) for args (ShapedArray(int64[9]), ShapedArray(float64[9]), ShapedArray(float64[9,5,5,425]), ShapedArray(float64[9,5,5,425]), ShapedArray(float64[9,5,425]), ShapedArray(float64[9,3,425]), ShapedArray(float64[9,3]), ShapedArray(int64[], weak_type=True), ShapedArray(float64[27])).\n",
      "WARNING:absl:Compiling prim_fun (140242894252032) for args (ShapedArray(float64[27]), ShapedArray(int32[1])).\n",
      "WARNING:absl:Compiling prim_fun (140242893688256) for args (ShapedArray(float64[20]),).\n",
      "WARNING:absl:Compiling <lambda> (140242894028160) for args (ShapedArray(float64[20]), ShapedArray(float64[20])).\n",
      "WARNING:absl:Compiling true_divide (140242894342912) for args (ShapedArray(float64[20]), ShapedArray(float64[20])).\n",
      "WARNING:absl:Compiling <lambda> (140242893150208) for args (ShapedArray(float64[], weak_type=True),).\n",
      "WARNING:absl:Compiling fn (140242894171520) for args (ShapedArray(float64[], weak_type=True), ShapedArray(float64[], weak_type=True)).\n",
      "WARNING:absl:Compiling <lambda> (140242888308544) for args (ShapedArray(float64[], weak_type=True),).\n",
      "WARNING:absl:Compiling <lambda> (140242872254016) for args (ShapedArray(float64[20]), ShapedArray(float64[], weak_type=True)).\n",
      "WARNING:absl:Compiling true_divide (140242894169152) for args (ShapedArray(float64[20]), ShapedArray(float64[], weak_type=True)).\n",
      "WARNING:absl:Compiling prim_fun (140242893792704) for args (ShapedArray(float64[20]),).\n",
      "WARNING:absl:Compiling fn (140242703053376) for args (ShapedArray(float64[20]), ShapedArray(float64[], weak_type=True)).\n",
      "WARNING:absl:Compiling prim_fun (140242888430016) for args (ShapedArray(float64[]),).\n",
      "WARNING:absl:Compiling true_divide (140242894343296) for args (ShapedArray(float64[8]), ShapedArray(float64[8])).\n",
      "WARNING:absl:Compiling prim_fun (140242914649600) for args (ShapedArray(float64[]), ShapedArray(float64[8])).\n",
      "WARNING:absl:Compiling prim_fun (140242703055040) for args (ShapedArray(float64[8]), ShapedArray(float64[8])).\n",
      "WARNING:absl:Compiling prim_fun (140242833249728) for args (ShapedArray(float64[8]),).\n",
      "WARNING:absl:Compiling <lambda> (140242888554496) for args (ShapedArray(float64[]), ShapedArray(float64[8])).\n",
      "WARNING:absl:Compiling clip (140242911875136) for args (ShapedArray(float64[8]), ShapedArray(float64[]), ShapedArray(float64[])).\n",
      "WARNING:absl:Compiling fn (140242914686080) for args (ShapedArray(float64[8]), ShapedArray(float64[8])).\n",
      "WARNING:absl:Compiling fn (140242888555648) for args (ShapedArray(float64[8]), ShapedArray(float64[8]), AbstractUnit()).\n",
      "WARNING:absl:Compiling prim_fun (140242888880320) for args (ShapedArray(void[]),).\n",
      "WARNING:absl:Compiling prim_fun (140242893849344) for args (ShapedArray(int64[]),).\n",
      "WARNING:absl:Compiling logaddexp (140242871241280) for args (ShapedArray(float64[8]), ShapedArray(float64[])).\n",
      "WARNING:absl:Compiling prim_fun (140242892848896) for args (ShapedArray(float64[8]), ShapedArray(float64[])).\n",
      "WARNING:absl:Compiling prim_fun (140242893329856) for args (ShapedArray(bool[8]), ShapedArray(float64[8]), ShapedArray(float64[8])).\n",
      "WARNING:absl:Compiling prim_fun (140242893148736) for args (ShapedArray(float64[8]), ShapedArray(float64[8])).\n",
      "WARNING:absl:Compiling <lambda> (140242892854848) for args (ShapedArray(float64[8]),).\n",
      "WARNING:absl:Compiling prim_fun (140242894420544) for args (ShapedArray(float64[]), ShapedArray(float64[])).\n",
      "WARNING:absl:Compiling prim_fun (140242888087296) for args (ShapedArray(bool[]), ShapedArray(float64[]), ShapedArray(float64[])).\n",
      "WARNING:absl:Compiling prim_fun (140242892855488) for args (ShapedArray(float64[]), ShapedArray(float64[8])).\n",
      "WARNING:absl:Compiling <lambda> (140242892692992) for args (ShapedArray(float64[8]),).\n",
      "WARNING:absl:Compiling <lambda> (140242889063872) for args (ShapedArray(float64[8]), ShapedArray(float64[8])).\n",
      "WARNING:absl:Compiling prim_fun (140242914746560) for args (ShapedArray(float64[8]),).\n",
      "WARNING:absl:Compiling _reduce_sum (140242894425152) for args (ShapedArray(float64[8,1]),).\n",
      "WARNING:absl:Compiling fn (140242894424128) for args (ShapedArray(float64[8]), ShapedArray(float64[], weak_type=True), AbstractUnit()).\n",
      "WARNING:absl:Compiling absolute (140242894258816) for args (ShapedArray(float64[8]),).\n",
      "WARNING:absl:Compiling <lambda> (140242889061120) for args (ShapedArray(float64[8]),).\n",
      "WARNING:absl:Compiling _reduce_sum (140242889062976) for args (ShapedArray(float64[8,1]),).\n",
      "WARNING:absl:Compiling fn (140242894208256) for args (ShapedArray(float64[8]), ShapedArray(float64[8]), AbstractUnit()).\n",
      "WARNING:absl:Compiling prim_fun (140242892847168) for args (ShapedArray(float64[]),).\n",
      "WARNING:absl:Compiling fn (140242888421824) for args (ShapedArray(float64[8]), ShapedArray(float64[8])).\n",
      "WARNING:absl:Compiling matmul (140242888425408) for args (ShapedArray(float64[9,5,5,425,8]), ShapedArray(float64[8])).\n",
      "WARNING:absl:Compiling fn (140242894411648) for args (ShapedArray(float64[9,5,5,425]), ShapedArray(float64[9,5,5,425]), AbstractUnit()).\n",
      "WARNING:absl:Compiling prim_fun (140242888876672) for args (ShapedArray(int32[1]), ShapedArray(float64[9]), AbstractUnit(), ShapedArray(int64[], weak_type=True), ShapedArray(float64[9,5,5,425]), AbstractUnit()).\n",
      "WARNING:absl:Compiling prim_fun (140242898738048) for args (ShapedArray(float64[9,5,5,425]), ShapedArray(float64[])).\n",
      "WARNING:absl:Compiling prim_fun (140242898881984) for args (ShapedArray(float64[25]), ShapedArray(float64[9,5,1]), ShapedArray(float64[9,5,5,425]), ShapedArray(float64[9,5,5,425]), ShapedArray(float64[9,5,5,425]), AbstractUnit(), AbstractUnit(), AbstractUnit(), AbstractUnit(), AbstractUnit(), AbstractUnit(), ShapedArray(int64[], weak_type=True), ShapedArray(float64[9,5,425,25]), AbstractUnit()).\n",
      "WARNING:absl:Compiling trapz (140242894428288) for args (ShapedArray(float64[9,5,425,25]), ShapedArray(float64[25])).\n",
      "WARNING:absl:Compiling true_divide (140242702820800) for args (ShapedArray(float64[9,5,425]), ShapedArray(float64[], weak_type=True)).\n",
      "WARNING:absl:Compiling prim_fun (140242896641984) for args (ShapedArray(float64[9,3,425]), ShapedArray(float64[9,5,5,425]), ShapedArray(float64[9,5,425]), ShapedArray(float64[9,5,5,425]), ShapedArray(float64[9]), ShapedArray(float64[9,3]), AbstractUnit(), AbstractUnit(), AbstractUnit(), AbstractUnit(), AbstractUnit(), AbstractUnit(), AbstractUnit(), AbstractUnit(), AbstractUnit(), AbstractUnit(), ShapedArray(int64[], weak_type=True), ShapedArray(float64[27]), AbstractUnit()).\n",
      "WARNING:absl:Compiling <lambda> (140242896241088) for args (ShapedArray(float64[20]), ShapedArray(float64[20]), AbstractUnit()).\n",
      "WARNING:absl:Compiling true_divide (140242904008640) for args (ShapedArray(float64[20]), ShapedArray(float64[20])).\n",
      "WARNING:absl:Compiling <lambda> (140242904009408) for args (ShapedArray(float64[20]), ShapedArray(float64[], weak_type=True), AbstractUnit()).\n",
      "WARNING:absl:Compiling true_divide (140242880306496) for args (ShapedArray(float64[20]), ShapedArray(float64[], weak_type=True)).\n",
      "WARNING:absl:Compiling prim_fun (140242872748288) for args (ShapedArray(float64[20]),).\n",
      "WARNING:absl:Compiling prim_fun (140242896226688) for args (ShapedArray(float64[]), ShapedArray(float64[20])).\n",
      "WARNING:absl:Compiling fn (140242896263168) for args (ShapedArray(float64[20]), ShapedArray(float64[], weak_type=True)).\n",
      "WARNING:absl:Compiling <lambda> (140242896264448) for args (ShapedArray(float64[20]), ShapedArray(float64[], weak_type=True), AbstractUnit()).\n",
      "WARNING:absl:Compiling _reduce_sum (140242702899328) for args (ShapedArray(float64[8]),).\n",
      "WARNING:absl:Compiling fn (140242896263168) for args (ShapedArray(float64[]), ShapedArray(float64[]), AbstractUnit()).\n",
      "WARNING:absl:Compiling <lambda> (140242896161024) for args (ShapedArray(float64[8]),).\n",
      "WARNING:absl:Compiling _reduce_sum (140242896160576) for args (ShapedArray(float64[8]),).\n",
      "WARNING:absl:Compiling fn (140242833307456) for args (ShapedArray(float64[]), ShapedArray(float64[]), AbstractUnit()).\n",
      "WARNING:absl:Compiling _reduce_sum (140242896559488) for args (ShapedArray(float64[20]),).\n",
      "WARNING:absl:Compiling fn (140242903721152) for args (ShapedArray(float64[]), ShapedArray(float64[])).\n",
      "WARNING:absl:Compiling <lambda> (140242915131328) for args (ShapedArray(float64[]),).\n",
      "WARNING:absl:Compiling backward_pass (140242893301376) for args (ShapedArray(float64[]),).\n",
      "WARNING:absl:Compiling backward_pass (140242896277696) for args (ShapedArray(float64[]),).\n",
      "WARNING:absl:Compiling backward_pass (140242904049472) for args (ShapedArray(float64[]), ShapedArray(float64[20])).\n",
      "WARNING:absl:Compiling prim_fun (140242892854848) for args (ShapedArray(float64[20]), ShapedArray(float64[20])).\n",
      "WARNING:absl:Compiling backward_pass (140242896797504) for args (ShapedArray(float64[]), ShapedArray(float64[20])).\n",
      "WARNING:absl:Compiling backward_pass (140242896797504) for args (ShapedArray(float64[20]), ShapedArray(float64[20])).\n",
      "WARNING:absl:Compiling prim_fun (140242871302272) for args (ShapedArray(float64[20]),).\n",
      "WARNING:absl:Compiling prim_fun (140242896121920) for args (ShapedArray(float64[27]), ShapedArray(int32[1]), ShapedArray(float64[20])).\n",
      "WARNING:absl:Compiling prim_fun (140242915369216) for args (ShapedArray(float64[]),).\n",
      "WARNING:absl:Compiling prim_fun (140242896790656) for args (ShapedArray(float64[]),).\n",
      "WARNING:absl:Compiling prim_fun (140242893159040) for args (AbstractUnit(), AbstractUnit(), AbstractUnit(), AbstractUnit(), AbstractUnit(), AbstractUnit(), AbstractUnit(), ShapedArray(float64[9,5,5,425]), ShapedArray(float64[9,5,5,425]), ShapedArray(float64[9,5,425]), AbstractUnit(), AbstractUnit(), ShapedArray(float64[27]), ShapedArray(float64[9,3,425]), ShapedArray(int32[9,1]), ShapedArray(float64[9,5,425]), ShapedArray(float64[9,5,425]), ShapedArray(int32[9,1]), ShapedArray(float64[9,5,1,425]), ShapedArray(float64[9,5,5,425]), ShapedArray(int32[9,1]), ShapedArray(float64[9,5,425]), ShapedArray(float64[9,5,425]), ShapedArray(int32[9,1]), ShapedArray(float64[9]), ShapedArray(float64[9,5,1,425]), ShapedArray(float64[9,5,5,425]), ShapedArray(float64[9,3]), ShapedArray(int64[9])).\n",
      "WARNING:absl:Compiling backward_pass (140242914998336) for args (ShapedArray(float64[]), ShapedArray(float64[9,5,425])).\n",
      "WARNING:absl:Compiling backward_pass (140242894343296) for args (ShapedArray(float64[]), ShapedArray(float64[1,1,1,24]), ShapedArray(int32[1]), ShapedArray(int32[1]), ShapedArray(float64[9,5,425])).\n",
      "WARNING:absl:Compiling prim_fun (140242895030912) for args (ShapedArray(float64[9,5,5,425]), AbstractUnit(), AbstractUnit(), AbstractUnit(), AbstractUnit(), AbstractUnit(), ShapedArray(float64[9,5,5,425]), AbstractUnit(), AbstractUnit(), ShapedArray(float64[9,5,425,25]), ShapedArray(int32[25,1]), ShapedArray(float64[25,9,5,5,425]), ShapedArray(float64[25,9,5,425])).\n",
      "WARNING:absl:Compiling prim_fun (140242833451264) for args (ShapedArray(int32[1]), AbstractUnit(), AbstractUnit(), AbstractUnit(), ShapedArray(float64[9,5,5,425]), ShapedArray(int32[9,1]), ShapedArray(float64[9])).\n",
      "WARNING:absl:Compiling backward_pass (140242880298176) for args (ShapedArray(float64[9,5,5,425,8]), ShapedArray(float64[9,5,5,425])).\n",
      "WARNING:absl:Compiling prim_fun (140242904070208) for args (ShapedArray(float64[8]), ShapedArray(float64[8])).\n",
      "WARNING:absl:Compiling backward_pass (140242896790656) for args (ShapedArray(float64[8]), ShapedArray(float64[8])).\n",
      "WARNING:absl:Compiling backward_pass (140242903751360) for args (ShapedArray(float64[8]), ShapedArray(float64[8])).\n",
      "WARNING:absl:Compiling backward_pass (140242896060352) for args (ShapedArray(float64[8]), ShapedArray(float64[8]), ShapedArray(float64[8])).\n",
      "WARNING:absl:Compiling backward_pass (140242914996992) for args (ShapedArray(float64[8]), ShapedArray(float64[8])).\n",
      "WARNING:absl:Compiling backward_pass (140242896178880) for args (ShapedArray(float64[]),).\n",
      "WARNING:absl:Compiling backward_pass (140242915047936) for args (ShapedArray(float64[8]),).\n",
      "WARNING:absl:Compiling prim_fun (140242914954816) for args (ShapedArray(float64[8,1]),).\n",
      "WARNING:absl:Compiling prim_fun (140243948918656) for args (ShapedArray(float64[8]),).\n",
      "WARNING:absl:Compiling backward_pass (140242915077760) for args (ShapedArray(float64[8]),).\n",
      "WARNING:absl:Compiling prim_fun (140242894447488) for args (ShapedArray(float64[8]), ShapedArray(float64[8])).\n",
      "WARNING:absl:Compiling backward_pass (140242915154624) for args (ShapedArray(float64[8]),).\n",
      "WARNING:absl:Compiling isfinite (140242889062976) for args (ShapedArray(float64[]),).\n",
      "WARNING:absl:Compiling isfinite (140242702855488) for args (ShapedArray(float64[8]),).\n",
      "WARNING:absl:Compiling _reduce_all (140242888088896) for args (ShapedArray(bool[8]),).\n",
      "WARNING:absl:Compiling <lambda> (140242903782848) for args (ShapedArray(bool[]), ShapedArray(bool[])).\n",
      "WARNING:absl:Compiling _reduce_all (140242889062976) for args (ShapedArray(bool[]),).\n",
      "WARNING:absl:Compiling <lambda> (140242896218560) for args (ShapedArray(bool[]),).\n",
      "WARNING:absl:Compiling prim_fun (140242889530112) for args (ShapedArray(float64[], weak_type=True),).\n",
      "WARNING:absl:Compiling prim_fun (140242877570112) for args (ShapedArray(int64[3,2]),).\n",
      "WARNING:absl:Compiling _threefry_split (140242896673856) for args (ShapedArray(uint32[2]),).\n",
      "WARNING:absl:Compiling prim_fun (140242896804544) for args (ShapedArray(float64[8]), ShapedArray(float64[8]), ShapedArray(float64[8]), ShapedArray(float64[8]), ShapedArray(float64[8]), ShapedArray(float64[8]), ShapedArray(float64[9,5,5,425,8]), ShapedArray(float64[9,5,5,425]), ShapedArray(float64[9,5,5,425,8]), ShapedArray(float64[9,5,5,425]), ShapedArray(float64[9,5,5,425,8]), ShapedArray(float64[9,5,5,425]), ShapedArray(float64[9]), ShapedArray(float64[9,5,1]), ShapedArray(float64[9,5,5,425]), ShapedArray(float64[9,5,5,425]), ShapedArray(float64[9,3,425]), ShapedArray(float64[9]), ShapedArray(float64[9,3]), ShapedArray(float64[20]), ShapedArray(float64[27]), ShapedArray(float64[]), ShapedArray(int64[], weak_type=True), ShapedArray(int64[], weak_type=True), ShapedArray(uint32[2])).\n",
      "WARNING:absl:Compiling fn (140242880032256) for args (ShapedArray(float64[]), ShapedArray(int64[], weak_type=True)).\n",
      "WARNING:absl:Compiling <lambda> (140242894901440) for args (ShapedArray(float64[]),).\n",
      "WARNING:absl:Compiling _threefry_split (140242833409920) for args (ShapedArray(uint32[2]),).\n",
      "WARNING:absl:Compiling _normal (140242888876352) for args (ShapedArray(uint32[2]),).\n",
      "WARNING:absl:Compiling prim_fun (140242896268416) for args (ShapedArray(float64[8]),).\n",
      "WARNING:absl:Compiling dot (140242911707520) for args (ShapedArray(float64[8]), ShapedArray(float64[8])).\n",
      "WARNING:absl:Compiling prim_fun (140242878239808) for args (ShapedArray(bool[]),).\n",
      "WARNING:absl:Compiling prim_fun (140242871150720) for args (ShapedArray(bool[]),).\n",
      "WARNING:absl:Compiling ravel (140239579802944) for args (ShapedArray(float64[]),).\n",
      "WARNING:absl:Compiling prim_fun (140242892102464) for args (ShapedArray(float64[8]), ShapedArray(float64[1]), ShapedArray(float64[1])).\n",
      "WARNING:absl:Compiling prim_fun (140239580396544) for args (ShapedArray(float64[]),).\n",
      "  0%|          | 0/300 [00:00<?, ?it/s]WARNING:absl:Compiling _body_fn (140242888580416) for args (ShapedArray(int64[], weak_type=True), ShapedArray(int64[]), ShapedArray(float64[8]), ShapedArray(float64[8]), ShapedArray(float64[]), ShapedArray(float64[]), ShapedArray(float64[]), ShapedArray(float64[8]), ShapedArray(float64[8]), ShapedArray(float64[8]), ShapedArray(float64[]), ShapedArray(float64[]), ShapedArray(float64[]), ShapedArray(int64[]), ShapedArray(float64[]), ShapedArray(float64[8]), ShapedArray(float64[8]), ShapedArray(int64[], weak_type=True), ShapedArray(int64[]), ShapedArray(uint32[2]), ShapedArray(uint32[2]), ShapedArray(float64[200,10]), ShapedArray(int64[], weak_type=True), ShapedArray(int64[], weak_type=True)).\n",
      "sample: 100%|██████████| 300/300 [12:17<00:00,  2.46s/it, 15 steps of size 2.08e-02. acc. prob=0.93]\n",
      "WARNING:absl:Compiling prim_fun (140242895523648) for args (ShapedArray(float64[200,10]),).\n",
      "WARNING:absl:Compiling prim_fun (140242895523072) for args (ShapedArray(float64[200,10]),).\n",
      "WARNING:absl:Compiling prim_fun (140242698313920) for args (ShapedArray(float64[200,10]),).\n",
      "WARNING:absl:Compiling prim_fun (140242895522560) for args (ShapedArray(float64[200,1]),).\n",
      "WARNING:absl:Compiling prim_fun (140242876586496) for args (ShapedArray(float64[200]),).\n",
      "WARNING:absl:Compiling <unnamed wrapped function> (140242901282240) for args (ShapedArray(float64[200,8]),).\n",
      "WARNING:absl:Compiling prim_fun (140241962648896) for args (ShapedArray(float64[9]), ShapedArray(int64[], weak_type=True), ShapedArray(float64[9,5,5,425])).\n",
      "WARNING:absl:Compiling prim_fun (140242895958976) for args (ShapedArray(float64[9,5,5,425]), ShapedArray(float64[25]), ShapedArray(float64[9,5,5,425]), ShapedArray(float64[9,5,5,425]), ShapedArray(float64[9,5,1]), ShapedArray(int64[], weak_type=True), ShapedArray(float64[9,5,425,25])).\n",
      "WARNING:absl:Compiling prim_fun (140242878341888) for args (ShapedArray(int64[9]), ShapedArray(float64[9]), ShapedArray(float64[9,5,5,425]), ShapedArray(float64[9,5,5,425]), ShapedArray(float64[9,5,425]), ShapedArray(float64[9,3,425]), ShapedArray(float64[9,3]), ShapedArray(int64[], weak_type=True), ShapedArray(float64[27])).\n",
      "WARNING:absl:Compiling prim_fun (140242888841024) for args (ShapedArray(int32[1]), ShapedArray(float64[9]), AbstractUnit(), ShapedArray(int64[], weak_type=True), ShapedArray(float64[9,5,5,425]), AbstractUnit()).\n",
      "WARNING:absl:Compiling prim_fun (140241962372928) for args (ShapedArray(float64[25]), ShapedArray(float64[9,5,1]), ShapedArray(float64[9,5,5,425]), ShapedArray(float64[9,5,5,425]), ShapedArray(float64[9,5,5,425]), AbstractUnit(), AbstractUnit(), AbstractUnit(), AbstractUnit(), AbstractUnit(), AbstractUnit(), ShapedArray(int64[], weak_type=True), ShapedArray(float64[9,5,425,25]), AbstractUnit()).\n",
      "WARNING:absl:Compiling prim_fun (140239575336704) for args (ShapedArray(float64[9,3,425]), ShapedArray(float64[9,5,5,425]), ShapedArray(float64[9,5,425]), ShapedArray(float64[9,5,5,425]), ShapedArray(float64[9]), ShapedArray(float64[9,3]), AbstractUnit(), AbstractUnit(), AbstractUnit(), AbstractUnit(), AbstractUnit(), AbstractUnit(), AbstractUnit(), AbstractUnit(), AbstractUnit(), AbstractUnit(), ShapedArray(int64[], weak_type=True), ShapedArray(float64[27]), AbstractUnit()).\n",
      "WARNING:absl:Compiling prim_fun (140241962470784) for args (AbstractUnit(), AbstractUnit(), AbstractUnit(), AbstractUnit(), AbstractUnit(), AbstractUnit(), AbstractUnit(), ShapedArray(float64[9,5,5,425]), ShapedArray(float64[9,5,5,425]), ShapedArray(float64[9,5,425]), AbstractUnit(), AbstractUnit(), ShapedArray(float64[27]), ShapedArray(float64[9,3,425]), ShapedArray(int32[9,1]), ShapedArray(float64[9,5,425]), ShapedArray(float64[9,5,425]), ShapedArray(int32[9,1]), ShapedArray(float64[9,5,1,425]), ShapedArray(float64[9,5,5,425]), ShapedArray(int32[9,1]), ShapedArray(float64[9,5,425]), ShapedArray(float64[9,5,425]), ShapedArray(int32[9,1]), ShapedArray(float64[9]), ShapedArray(float64[9,5,1,425]), ShapedArray(float64[9,5,5,425]), ShapedArray(float64[9,3]), ShapedArray(int64[9])).\n",
      "WARNING:absl:Compiling prim_fun (140241962376064) for args (ShapedArray(float64[9,5,5,425]), AbstractUnit(), AbstractUnit(), AbstractUnit(), AbstractUnit(), AbstractUnit(), ShapedArray(float64[9,5,5,425]), AbstractUnit(), AbstractUnit(), ShapedArray(float64[9,5,425,25]), ShapedArray(int32[25,1]), ShapedArray(float64[25,9,5,5,425]), ShapedArray(float64[25,9,5,425])).\n",
      "WARNING:absl:Compiling prim_fun (140239342165184) for args (ShapedArray(int32[1]), AbstractUnit(), AbstractUnit(), AbstractUnit(), ShapedArray(float64[9,5,5,425]), ShapedArray(int32[9,1]), ShapedArray(float64[9])).\n",
      "WARNING:absl:Compiling prim_fun (140242888854656) for args (ShapedArray(float64[8]), ShapedArray(float64[8]), ShapedArray(float64[8]), ShapedArray(float64[8]), ShapedArray(float64[8]), ShapedArray(float64[8]), ShapedArray(float64[9,5,5,425,8]), ShapedArray(float64[9,5,5,425]), ShapedArray(float64[9,5,5,425,8]), ShapedArray(float64[9,5,5,425]), ShapedArray(float64[9,5,5,425,8]), ShapedArray(float64[9,5,5,425]), ShapedArray(float64[9]), ShapedArray(float64[9,5,1]), ShapedArray(float64[9,5,5,425]), ShapedArray(float64[9,5,5,425]), ShapedArray(float64[9,3,425]), ShapedArray(float64[9]), ShapedArray(float64[9,3]), ShapedArray(float64[20]), ShapedArray(float64[27]), ShapedArray(float64[]), ShapedArray(int64[], weak_type=True), ShapedArray(int64[], weak_type=True), ShapedArray(uint32[2])).\n",
      "warmup:   4%|▍         | 13/300 [00:30<11:28,  2.40s/it, 3 steps of size 4.87e-03. acc. prob=0.70] "
     ]
    }
   ],
   "source": [
    "%run vorontsov_qdpy/run_reduced_problem_model.py --warmup 100 --chain_num 5 --maxiter 200"
   ]
  },
  {
   "cell_type": "code",
   "execution_count": null,
   "metadata": {},
   "outputs": [],
   "source": [
    "zfull = param_coeff @ true_params + fixed_part\n",
    "zM = param_coeff_M @ true_params + fixed_part_M\n",
    "bkm = param_coeff_bkm @ true_params + fixed_part_bkm\n",
    "clp = get_clp(bkm)\n",
    "\n",
    "mode_idx = -1\n",
    "clp_200 = clp[mode_idx]\n",
    "\n",
    "zfull_200 = zfull[mode_idx]\n",
    "zM_200 = zM[mode_idx]\n",
    "bkm_200 = bkm[mode_idx]\n",
    "zfull_200_flat = jnp.reshape(zfull_200, (max_nbs*max_nbs*len_mmax), order='F')\n",
    "zM_200_flat = jnp.reshape(zM_200, (max_nbs*max_nbs*len_mmax), order='F')\n",
    "bkm_200_flat = jnp.reshape(bkm_200, (max_nbs*max_nbs*len_mmax), order='F')\n",
    "\n",
    "sparse_idx_200 = sparse_idx[mode_idx]\n",
    "sparseM_idx_200 = sparse_idx_M[mode_idx]\n",
    "\n",
    "sparse_200_flat = jnp.reshape(sparse_idx_200, (max_nbs*max_nbs*len_mmax, 2), order='F')\n",
    "sparseM_200_flat = jnp.reshape(sparseM_idx_200, (max_nbs*max_nbs*len_mmax, 2), order='F')\n",
    "\n",
    "\n",
    "zf_dense = sparse.BCOO((zfull_200_flat, sparse_200_flat), shape=(dim_hyper, dim_hyper)).todense()\n",
    "zMf_dense = sparse.BCOO((zM_200_flat, sparseM_200_flat), shape=(dim_hyper, dim_hyper)).todense()\n",
    "bkm_dense = sparse.BCOO((bkm_200_flat, sparse_200_flat), shape=(dim_hyper, dim_hyper)).todense()\n",
    "zf_diag = np.diag(zf_dense)\n",
    "zMf_diag = np.diag(zMf_dense)\n",
    "\n",
    "ev_200_V11 = np.sum(clp_200.conj() * (zM_200 * clp_200[:, NAX, :]).sum(axis=0), axis=0)\n",
    "\n",
    "supmat = np.load(\"supmat_qdpt_200.npy\").real\n",
    "ev_200_eigh, evec_200 = jnp.linalg.eigh(supmat)\n",
    "ev_200_eigh = eigval_sort_slice(ev_200_eigh/2./omega0_arr[-1], evec_200)[:401]\n",
    "\n",
    "lmax_pjl = int(len_mmax//2)\n",
    "dell = lmax_pjl - 200\n",
    "ac1 = Pjl[-1] @ ev_200_V11/Pjl_norm[-1]\n",
    "ac2 = Pjl[-1][:, dell:-dell] @ ev_200_eigh/Pjl_norm[-1]\n",
    "print(ac1*GVARS.OM*1e6)\n",
    "print(ac2*GVARS.OM*1e6)"
   ]
  },
  {
   "cell_type": "code",
   "execution_count": null,
   "metadata": {},
   "outputs": [],
   "source": [
    "def plot_fullmat(mat):\n",
    "    vmax = abs(mat).max()\n",
    "    fig = plt.figure()\n",
    "    plt.imshow(mat, cmap='seismic', vmax=vmax/100000, vmin=-vmax/100000)\n",
    "    return fig\n",
    "\n",
    "fig = plot_fullmat(zMf_dense)\n",
    "fig.show()"
   ]
  },
  {
   "cell_type": "code",
   "execution_count": null,
   "metadata": {},
   "outputs": [],
   "source": [
    "plt.figure()\n",
    "for i in range(5):\n",
    "    plt.semilogy(abs(clp[0, 4, :]), label=i)\n",
    "plt.legend()\n",
    "plt.show()"
   ]
  },
  {
   "cell_type": "markdown",
   "metadata": {},
   "source": [
    "### Comparing supermatrices with the ones constructed using qdPy"
   ]
  },
  {
   "cell_type": "code",
   "execution_count": null,
   "metadata": {},
   "outputs": [],
   "source": [
    "supmat = np.load(\"supmat_qdpt_200.npy\").real\n",
    "matsize = supmat.shape[0]\n",
    "qdpt_diag = np.diag(supmat)\n",
    "plt.figure()\n",
    "plt.plot(zf_diag[:matsize])\n",
    "plt.plot(qdpt_diag, '--r')\n",
    "plt.show()\n",
    "\n",
    "plt.figure()\n",
    "plt.semilogy(abs(zf_diag[:matsize] - qdpt_diag))\n",
    "plt.show()\n",
    "\n",
    "plt.figure()\n",
    "plt.semilogy(abs(zf_dense[:matsize, :matsize].flatten() - supmat.flatten()))\n",
    "plt.show()\n",
    "\n",
    "matdiff = abs(supmat - zf_dense[:matsize, :matsize])\n",
    "thresh = 1e-11\n",
    "print(f\"max diff = {matdiff.max()}\")\n",
    "print(f\"count of diff > {thresh} = {(matdiff>thresh).sum()}\")\n",
    "\n",
    "fig, axs = plt.subplots(ncols=3, figsize=(15, 5))\n",
    "axs = axs.flatten()\n",
    "im1 = axs[0].imshow(zf_dense[:matsize, :matsize])\n",
    "plt.colorbar(im1, ax=axs[0])\n",
    "\n",
    "im2 = axs[1].imshow(supmat)\n",
    "plt.colorbar(im1, ax=axs[1])\n",
    "\n",
    "im2 = axs[2].imshow(zf_dense[:matsize, :matsize] - supmat)\n",
    "plt.colorbar(im2, ax=axs[2])\n",
    "fig.show()\n",
    "\n"
   ]
  },
  {
   "cell_type": "code",
   "execution_count": null,
   "metadata": {},
   "outputs": [],
   "source": []
  },
  {
   "cell_type": "markdown",
   "metadata": {},
   "source": [
    "## Testing out the compare_model function"
   ]
  },
  {
   "cell_type": "code",
   "execution_count": null,
   "metadata": {},
   "outputs": [],
   "source": [
    "mult_idx = -1\n",
    "z0 = param_coeff_M[mult_idx] @ true_params + fixed_part_M[mult_idx]\n",
    "zfull = param_coeff[mult_idx] @ true_params + fixed_part[mult_idx]\n",
    "bkm = param_coeff_bkm @ true_params + fixed_part_bkm\n",
    "\n",
    "for midx in range(nmults):\n",
    "    bkm = jidx_update(bkm, \n",
    "                      jidx[midx, :, :, :],\n",
    "                      -1.0*bkm[midx]/dom_dell_jax[midx])\n",
    "                         \n",
    "clp = get_clp(bkm)[mult_idx]\n",
    "bkm = bkm[mult_idx]\n",
    "                        \n",
    "omegaref = omega0_arr_jax[mult_idx]\n",
    "ell0 = ell0_arr_jax[mult_idx]\n",
    "\n",
    "z1 = zfull/2./omegaref - z0\n",
    "_eigval0mult = get_eig_corr(clp, z0)*GVARS.OM*1e6\n",
    "_eigval1mult = get_eig_corr(clp, z1)*GVARS.OM*1e6\n",
    "_eigval_mult = _eigval0mult + _eigval1mult\n",
    "\n",
    "Pjl_local = Pjl[mult_idx]"
   ]
  },
  {
   "cell_type": "code",
   "execution_count": null,
   "metadata": {},
   "outputs": [],
   "source": [
    "plt.figure()\n",
    "plt.plot(_eigval_mult[-10:], '--r')\n",
    "plt.plot(Pjl_local[0, -10:], 'k')\n",
    "plt.show()\n",
    "\n",
    "plt.figure()\n",
    "plt.plot(_eigval_mult[:10], '--r')\n",
    "plt.plot(Pjl_local[0, :10], 'k')\n",
    "plt.show()"
   ]
  },
  {
   "cell_type": "markdown",
   "metadata": {},
   "source": [
    "### Explicit computation of eigenvalues"
   ]
  },
  {
   "cell_type": "code",
   "execution_count": null,
   "metadata": {},
   "outputs": [],
   "source": [
    "def eigval_sort_slice(eigval, eigvec):\n",
    "    eigbasis_sort = np.zeros(len(eigval), dtype=int)\n",
    "    for i in range(len(eigval)):\n",
    "        eigbasis_sort[i] = np.argmax(abs(eigvec[i]))\n",
    "    return eigval[eigbasis_sort]\n",
    "\n",
    "ell0 = 200\n",
    "omegaref = omega0_arr[-1]\n",
    "supmat = np.load(f\"supmat_qdpt_{ell0}.npy\").real\n",
    "\n",
    "\n",
    "eigvals, eigvecs = np.linalg.eigh(supmat)\n",
    "eigvals = eigval_sort_slice(eigvals, eigvecs)\n",
    "eigvals = eigvals[:2*ell0+1]/2./omegaref*GVARS.OM*1e6\n",
    "\n",
    "supmat2 = zf_dense[:matsize, :matsize]\n",
    "eigvals2, eigvecs2 = np.linalg.eigh(supmat2)\n",
    "eigvals2 = eigval_sort_slice(eigvals2, eigvecs2)\n",
    "eigvals2 = eigvals2[:2*ell0+1]/2./omegaref*GVARS.OM*1e6\n",
    "\n",
    "acoeffs = (Pjl[-1][:, :2*ell0+1] @ eigvals)/Pjl_norm[-1]\n",
    "acoeffs2 = (Pjl[-1][:, :2*ell0+1] @ eigvals2)/Pjl_norm[-1]\n",
    "print(acoeffs)\n",
    "print(acoeffs2)"
   ]
  },
  {
   "cell_type": "code",
   "execution_count": null,
   "metadata": {},
   "outputs": [],
   "source": [
    "supmat"
   ]
  },
  {
   "cell_type": "code",
   "execution_count": null,
   "metadata": {},
   "outputs": [],
   "source": [
    "GVARS.omega0_arr"
   ]
  },
  {
   "cell_type": "code",
   "execution_count": null,
   "metadata": {},
   "outputs": [],
   "source": [
    "np.diag(supmat)[:10]"
   ]
  },
  {
   "cell_type": "code",
   "execution_count": null,
   "metadata": {},
   "outputs": [],
   "source": [
    "Pjl[-1][0, :].max()"
   ]
  },
  {
   "cell_type": "code",
   "execution_count": null,
   "metadata": {},
   "outputs": [],
   "source": [
    "Pjl.shape"
   ]
  },
  {
   "cell_type": "code",
   "execution_count": null,
   "metadata": {},
   "outputs": [],
   "source": [
    "plt.figure()\n",
    "plt.plot(Pjl[-1, 0, :])"
   ]
  },
  {
   "cell_type": "code",
   "execution_count": null,
   "metadata": {},
   "outputs": [],
   "source": []
  }
 ],
 "metadata": {
  "kernelspec": {
   "display_name": "jax-gpu",
   "language": "python",
   "name": "jax-gpu"
  },
  "language_info": {
   "codemirror_mode": {
    "name": "ipython",
    "version": 3
   },
   "file_extension": ".py",
   "mimetype": "text/x-python",
   "name": "python",
   "nbconvert_exporter": "python",
   "pygments_lexer": "ipython3",
   "version": "3.8.10"
  }
 },
 "nbformat": 4,
 "nbformat_minor": 4
}
