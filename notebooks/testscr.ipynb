{
 "cells": [
  {
   "cell_type": "code",
   "execution_count": 1,
   "metadata": {},
   "outputs": [
    {
     "name": "stdout",
     "output_type": "stream",
     "text": [
      "/mnt/disk2/samarth/qdpy-numpyro\n"
     ]
    }
   ],
   "source": [
    "cd .."
   ]
  },
  {
   "cell_type": "code",
   "execution_count": 2,
   "metadata": {},
   "outputs": [
    {
     "name": "stdout",
     "output_type": "stream",
     "text": [
      "/mnt/disk2/samarth/qdpy-numpyro/qdpy_jax\n"
     ]
    }
   ],
   "source": [
    "cd qdpy_jax"
   ]
  },
  {
   "cell_type": "code",
   "execution_count": 29,
   "metadata": {},
   "outputs": [
    {
     "name": "stdout",
     "output_type": "stream",
     "text": [
      "Omega()\n",
      "JIT version is faster by 66.39498525437742\n",
      "minus1pow()\n",
      "JIT version is faster by:  53.871654795657285\n",
      "minus1pow_vec()\n",
      "JIT version is faster by:  30.94650590995218\n",
      "gamma()\n",
      "JIT version is faster by:  2.593262137139752\n",
      "compute_Tsr()\n",
      "JIT version is faster by:  115.90014538666571\n",
      "Time taken per iteration (jax jitted) compute_Tsr = 5.313e-02 seconds\n",
      "get_Cvec()\n",
      "JIT version is faster by:  237.84513498945518\n",
      "Time taken per iteration (jax jitted) get_Cvec = 4.556e-02 seconds\n"
     ]
    }
   ],
   "source": [
    "run jax_rotation_kernels.py"
   ]
  },
  {
   "cell_type": "code",
   "execution_count": 30,
   "metadata": {},
   "outputs": [
    {
     "name": "stdout",
     "output_type": "stream",
     "text": [
      "[compute_Tsr] Time taken per iteration in seconds (no jax): , 4.143e-02 seconds\n",
      "[get_Cvec] Time taken per iteration in seconds (no jax): , 4.921e-01 seconds\n"
     ]
    }
   ],
   "source": [
    "run rotation_kernels.py"
   ]
  },
  {
   "cell_type": "code",
   "execution_count": 26,
   "metadata": {},
   "outputs": [
    {
     "data": {
      "text/plain": [
       "11.157108239095315"
      ]
     },
     "execution_count": 26,
     "metadata": {},
     "output_type": "execute_result"
    }
   ],
   "source": [
    " 5.525e-03/4.952e-04"
   ]
  },
  {
   "cell_type": "code",
   "execution_count": 1,
   "metadata": {},
   "outputs": [
    {
     "data": {
      "text/plain": [
       "'/mnt/disk2/samarth/qdpy-numpyro/notebooks'"
      ]
     },
     "execution_count": 1,
     "metadata": {},
     "output_type": "execute_result"
    }
   ],
   "source": [
    "pwd"
   ]
  },
  {
   "cell_type": "code",
   "execution_count": 2,
   "metadata": {},
   "outputs": [
    {
     "name": "stdout",
     "output_type": "stream",
     "text": [
      "/mnt/disk2/samarth/qdpy-numpyro\n"
     ]
    }
   ],
   "source": [
    "cd .."
   ]
  },
  {
   "cell_type": "code",
   "execution_count": 4,
   "metadata": {
    "collapsed": true,
    "jupyter": {
     "outputs_hidden": true
    }
   },
   "outputs": [
    {
     "name": "stdout",
     "output_type": "stream",
     "text": [
      "-----------\n",
      "SUBMAT_DICT(startx=array([[   0,    0,    0,    0,    0],\n",
      "       [ 391,  391,  391,  391,  391],\n",
      "       [ 786,  786,  786,  786,  786],\n",
      "       [1173, 1173, 1173, 1173, 1173],\n",
      "       [1572, 1572, 1572, 1572, 1572]], dtype=int32), starty=array([[   0,  391,  786, 1173, 1572],\n",
      "       [   0,  391,  786, 1173, 1572],\n",
      "       [   0,  391,  786, 1173, 1572],\n",
      "       [   0,  391,  786, 1173, 1572],\n",
      "       [   0,  391,  786, 1173, 1572]], dtype=int32), endx=array([[ 391,  391,  391,  391,  391],\n",
      "       [ 786,  786,  786,  786,  786],\n",
      "       [1173, 1173, 1173, 1173, 1173],\n",
      "       [1572, 1572, 1572, 1572, 1572],\n",
      "       [1955, 1955, 1955, 1955, 1955]], dtype=int32), endy=array([[ 391,  786, 1173, 1572, 1955],\n",
      "       [ 391,  786, 1173, 1572, 1955],\n",
      "       [ 391,  786, 1173, 1572, 1955],\n",
      "       [ 391,  786, 1173, 1572, 1955],\n",
      "       [ 391,  786, 1173, 1572, 1955]], dtype=int32))\n",
      "CENMULT_AND_NBS(nl_nbs=array([[  0, 195],\n",
      "       [  0, 197],\n",
      "       [  0, 193],\n",
      "       [  0, 199],\n",
      "       [  0, 191]], dtype=int32), nl_nbs_idx=array([3617, 3639, 3595, 3661, 3573], dtype=int32), omega_nbs=array([67.15289 , 67.49084 , 66.813225, 67.827065, 66.47179 ],\n",
      "      dtype=float32), num_nbs=array(5, dtype=int32), dim_blocks=array(5, dtype=int32), dim_super=array(1960, dtype=int32))\n",
      "-----------\n",
      "Inside build_supermatrix()\n",
      "CENMULT_AND_NBS(nl_nbs=array([[  0, 195],\n",
      "       [  0, 197],\n",
      "       [  0, 193],\n",
      "       [  0, 199],\n",
      "       [  0, 191]], dtype=int32), nl_nbs_idx=array([3617, 3639, 3595, 3661, 3573], dtype=int32), omega_nbs=array([67.15289 , 67.49084 , 66.813225, 67.827065, 66.47179 ],\n",
      "      dtype=float32), num_nbs=array(5, dtype=int32), dim_blocks=array(5, dtype=int32), dim_super=array(1960, dtype=int32))\n",
      "0\n",
      "CNM: 1960\n",
      "SUBMAT: SUBMAT_DICT(startx=array([[   0,    0,    0,    0,    0],\n",
      "       [ 391,  391,  391,  391,  391],\n",
      "       [ 786,  786,  786,  786,  786],\n",
      "       [1173, 1173, 1173, 1173, 1173],\n",
      "       [1572, 1572, 1572, 1572, 1572]], dtype=int32), starty=array([[   0,  391,  786, 1173, 1572],\n",
      "       [   0,  391,  786, 1173, 1572],\n",
      "       [   0,  391,  786, 1173, 1572],\n",
      "       [   0,  391,  786, 1173, 1572],\n",
      "       [   0,  391,  786, 1173, 1572]], dtype=int32), endx=array([[ 391,  391,  391,  391,  391],\n",
      "       [ 786,  786,  786,  786,  786],\n",
      "       [1173, 1173, 1173, 1173, 1173],\n",
      "       [1572, 1572, 1572, 1572, 1572],\n",
      "       [1955, 1955, 1955, 1955, 1955]], dtype=int32), endy=array([[ 391,  786, 1173, 1572, 1955],\n",
      "       [ 391,  786, 1173, 1572, 1955],\n",
      "       [ 391,  786, 1173, 1572, 1955],\n",
      "       [ 391,  786, 1173, 1572, 1955],\n",
      "       [ 391,  786, 1173, 1572, 1955]], dtype=int32))\n",
      "-----------\n",
      "SUBMAT_DICT(startx=array([[   0,    0,    0,    0,    0],\n",
      "       [ 393,  393,  393,  393,  393],\n",
      "       [ 790,  790,  790,  790,  790],\n",
      "       [1179, 1179, 1179, 1179, 1179],\n",
      "       [1580, 1580, 1580, 1580, 1580]], dtype=int32), starty=array([[   0,  393,  790, 1179, 1580],\n",
      "       [   0,  393,  790, 1179, 1580],\n",
      "       [   0,  393,  790, 1179, 1580],\n",
      "       [   0,  393,  790, 1179, 1580],\n",
      "       [   0,  393,  790, 1179, 1580]], dtype=int32), endx=array([[ 393,  393,  393,  393,  393],\n",
      "       [ 790,  790,  790,  790,  790],\n",
      "       [1179, 1179, 1179, 1179, 1179],\n",
      "       [1580, 1580, 1580, 1580, 1580],\n",
      "       [1965, 1965, 1965, 1965, 1965]], dtype=int32), endy=array([[ 393,  790, 1179, 1580, 1965],\n",
      "       [ 393,  790, 1179, 1580, 1965],\n",
      "       [ 393,  790, 1179, 1580, 1965],\n",
      "       [ 393,  790, 1179, 1580, 1965],\n",
      "       [ 393,  790, 1179, 1580, 1965]], dtype=int32))\n",
      "CENMULT_AND_NBS(nl_nbs=array([[  0, 196],\n",
      "       [  0, 198],\n",
      "       [  0, 194],\n",
      "       [  0, 200],\n",
      "       [  0, 192]], dtype=int32), nl_nbs_idx=array([3628, 3650, 3606, 3672, 3584], dtype=int32), omega_nbs=array([67.32208 , 67.659164, 66.98328 , 67.99455 , 66.64272 ],\n",
      "      dtype=float32), num_nbs=array(5, dtype=int32), dim_blocks=array(5, dtype=int32), dim_super=array(1970, dtype=int32))\n",
      "-----------\n",
      "Inside build_supermatrix()\n",
      "CENMULT_AND_NBS(nl_nbs=array([[  0, 196],\n",
      "       [  0, 198],\n",
      "       [  0, 194],\n",
      "       [  0, 200],\n",
      "       [  0, 192]], dtype=int32), nl_nbs_idx=array([3628, 3650, 3606, 3672, 3584], dtype=int32), omega_nbs=array([67.32208 , 67.659164, 66.98328 , 67.99455 , 66.64272 ],\n",
      "      dtype=float32), num_nbs=array(5, dtype=int32), dim_blocks=array(5, dtype=int32), dim_super=array(1970, dtype=int32))\n",
      "0\n",
      "CNM: 1970\n",
      "SUBMAT: SUBMAT_DICT(startx=array([[   0,    0,    0,    0,    0],\n",
      "       [ 393,  393,  393,  393,  393],\n",
      "       [ 790,  790,  790,  790,  790],\n",
      "       [1179, 1179, 1179, 1179, 1179],\n",
      "       [1580, 1580, 1580, 1580, 1580]], dtype=int32), starty=array([[   0,  393,  790, 1179, 1580],\n",
      "       [   0,  393,  790, 1179, 1580],\n",
      "       [   0,  393,  790, 1179, 1580],\n",
      "       [   0,  393,  790, 1179, 1580],\n",
      "       [   0,  393,  790, 1179, 1580]], dtype=int32), endx=array([[ 393,  393,  393,  393,  393],\n",
      "       [ 790,  790,  790,  790,  790],\n",
      "       [1179, 1179, 1179, 1179, 1179],\n",
      "       [1580, 1580, 1580, 1580, 1580],\n",
      "       [1965, 1965, 1965, 1965, 1965]], dtype=int32), endy=array([[ 393,  790, 1179, 1580, 1965],\n",
      "       [ 393,  790, 1179, 1580, 1965],\n",
      "       [ 393,  790, 1179, 1580, 1965],\n",
      "       [ 393,  790, 1179, 1580, 1965],\n",
      "       [ 393,  790, 1179, 1580, 1965]], dtype=int32))\n",
      "-----------\n",
      "SUBMAT_DICT(startx=array([[   0,    0,    0,    0,    0],\n",
      "       [ 395,  395,  395,  395,  395],\n",
      "       [ 794,  794,  794,  794,  794],\n",
      "       [1185, 1185, 1185, 1185, 1185],\n",
      "       [1588, 1588, 1588, 1588, 1588]], dtype=int32), starty=array([[   0,  395,  794, 1185, 1588],\n",
      "       [   0,  395,  794, 1185, 1588],\n",
      "       [   0,  395,  794, 1185, 1588],\n",
      "       [   0,  395,  794, 1185, 1588],\n",
      "       [   0,  395,  794, 1185, 1588]], dtype=int32), endx=array([[ 395,  395,  395,  395,  395],\n",
      "       [ 794,  794,  794,  794,  794],\n",
      "       [1185, 1185, 1185, 1185, 1185],\n",
      "       [1588, 1588, 1588, 1588, 1588],\n",
      "       [1975, 1975, 1975, 1975, 1975]], dtype=int32), endy=array([[ 395,  794, 1185, 1588, 1975],\n",
      "       [ 395,  794, 1185, 1588, 1975],\n",
      "       [ 395,  794, 1185, 1588, 1975],\n",
      "       [ 395,  794, 1185, 1588, 1975],\n",
      "       [ 395,  794, 1185, 1588, 1975]], dtype=int32))\n",
      "CENMULT_AND_NBS(nl_nbs=array([[  0, 197],\n",
      "       [  0, 199],\n",
      "       [  0, 195],\n",
      "       [  0, 201],\n",
      "       [  0, 193]], dtype=int32), nl_nbs_idx=array([3639, 3661, 3617, 3682, 3595], dtype=int32), omega_nbs=array([67.49084 , 67.827065, 67.15289 , 68.16161 , 66.813225],\n",
      "      dtype=float32), num_nbs=array(5, dtype=int32), dim_blocks=array(5, dtype=int32), dim_super=array(1980, dtype=int32))\n",
      "-----------\n",
      "Inside build_supermatrix()\n",
      "CENMULT_AND_NBS(nl_nbs=array([[  0, 197],\n",
      "       [  0, 199],\n",
      "       [  0, 195],\n",
      "       [  0, 201],\n",
      "       [  0, 193]], dtype=int32), nl_nbs_idx=array([3639, 3661, 3617, 3682, 3595], dtype=int32), omega_nbs=array([67.49084 , 67.827065, 67.15289 , 68.16161 , 66.813225],\n",
      "      dtype=float32), num_nbs=array(5, dtype=int32), dim_blocks=array(5, dtype=int32), dim_super=array(1980, dtype=int32))\n",
      "0\n",
      "CNM: 1980\n",
      "SUBMAT: SUBMAT_DICT(startx=array([[   0,    0,    0,    0,    0],\n",
      "       [ 395,  395,  395,  395,  395],\n",
      "       [ 794,  794,  794,  794,  794],\n",
      "       [1185, 1185, 1185, 1185, 1185],\n",
      "       [1588, 1588, 1588, 1588, 1588]], dtype=int32), starty=array([[   0,  395,  794, 1185, 1588],\n",
      "       [   0,  395,  794, 1185, 1588],\n",
      "       [   0,  395,  794, 1185, 1588],\n",
      "       [   0,  395,  794, 1185, 1588],\n",
      "       [   0,  395,  794, 1185, 1588]], dtype=int32), endx=array([[ 395,  395,  395,  395,  395],\n",
      "       [ 794,  794,  794,  794,  794],\n",
      "       [1185, 1185, 1185, 1185, 1185],\n",
      "       [1588, 1588, 1588, 1588, 1588],\n",
      "       [1975, 1975, 1975, 1975, 1975]], dtype=int32), endy=array([[ 395,  794, 1185, 1588, 1975],\n",
      "       [ 395,  794, 1185, 1588, 1975],\n",
      "       [ 395,  794, 1185, 1588, 1975],\n",
      "       [ 395,  794, 1185, 1588, 1975],\n",
      "       [ 395,  794, 1185, 1588, 1975]], dtype=int32))\n",
      "-----------\n",
      "SUBMAT_DICT(startx=array([[   0,    0,    0,    0,    0],\n",
      "       [ 397,  397,  397,  397,  397],\n",
      "       [ 798,  798,  798,  798,  798],\n",
      "       [1191, 1191, 1191, 1191, 1191],\n",
      "       [1596, 1596, 1596, 1596, 1596]], dtype=int32), starty=array([[   0,  397,  798, 1191, 1596],\n",
      "       [   0,  397,  798, 1191, 1596],\n",
      "       [   0,  397,  798, 1191, 1596],\n",
      "       [   0,  397,  798, 1191, 1596],\n",
      "       [   0,  397,  798, 1191, 1596]], dtype=int32), endx=array([[ 397,  397,  397,  397,  397],\n",
      "       [ 798,  798,  798,  798,  798],\n",
      "       [1191, 1191, 1191, 1191, 1191],\n",
      "       [1596, 1596, 1596, 1596, 1596],\n",
      "       [1985, 1985, 1985, 1985, 1985]], dtype=int32), endy=array([[ 397,  798, 1191, 1596, 1985],\n",
      "       [ 397,  798, 1191, 1596, 1985],\n",
      "       [ 397,  798, 1191, 1596, 1985],\n",
      "       [ 397,  798, 1191, 1596, 1985],\n",
      "       [ 397,  798, 1191, 1596, 1985]], dtype=int32))\n",
      "CENMULT_AND_NBS(nl_nbs=array([[  0, 198],\n",
      "       [  0, 200],\n",
      "       [  0, 196],\n",
      "       [  0, 202],\n",
      "       [  0, 194]], dtype=int32), nl_nbs_idx=array([3650, 3672, 3628, 3693, 3606], dtype=int32), omega_nbs=array([67.659164, 67.99455 , 67.32208 , 68.32827 , 66.98328 ],\n",
      "      dtype=float32), num_nbs=array(5, dtype=int32), dim_blocks=array(5, dtype=int32), dim_super=array(1990, dtype=int32))\n",
      "-----------\n",
      "Inside build_supermatrix()\n",
      "CENMULT_AND_NBS(nl_nbs=array([[  0, 198],\n",
      "       [  0, 200],\n",
      "       [  0, 196],\n",
      "       [  0, 202],\n",
      "       [  0, 194]], dtype=int32), nl_nbs_idx=array([3650, 3672, 3628, 3693, 3606], dtype=int32), omega_nbs=array([67.659164, 67.99455 , 67.32208 , 68.32827 , 66.98328 ],\n",
      "      dtype=float32), num_nbs=array(5, dtype=int32), dim_blocks=array(5, dtype=int32), dim_super=array(1990, dtype=int32))\n",
      "0\n",
      "CNM: 1990\n",
      "SUBMAT: SUBMAT_DICT(startx=array([[   0,    0,    0,    0,    0],\n",
      "       [ 397,  397,  397,  397,  397],\n",
      "       [ 798,  798,  798,  798,  798],\n",
      "       [1191, 1191, 1191, 1191, 1191],\n",
      "       [1596, 1596, 1596, 1596, 1596]], dtype=int32), starty=array([[   0,  397,  798, 1191, 1596],\n",
      "       [   0,  397,  798, 1191, 1596],\n",
      "       [   0,  397,  798, 1191, 1596],\n",
      "       [   0,  397,  798, 1191, 1596],\n",
      "       [   0,  397,  798, 1191, 1596]], dtype=int32), endx=array([[ 397,  397,  397,  397,  397],\n",
      "       [ 798,  798,  798,  798,  798],\n",
      "       [1191, 1191, 1191, 1191, 1191],\n",
      "       [1596, 1596, 1596, 1596, 1596],\n",
      "       [1985, 1985, 1985, 1985, 1985]], dtype=int32), endy=array([[ 397,  798, 1191, 1596, 1985],\n",
      "       [ 397,  798, 1191, 1596, 1985],\n",
      "       [ 397,  798, 1191, 1596, 1985],\n",
      "       [ 397,  798, 1191, 1596, 1985],\n",
      "       [ 397,  798, 1191, 1596, 1985]], dtype=int32))\n",
      "-----------\n",
      "SUBMAT_DICT(startx=array([[   0,    0,    0,    0,    0],\n",
      "       [ 399,  399,  399,  399,  399],\n",
      "       [ 802,  802,  802,  802,  802],\n",
      "       [1197, 1197, 1197, 1197, 1197],\n",
      "       [1604, 1604, 1604, 1604, 1604]], dtype=int32), starty=array([[   0,  399,  802, 1197, 1604],\n",
      "       [   0,  399,  802, 1197, 1604],\n",
      "       [   0,  399,  802, 1197, 1604],\n",
      "       [   0,  399,  802, 1197, 1604],\n",
      "       [   0,  399,  802, 1197, 1604]], dtype=int32), endx=array([[ 399,  399,  399,  399,  399],\n",
      "       [ 802,  802,  802,  802,  802],\n",
      "       [1197, 1197, 1197, 1197, 1197],\n",
      "       [1604, 1604, 1604, 1604, 1604],\n",
      "       [1995, 1995, 1995, 1995, 1995]], dtype=int32), endy=array([[ 399,  802, 1197, 1604, 1995],\n",
      "       [ 399,  802, 1197, 1604, 1995],\n",
      "       [ 399,  802, 1197, 1604, 1995],\n",
      "       [ 399,  802, 1197, 1604, 1995],\n",
      "       [ 399,  802, 1197, 1604, 1995]], dtype=int32))\n",
      "CENMULT_AND_NBS(nl_nbs=array([[  0, 199],\n",
      "       [  0, 201],\n",
      "       [  0, 197],\n",
      "       [  0, 203],\n",
      "       [  0, 195]], dtype=int32), nl_nbs_idx=array([3661, 3682, 3639, 3704, 3617], dtype=int32), omega_nbs=array([67.827065, 68.16161 , 67.49084 , 68.49451 , 67.15289 ],\n",
      "      dtype=float32), num_nbs=array(5, dtype=int32), dim_blocks=array(5, dtype=int32), dim_super=array(2000, dtype=int32))\n",
      "-----------\n",
      "Inside build_supermatrix()\n",
      "CENMULT_AND_NBS(nl_nbs=array([[  0, 199],\n",
      "       [  0, 201],\n",
      "       [  0, 197],\n",
      "       [  0, 203],\n",
      "       [  0, 195]], dtype=int32), nl_nbs_idx=array([3661, 3682, 3639, 3704, 3617], dtype=int32), omega_nbs=array([67.827065, 68.16161 , 67.49084 , 68.49451 , 67.15289 ],\n",
      "      dtype=float32), num_nbs=array(5, dtype=int32), dim_blocks=array(5, dtype=int32), dim_super=array(2000, dtype=int32))\n",
      "0\n",
      "CNM: 2000\n",
      "SUBMAT: SUBMAT_DICT(startx=array([[   0,    0,    0,    0,    0],\n",
      "       [ 399,  399,  399,  399,  399],\n",
      "       [ 802,  802,  802,  802,  802],\n",
      "       [1197, 1197, 1197, 1197, 1197],\n",
      "       [1604, 1604, 1604, 1604, 1604]], dtype=int32), starty=array([[   0,  399,  802, 1197, 1604],\n",
      "       [   0,  399,  802, 1197, 1604],\n",
      "       [   0,  399,  802, 1197, 1604],\n",
      "       [   0,  399,  802, 1197, 1604],\n",
      "       [   0,  399,  802, 1197, 1604]], dtype=int32), endx=array([[ 399,  399,  399,  399,  399],\n",
      "       [ 802,  802,  802,  802,  802],\n",
      "       [1197, 1197, 1197, 1197, 1197],\n",
      "       [1604, 1604, 1604, 1604, 1604],\n",
      "       [1995, 1995, 1995, 1995, 1995]], dtype=int32), endy=array([[ 399,  802, 1197, 1604, 1995],\n",
      "       [ 399,  802, 1197, 1604, 1995],\n",
      "       [ 399,  802, 1197, 1604, 1995],\n",
      "       [ 399,  802, 1197, 1604, 1995],\n",
      "       [ 399,  802, 1197, 1604, 1995]], dtype=int32))\n"
     ]
    }
   ],
   "source": [
    "run qdpy_jax/one_walker_one_iteration.py"
   ]
  },
  {
   "cell_type": "code",
   "execution_count": 2,
   "metadata": {},
   "outputs": [
    {
     "name": "stdout",
     "output_type": "stream",
     "text": [
      "6060.0\n"
     ]
    }
   ],
   "source": [
    "import jax\n",
    "def test_laxwhile(a,b):\n",
    "    quantity = 0.\n",
    "    i = a + b\n",
    "    j = 2 * i + 1\n",
    "    k = 2 * j + 1\n",
    "\n",
    "    condfun_1 = lambda inp: inp[1] > 0. # i > 0.\n",
    "    condfun_2 = lambda inp: inp[2] > 0. # j > 0.\n",
    "    condfun_3 = lambda inp: inp[3] > 0. # k > 0.\n",
    "\n",
    "    def bodyfun_1(inp):\n",
    "        quantity, i, j, k = inp\n",
    "        j = 2 * i + 1\n",
    "        def bodyfun_2(inp):\n",
    "            quantity, i, j, k = inp\n",
    "            k = 2 * j + 1\n",
    "            def bodyfun_3(inp):\n",
    "                quantity, i, j, k = inp\n",
    "                #quantity += i + j + k  # This works!\n",
    "                quantity += i + k + j   # This works!\n",
    "                k -= 1.\n",
    "                return (quantity, i, j, k)\n",
    "            result = jax.lax.while_loop(condfun_3, bodyfun_3, (quantity,i,j,k))\n",
    "            quantity = result[0]\n",
    "            j -= 1.\n",
    "            return (quantity, i, j, k)\n",
    "        result = jax.lax.while_loop(condfun_2, bodyfun_2, (quantity,i,j,k))\n",
    "        quantity = result[0]\n",
    "        i -= 1.\n",
    "        return (quantity, i, j, k)\n",
    "\n",
    "    result = jax.lax.while_loop(condfun_1, bodyfun_1, (quantity,i,j,k))\n",
    "    return result[0]\n",
    "\n",
    "print(test_laxwhile(3.,2.))"
   ]
  },
  {
   "cell_type": "code",
   "execution_count": 3,
   "metadata": {},
   "outputs": [],
   "source": [
    "from jax.lax import fori_loop as foril"
   ]
  },
  {
   "cell_type": "code",
   "execution_count": 24,
   "metadata": {},
   "outputs": [
    {
     "name": "stdout",
     "output_type": "stream",
     "text": [
      "3.3077009\n"
     ]
    }
   ],
   "source": [
    "k = 0\n",
    "\n",
    "def func2(i, k):\n",
    "    return k + 0.000077\n",
    "\n",
    "def func1(i, k):\n",
    "    return foril(0, 10, func2, k) + 0.33\n",
    "\n",
    "\n",
    "k = foril(0, 10, func1, k)\n",
    "print(k)"
   ]
  },
  {
   "cell_type": "code",
   "execution_count": 49,
   "metadata": {},
   "outputs": [],
   "source": [
    "@jax.jit\n",
    "def func3(i, arrj):\n",
    "    return np.array(jax.ops.index_update(arrj,\n",
    "                               jax.ops.index[0, i], i))\n",
    "    \n",
    "import numpy as np\n",
    "import jax.numpy as jnp\n",
    "a = np.random.rand(10, 10)\n",
    "aj = jnp.asarray(a)\n",
    "b = np.random.rand(10, 10)\n",
    "bj = jnp.asarray(b)\n",
    "\n",
    "aj = foril(0, 10, \n",
    "           lambda i, aj: \\\n",
    "           foril(0, 10, \n",
    "                 lambda ii, aj:\n",
    "                     jax.ops.index_update(aj,\n",
    "                                jax.ops.index[ii, i], i+ii), aj), aj)\n",
    "\n",
    "sumj = np.zeros_like(b)\n",
    "sumi = np.zeros_like(b)\n",
    "for i in range(10):\n",
    "    for ii in range(10):\n",
    "        sumj[i, ii] = b[:i, ii].sum()\n",
    "        sumi[i, ii] = b[i, :ii].sum()\n",
    "\n",
    "sumi = jnp.asarray(sumi)\n",
    "        \n",
    "aj = foril(0, 10, \n",
    "           lambda i, aj: \\\n",
    "           foril(0, 10, \n",
    "                 lambda ii, aj:\n",
    "                     jax.ops.index_update(aj,\n",
    "                                jax.ops.index[ii, i], sumi[i, ii]), aj), aj)"
   ]
  },
  {
   "cell_type": "code",
   "execution_count": 45,
   "metadata": {},
   "outputs": [
    {
     "data": {
      "text/plain": [
       "DeviceArray([[0.29211652, 0.40524694, 0.41426554, 0.13652478, 0.51138437,\n",
       "              0.51138437, 0.51138437, 0.51138437, 0.51138437, 0.51138437],\n",
       "             [0.208101  , 0.7591928 , 0.4839492 , 0.39776158, 0.9148982 ,\n",
       "              0.9148982 , 0.9148982 , 0.9148982 , 0.9148982 , 0.9148982 ],\n",
       "             [0.66985756, 0.31976643, 0.3175408 , 0.18683541, 0.6922642 ,\n",
       "              0.6922642 , 0.6922642 , 0.6922642 , 0.6922642 , 0.6922642 ],\n",
       "             [0.20286793, 0.49299115, 0.252254  , 0.90681934, 0.72484434,\n",
       "              0.72484434, 0.72484434, 0.72484434, 0.72484434, 0.72484434],\n",
       "             [0.05334908, 0.81094474, 0.10209108, 0.22457187, 0.88225615,\n",
       "              0.88225615, 0.88225615, 0.88225615, 0.88225615, 0.88225615],\n",
       "             [0.05334908, 0.81094474, 0.10209108, 0.22457187, 0.88225615,\n",
       "              0.88225615, 0.88225615, 0.88225615, 0.88225615, 0.88225615],\n",
       "             [0.05334908, 0.81094474, 0.10209108, 0.22457187, 0.88225615,\n",
       "              0.88225615, 0.88225615, 0.88225615, 0.88225615, 0.88225615],\n",
       "             [0.05334908, 0.81094474, 0.10209108, 0.22457187, 0.88225615,\n",
       "              0.88225615, 0.88225615, 0.88225615, 0.88225615, 0.88225615],\n",
       "             [0.05334908, 0.81094474, 0.10209108, 0.22457187, 0.88225615,\n",
       "              0.88225615, 0.88225615, 0.88225615, 0.88225615, 0.88225615],\n",
       "             [0.05334908, 0.81094474, 0.10209108, 0.22457187, 0.88225615,\n",
       "              0.88225615, 0.88225615, 0.88225615, 0.88225615, 0.88225615]],            dtype=float32)"
      ]
     },
     "execution_count": 45,
     "metadata": {},
     "output_type": "execute_result"
    }
   ],
   "source": [
    "aj"
   ]
  },
  {
   "cell_type": "code",
   "execution_count": null,
   "metadata": {},
   "outputs": [],
   "source": []
  }
 ],
 "metadata": {
  "kernelspec": {
   "display_name": "jax-gpu",
   "language": "python",
   "name": "jax-gpu"
  },
  "language_info": {
   "codemirror_mode": {
    "name": "ipython",
    "version": 3
   },
   "file_extension": ".py",
   "mimetype": "text/x-python",
   "name": "python",
   "nbconvert_exporter": "python",
   "pygments_lexer": "ipython3",
   "version": "3.8.10"
  }
 },
 "nbformat": 4,
 "nbformat_minor": 4
}
