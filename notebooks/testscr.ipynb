{
 "cells": [
  {
   "cell_type": "code",
   "execution_count": 1,
   "metadata": {},
   "outputs": [
    {
     "name": "stdout",
     "output_type": "stream",
     "text": [
      "/mnt/disk2/samarth/qdpy-numpyro\n"
     ]
    }
   ],
   "source": [
    "cd .."
   ]
  },
  {
   "cell_type": "code",
   "execution_count": 2,
   "metadata": {},
   "outputs": [
    {
     "name": "stdout",
     "output_type": "stream",
     "text": [
      "/mnt/disk2/samarth/qdpy-numpyro/qdpy_jax\n"
     ]
    }
   ],
   "source": [
    "cd qdpy_jax"
   ]
  },
  {
   "cell_type": "code",
   "execution_count": 29,
   "metadata": {},
   "outputs": [
    {
     "name": "stdout",
     "output_type": "stream",
     "text": [
      "Omega()\n",
      "JIT version is faster by 66.39498525437742\n",
      "minus1pow()\n",
      "JIT version is faster by:  53.871654795657285\n",
      "minus1pow_vec()\n",
      "JIT version is faster by:  30.94650590995218\n",
      "gamma()\n",
      "JIT version is faster by:  2.593262137139752\n",
      "compute_Tsr()\n",
      "JIT version is faster by:  115.90014538666571\n",
      "Time taken per iteration (jax jitted) compute_Tsr = 5.313e-02 seconds\n",
      "get_Cvec()\n",
      "JIT version is faster by:  237.84513498945518\n",
      "Time taken per iteration (jax jitted) get_Cvec = 4.556e-02 seconds\n"
     ]
    }
   ],
   "source": [
    "run jax_rotation_kernels.py"
   ]
  },
  {
   "cell_type": "code",
   "execution_count": 30,
   "metadata": {},
   "outputs": [
    {
     "name": "stdout",
     "output_type": "stream",
     "text": [
      "[compute_Tsr] Time taken per iteration in seconds (no jax): , 4.143e-02 seconds\n",
      "[get_Cvec] Time taken per iteration in seconds (no jax): , 4.921e-01 seconds\n"
     ]
    }
   ],
   "source": [
    "run rotation_kernels.py"
   ]
  },
  {
   "cell_type": "code",
   "execution_count": 26,
   "metadata": {},
   "outputs": [
    {
     "data": {
      "text/plain": [
       "11.157108239095315"
      ]
     },
     "execution_count": 26,
     "metadata": {},
     "output_type": "execute_result"
    }
   ],
   "source": [
    " 5.525e-03/4.952e-04"
   ]
  },
  {
   "cell_type": "code",
   "execution_count": null,
   "metadata": {},
   "outputs": [],
   "source": []
  }
 ],
 "metadata": {
  "kernelspec": {
   "display_name": "jax-gpu",
   "language": "python",
   "name": "jax-gpu"
  },
  "language_info": {
   "codemirror_mode": {
    "name": "ipython",
    "version": 3
   },
   "file_extension": ".py",
   "mimetype": "text/x-python",
   "name": "python",
   "nbconvert_exporter": "python",
   "pygments_lexer": "ipython3",
   "version": "3.8.10"
  }
 },
 "nbformat": 4,
 "nbformat_minor": 4
}
