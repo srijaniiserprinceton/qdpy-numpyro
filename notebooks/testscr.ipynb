{
 "cells": [
  {
   "cell_type": "code",
   "execution_count": 1,
   "metadata": {},
   "outputs": [
    {
     "name": "stdout",
     "output_type": "stream",
     "text": [
      "/mnt/disk2/samarth/qdpy-numpyro\n"
     ]
    }
   ],
   "source": [
    "cd .."
   ]
  },
  {
   "cell_type": "code",
   "execution_count": 1,
   "metadata": {},
   "outputs": [
    {
     "name": "stdout",
     "output_type": "stream",
     "text": [
      "[Errno 2] No such file or directory: 'qdpy_jax'\n",
      "/mnt/disk2/samarth/qdpy-numpyro/notebooks\n"
     ]
    }
   ],
   "source": [
    "cd qdpy_jax"
   ]
  },
  {
   "cell_type": "code",
   "execution_count": 2,
   "metadata": {},
   "outputs": [
    {
     "name": "stdout",
     "output_type": "stream",
     "text": [
      "hierarchical-linear-regression.ipynb  sigmoid-changepoint.ipynb\n",
      "jax-pmap.ipynb                        simple_example.ipynb\n",
      "linear-regression.ipynb               test-pyro.ipynb\n",
      "pyro_example1.ipynb                   testscr.ipynb\n",
      "pytrees.ipynb                         wig-index.ipynb\n",
      "qdpy-simple.ipynb\n"
     ]
    }
   ],
   "source": [
    "ls"
   ]
  }
 ],
 "metadata": {
  "kernelspec": {
   "display_name": "jax-gpu",
   "language": "python",
   "name": "jax-gpu"
  },
  "language_info": {
   "codemirror_mode": {
    "name": "ipython",
    "version": 3
   },
   "file_extension": ".py",
   "mimetype": "text/x-python",
   "name": "python",
   "nbconvert_exporter": "python",
   "pygments_lexer": "ipython3",
   "version": "3.8.10"
  }
 },
 "nbformat": 4,
 "nbformat_minor": 4
}
