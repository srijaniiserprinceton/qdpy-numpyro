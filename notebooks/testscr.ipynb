{
 "cells": [
  {
   "cell_type": "code",
   "execution_count": 1,
   "metadata": {},
   "outputs": [
    {
     "name": "stdout",
     "output_type": "stream",
     "text": [
      "/mnt/disk2/samarth/qdpy-numpyro\n"
     ]
    }
   ],
   "source": [
    "cd .."
   ]
  },
  {
   "cell_type": "code",
   "execution_count": 2,
   "metadata": {},
   "outputs": [
    {
     "name": "stdout",
     "output_type": "stream",
     "text": [
      "/mnt/disk2/samarth/qdpy-numpyro/qdpy_jax\n"
     ]
    }
   ],
   "source": [
    "cd qdpy_jax"
   ]
  },
  {
   "cell_type": "code",
   "execution_count": 3,
   "metadata": {},
   "outputs": [
    {
     "name": "stdout",
     "output_type": "stream",
     "text": [
      "1walk1iter.py             load_multiplets.py           rotation_kernels.py\n",
      "build_cenmult_and_nbs.py  muhz.dat                     test_jax_class.py\n",
      "build_supermatrix.py      namedtuple_Cvec.py           U3672.dat\n",
      "class_Cvec.py             nl.dat                       V3672.dat\n",
      "globalvars.py             one_walker_one_iteration.py  w.dat\n",
      "gnool_jit.py              prune_multiplets.py          wigner_map2.py\n",
      "__init__.py               \u001b[0m\u001b[01;34m__pycache__\u001b[0m/                 wigner_map.py\n",
      "jax_functions.py          pyrotry.py\n",
      "jax_rotation_kernels.py   r.dat\n"
     ]
    }
   ],
   "source": [
    "ls"
   ]
  },
  {
   "cell_type": "code",
   "execution_count": 4,
   "metadata": {},
   "outputs": [],
   "source": [
    "from IPython.display import set_matplotlib_formats\n",
    "from jax.scipy.special import logsumexp\n",
    "import matplotlib.pyplot as plt\n",
    "from jax import random, vmap\n",
    "import jax.numpy as jnp\n",
    "import seaborn as sns\n",
    "import pandas as pd\n",
    "import numpy as np\n",
    "import os\n",
    "\n",
    "NAX = np.newaxis\n",
    "\n",
    "import numpyro\n",
    "from numpyro.diagnostics import hpdi\n",
    "import numpyro.distributions as dist\n",
    "from numpyro.infer import MCMC, NUTS\n",
    "from numpyro import handlers\n",
    "\n",
    "plt.style.use('bmh')\n",
    "if \"NUMPYRO_SPHINXBUILD\" in os.environ:\n",
    "    set_matplotlib_formats('svg')\n",
    "\n",
    "assert numpyro.__version__.startswith('0.6.0')\n",
    "#numpyro.set_platform(\"gpu\")\n",
    "\n",
    "numpyro.set_platform(\"cpu\")\n",
    "#numpyro.set_host_device_count(5)\n",
    "\n",
    "from scipy.integrate import simps\n",
    "from jax.numpy import trapz"
   ]
  },
  {
   "cell_type": "code",
   "execution_count": null,
   "metadata": {},
   "outputs": [],
   "source": []
  }
 ],
 "metadata": {
  "kernelspec": {
   "display_name": "jax-gpu",
   "language": "python",
   "name": "jax-gpu"
  },
  "language_info": {
   "codemirror_mode": {
    "name": "ipython",
    "version": 3
   },
   "file_extension": ".py",
   "mimetype": "text/x-python",
   "name": "python",
   "nbconvert_exporter": "python",
   "pygments_lexer": "ipython3",
   "version": "3.8.10"
  }
 },
 "nbformat": 4,
 "nbformat_minor": 4
}
