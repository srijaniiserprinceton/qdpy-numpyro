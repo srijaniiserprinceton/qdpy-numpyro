{
 "cells": [
  {
   "cell_type": "markdown",
   "metadata": {},
   "source": [
    "### Creating an alternative way to compute indices for wigners"
   ]
  },
  {
   "cell_type": "markdown",
   "metadata": {},
   "source": [
    "Typically, employing the selection rules for the wigners, we could build a superset of all possible wigners for a given combination of $\\ell_1, \\ell_2, s, m_1, m_2, m_3$. Hence, efficient storage becomes important as the computation of wigners is expensive and there are huge redundancy because of :"
   ]
  },
  {
   "cell_type": "markdown",
   "metadata": {},
   "source": [
    "1. symmetries (e.g., cyclic change)\n",
    "2. parity (in some cases, the wigners differ by only a sign)"
   ]
  },
  {
   "cell_type": "markdown",
   "metadata": {},
   "source": [
    "This involves the computation of indices (https://github.com/csdms-contrib/slepian_alpha/blob/master/wignersort.m) which assigns a unique index for a unique wigner. However, it is noted that the computation of the index itself is quite expensive, albeit very cheap when compared to the computation of the wigners themselves. For our use-case in `qdPy`, this could potentially be simplified as the wigners always have the same structure. For the problem of rotation, the wigners are always written as $(\\ell, s, \\ell')$ in the numerator and $(-m, 0, m)$ in the denominator. This ensures that we could eliminate the need to account for the redundancy due to cyclical combinations of the parameters. "
   ]
  },
  {
   "cell_type": "markdown",
   "metadata": {},
   "source": [
    "For our case, the uniqueness of a wigner can be attributed to the uniqueness of just 4 parameters. $(\\ell, s, \\ell', m)$. Defining $\\Delta\\ell = \\ell' - \\ell$, we can write the parameters into two sets of pairs $(\\ell, m)$ and $(s, \\Delta\\ell)$. Because of the selection rules, we already know that $\\Delta\\ell \\le s$ and hence, the $(s, \\Delta\\ell)$ pair could be quantified in the same way as the $(\\ell, m)$ pair. It is well known that \n",
    "$\\ell(\\ell+1) + m$ provides a one-dimensional index which is unique for each $(\\ell, m)$ pair. Since we have two such pairs, we create a 2D index array with the first index corresponding to $\\ell(\\ell+1) + s$ and the second index corresponding to $s(s+1) + \\Delta\\ell$."
   ]
  },
  {
   "cell_type": "markdown",
   "metadata": {},
   "source": [
    "The only unique wigners are corresponding to $\\ell'>\\ell$ and $m\\ge 0$. Flipping the sign of the denominator introduces an additional $(-1)^{\\ell + \\ell' + s}$ factor. Since $s$ is odd and $\\Delta\\ell$ is even, $s+\\ell+\\ell' = s+2\\ell + \\Delta\\ell$. Hence only in the case when $s+\\Delta\\ell$ is odd, a $-1$ factor is introduced.\n",
    "\n",
    "For odd $s+\\Delta\\ell$, the $-1$ factor is introduced in the following cases.\n",
    "\\begin{align}\n",
    "m < 0 & \\qquad  f = -1\n",
    "\\end{align}\n",
    "\n",
    "and the unique computed wigners have the form\n",
    "\\begin{equation}\n",
    "\\begin{pmatrix}\n",
    "\\ell & s & \\ell' \\\\\n",
    "-|m| & 0 & |m| \n",
    "\\end{pmatrix}\n",
    "\\end{equation}"
   ]
  },
  {
   "cell_type": "code",
   "execution_count": 53,
   "metadata": {},
   "outputs": [],
   "source": [
    "import numpy as np\n",
    "from py3nj import wigner3j\n",
    "\n",
    "# existing library to compute the unique wigners and to test\n",
    "def w3j_vecm(l1, l2, l3, m1, m2, m3):\n",
    "    l1 = int(2*l1)\n",
    "    l2 = int(2*l2)\n",
    "    l3 = int(2*l3)\n",
    "    m1 = 2*m1\n",
    "    m2 = 2*m2\n",
    "    m3 = 2*m3\n",
    "    wigvals = wigner3j(l1, l2, l3, m1, m2, m3)\n",
    "    return wigvals\n",
    "\n",
    "@np.vectorize\n",
    "def get_wig_idx(ell, s, ellp, m):\n",
    "    ellc = min(ell, ellp)\n",
    "    fac = 1\n",
    "    if m < 0:\n",
    "        fac = -1\n",
    "    dell = abs(ellp - ell)\n",
    "    idx1 = ellc*(ellc+1)/2 + abs(m)\n",
    "    idx2 = s*(s+1)/2 + abs(dell)\n",
    "    return idx1, idx2, fac\n",
    "\n",
    "# this is used to compute all the unique wigners\n",
    "def compute_wigners(ell, s, ellp, m):\n",
    "    idx1, idx2, fac = get_wig_idx(ell, s, ellp, m)\n",
    "    wig_list = w3j_vecm(ell, s, ellp, -m, 0*m, m)\n",
    "    wig_idx_full = np.zeros((len(wig_list), 2), dtype=np.int32)\n",
    "    wig_idx_full[:, 0] = idx1\n",
    "    wig_idx_full[:, 1] = idx2\n",
    "    return wig_list, wig_idx_full\n",
    "\n",
    "# comparison of wigners accessed from the store-values\n",
    "# and those computed using py3nj\n",
    "def get_wig_from_pc(ell1, s, ell2, m):\n",
    "    wig1 = w3j_vecm(ell1, s, ell2, -m, 0, m)\n",
    "    idx1, idx2, fac = get_wig_idx(ell1, s, ell2, m)\n",
    "    wig_idx = np.where((wig_idx_full[:, 0]==idx1) *\n",
    "                       (wig_idx_full[:, 1]==idx2))[0][0]\n",
    "    wig2 = fac * wig_list[wig_idx]\n",
    "    tv = np.isclose(wig1, wig2)\n",
    "    print(f'({ell1:4d} :{ell2:4d} :{m:4d}) wig-actual = {wig1:9.6f}: wig-read = {wig2:9.6f} - Match = {tv}')\n",
    "    return wig1, wig2\n",
    "\n",
    "    "
   ]
  },
  {
   "cell_type": "code",
   "execution_count": 56,
   "metadata": {},
   "outputs": [],
   "source": [
    "ell1, s, ell2 = 200, 5, 202\n",
    "ellmin = min(ell1, ell2)\n",
    "m = np.arange(ellmin+1)\n",
    "\n",
    "#precomputing the wigners\n",
    "wig_list, wig_idx_full = compute_wigners(ell1, s, ell2, m)"
   ]
  },
  {
   "cell_type": "code",
   "execution_count": 57,
   "metadata": {},
   "outputs": [
    {
     "name": "stdout",
     "output_type": "stream",
     "text": [
      "( 200 : 202 : 125) wig-actual = -0.005323: wig-read = -0.005323 - Match = True\n",
      "( 202 : 200 : 125) wig-actual = -0.005323: wig-read = -0.005323 - Match = True\n",
      "( 200 : 202 :-125) wig-actual =  0.005323: wig-read =  0.005323 - Match = True\n",
      "( 202 : 200 :-125) wig-actual =  0.005323: wig-read =  0.005323 - Match = True\n"
     ]
    }
   ],
   "source": [
    "# Testing for all the possible cases\n",
    "m_test = 125\n",
    "__ = get_wig_from_pc(ell1, s, ell2, m_test)\n",
    "__ = get_wig_from_pc(ell2, s, ell1, m_test)\n",
    "__ = get_wig_from_pc(ell1, s, ell2, -m_test)\n",
    "__ = get_wig_from_pc(ell2, s, ell1, -m_test)"
   ]
  },
  {
   "cell_type": "code",
   "execution_count": 45,
   "metadata": {},
   "outputs": [
    {
     "data": {
      "text/plain": [
       "True"
      ]
     },
     "execution_count": 45,
     "metadata": {},
     "output_type": "execute_result"
    }
   ],
   "source": [
    "np.isclose(w1, w2)"
   ]
  },
  {
   "cell_type": "markdown",
   "metadata": {},
   "source": [
    "The maximum size of the array would be $\\frac{\\ell_{max}(\\ell_{max}+1)}{2}  \\frac{s_{max}(s_{max}+1)^2}{2}$"
   ]
  },
  {
   "cell_type": "code",
   "execution_count": 15,
   "metadata": {},
   "outputs": [
    {
     "name": "stdout",
     "output_type": "stream",
     "text": [
      "Max array shape = (677250.0, 2)\n",
      "Total memory for index array = 1.292 MB\n",
      "Total memory for wigner array = 10.334 MB\n"
     ]
    }
   ],
   "source": [
    "ellmax = 300\n",
    "smax = 5\n",
    "sz1 = ellmax*(ellmax+1)/2\n",
    "sz2 = smax*(smax+1)/2\n",
    "print(f\"Max array shape = ({sz1*sz2}, 2)\")\n",
    "print(f\"Total memory for index array = {sz1*sz2*2/1024/1024:.3f} MB\")\n",
    "print(f\"Total memory for wigner array = {sz1*sz2*2*8/1024/1024:.3f} MB\")"
   ]
  },
  {
   "cell_type": "code",
   "execution_count": 17,
   "metadata": {},
   "outputs": [
    {
     "name": "stdout",
     "output_type": "stream",
     "text": [
      "4 µs ± 0 ns per loop (mean ± std. dev. of 1 run, 1 loop each)\n",
      "Time taken for 1.2 billion computations = 79.92 minutes\n"
     ]
    }
   ],
   "source": [
    "result = %timeit -n1 -r1 -o get_wig_idx(200, 3, 201, -100)\n",
    "time_avg = result.average\n",
    "time_std = result.stdev\n",
    "print(f\"Time taken for 1.2 billion computations = {time_avg*1.2e9/60:.2f} minutes\")"
   ]
  }
 ],
 "metadata": {
  "kernelspec": {
   "display_name": "jax-gpu",
   "language": "python",
   "name": "jax-gpu"
  },
  "language_info": {
   "codemirror_mode": {
    "name": "ipython",
    "version": 3
   },
   "file_extension": ".py",
   "mimetype": "text/x-python",
   "name": "python",
   "nbconvert_exporter": "python",
   "pygments_lexer": "ipython3",
   "version": "3.8.10"
  }
 },
 "nbformat": 4,
 "nbformat_minor": 4
}
