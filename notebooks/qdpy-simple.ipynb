{
 "cells": [
  {
   "cell_type": "code",
   "execution_count": 1,
   "metadata": {},
   "outputs": [],
   "source": [
    "from IPython.display import set_matplotlib_formats\n",
    "from jax.scipy.special import logsumexp\n",
    "import matplotlib.pyplot as plt\n",
    "from jax import random, vmap\n",
    "import jax.numpy as jnp\n",
    "import seaborn as sns\n",
    "import pandas as pd\n",
    "import numpy as np\n",
    "import os\n",
    "\n",
    "NAX = np.newaxis\n",
    "\n",
    "import numpyro\n",
    "from numpyro.diagnostics import hpdi\n",
    "import numpyro.distributions as dist\n",
    "from numpyro.infer import MCMC, NUTS\n",
    "from numpyro import handlers\n",
    "\n",
    "plt.style.use('bmh')\n",
    "if \"NUMPYRO_SPHINXBUILD\" in os.environ:\n",
    "    set_matplotlib_formats('svg')\n",
    "\n",
    "assert numpyro.__version__.startswith('0.6.0')\n",
    "#numpyro.set_platform(\"gpu\")\n",
    "\n",
    "numpyro.set_platform(\"cpu\")\n",
    "#numpyro.set_host_device_count(5)\n",
    "\n",
    "from scipy.integrate import simps\n",
    "from jax.numpy import trapz"
   ]
  },
  {
   "cell_type": "code",
   "execution_count": 2,
   "metadata": {},
   "outputs": [
    {
     "name": "stdout",
     "output_type": "stream",
     "text": [
      "/mnt/disk2/samarth/qdpy-numpyro\n"
     ]
    }
   ],
   "source": [
    "cd .."
   ]
  },
  {
   "cell_type": "code",
   "execution_count": 3,
   "metadata": {},
   "outputs": [
    {
     "name": "stdout",
     "output_type": "stream",
     "text": [
      "/mnt/disk2/samarth/qdpy-numpyro/qdpy_jax\n"
     ]
    }
   ],
   "source": [
    "cd qdpy_jax"
   ]
  },
  {
   "cell_type": "code",
   "execution_count": 4,
   "metadata": {},
   "outputs": [
    {
     "name": "stdout",
     "output_type": "stream",
     "text": [
      "4.698038101196289e-06\n",
      "0.001305929183959961\n"
     ]
    }
   ],
   "source": [
    "run rotation_kernels.py"
   ]
  },
  {
   "cell_type": "markdown",
   "metadata": {},
   "source": [
    "### Creating a simple qdPy script to test out pyro"
   ]
  },
  {
   "cell_type": "code",
   "execution_count": 5,
   "metadata": {},
   "outputs": [],
   "source": [
    "def eig_mcmc_func(w1=None, w3=None, w5=None):\n",
    "    return  get_eigs(create_supermatrix(w1, w3, w5))/2./omega0\n",
    "    \n",
    "\n",
    "#def create_supermatrix(wsr_slope):\n",
    "def create_supermatrix(w1, w3, w5):\n",
    "    integrand1 = Tsr[0, :] * w1\n",
    "    integrand3 = Tsr[1, :] * w3\n",
    "    integrand5 = Tsr[2, :] * w5\n",
    "    integral1 = trapz(integrand1, x=r)\n",
    "    integral3 = trapz(integrand3, x=r)\n",
    "    integral5 = trapz(integrand5, x=r)\n",
    "    prod_gamma1 = gamma(ell1)*gamma(ell2)*gamma(s_arr[0])\n",
    "    prod_gamma3 = gamma(ell1)*gamma(ell2)*gamma(s_arr[0])\n",
    "    prod_gamma5 = gamma(ell1)*gamma(ell2)*gamma(s_arr[0])\n",
    "    wpi = (wigvals[:, 0]*integral1*prod_gamma1 + \n",
    "           wigvals[:, 1]*integral3*prod_gamma3 +\n",
    "           wigvals[:, 2]*integral5*prod_gamma5)\n",
    "    #diag = minus1pow_vecm(m)*8*np.pi*omega0*(wigvals @ (prod_gammas * integral))\n",
    "    #diag = minus1pow_vecm(m)*8*np.pi*omega0*wpi\n",
    "    diag = 8*np.pi*omega0*wpi\n",
    "    supmat = jnp.diag(diag)\n",
    "    return supmat\n",
    "\n",
    "def get_eigs(mat):\n",
    "    eigvals, eigvecs = jnp.linalg.eigh(mat)\n",
    "    return eigvals\n",
    "\"\"\"\n",
    "    eigbasis_sort_idx = np.zeros(len(eigvals), dtype=np.int16)\n",
    "    for i in range(len(eigvals)):\n",
    "        eigbasis_sort_idx[i] = abs(eigvecs[i]).argmax()\n",
    "    return jnp.asarray(eigvals[eigbasis_sort_idx])\n",
    "\"\"\"\n",
    "\n",
    "def gamma(ell):\n",
    "    return jnp.sqrt((2*ell+1)/4./np.pi)\n",
    "\n",
    "def minus1pow_vecm(num):\n",
    "    modval = num % 2\n",
    "    retval = np.zeros_like(modval)\n",
    "    retval[modval == 1] = -1\n",
    "    retval[modval == 0] = 1\n",
    "    return retval"
   ]
  },
  {
   "cell_type": "code",
   "execution_count": 6,
   "metadata": {},
   "outputs": [
    {
     "data": {
      "image/png": "[encoded data removed]",
      "text/plain": [
       "<Figure size 432x288 with 1 Axes>"
      ]
     },
     "metadata": {
      "needs_background": "light"
     },
     "output_type": "display_data"
    }
   ],
   "source": [
    "r = np.loadtxt('/mnt/disk2/samarth/qdpy-numpyro/qdpy_jax/r.dat')\n",
    "U = np.loadtxt('/mnt/disk2/samarth/qdpy-numpyro/qdpy_jax/U3672.dat')\n",
    "V = np.loadtxt('/mnt/disk2/samarth/qdpy-numpyro/qdpy_jax/V3672.dat')\n",
    "\n",
    "rmin, rmax = 0.3, 1.0\n",
    "rmin_idx = np.argmin(abs(r - rmin))\n",
    "rmax_idx = np.argmin(abs(r - rmax)) + 1\n",
    "\n",
    "r = r[rmin_idx:rmax_idx]\n",
    "U = U[rmin_idx:rmax_idx]\n",
    "V = V[rmin_idx:rmax_idx]\n",
    "\n",
    "r = jnp.asarray(r)\n",
    "U = jnp.asarray(U)\n",
    "V = jnp.asarray(V)\n",
    "Tsr = jnp.asarray(Tsr)\n",
    "\n",
    "n1, n2 = 0, 0\n",
    "ell1, ell2 = 200, 200\n",
    "ell = min(ell1, ell2)\n",
    "nu0 = 4741.\n",
    "\n",
    "Msol = 1.989e33\n",
    "Rsol = 6.956e10\n",
    "B0 = 10.e5\n",
    "OM = jnp.sqrt(4*np.pi*Rsol*B0**2/Msol)\n",
    "nu0 /= OM*1e6\n",
    "omega0 = 2*jnp.pi*nu0\n",
    "\n",
    "s_arr = jnp.array([1., 3., 5.])\n",
    "m = jnp.arange(-ell, ell+1)\n",
    "wigvals = np.zeros((2*ell+1, len(s_arr)))\n",
    "for i in range(len(s_arr)):\n",
    "    wigvals[:, i] = w3j_vecm(ell1, s_arr[i], ell2, -m, 0*m, m)\n",
    "    \n",
    "wigvals = jnp.asarray(wigvals)\n",
    "w1t, w3t, w5t = 10.51, .43, .175\n",
    "eigvals_true = get_eigs(create_supermatrix(w1t, w3t, w5t))/2/omega0\n",
    "\n",
    "plt.figure()\n",
    "plt.plot(m, eigvals_true)\n",
    "plt.xlabel('$m$')\n",
    "plt.ylabel('$\\delta\\omega_{nlm}$')\n",
    "plt.show()\n",
    "\n"
   ]
  },
  {
   "cell_type": "code",
   "execution_count": 54,
   "metadata": {},
   "outputs": [],
   "source": [
    "def model():\n",
    "    w1min, w1max = .1*abs(w1t), 3.*abs(w1t)\n",
    "    w3min, w3max = .1*abs(w3t), 3.*abs(w3t)\n",
    "    w5min, w5max = .1*abs(w5t), 3.*abs(w5t)\n",
    "    \n",
    "    w1 = numpyro.sample('w1', dist.Uniform(w1min, w1max))\n",
    "    w3 = numpyro.sample('w3', dist.Uniform(w3min, w3max))\n",
    "    w5 = numpyro.sample('w5', dist.Uniform(w5min, w5max))\n",
    "    \n",
    "    sigma = numpyro.sample('sigma', dist.Uniform(0.1, 10.0))\n",
    "    eig_sample = numpyro.deterministic('eig', eig_mcmc_func(w1=w1, w3=w3, w5=w5))\n",
    "    return numpyro.sample('obs', dist.Normal(eig_sample, sigma), obs=eigvals_true)"
   ]
  },
  {
   "cell_type": "code",
   "execution_count": 55,
   "metadata": {},
   "outputs": [],
   "source": [
    "# Start from this source of randomness. We will split keys for subsequent operations.\n",
    "rng_key = random.PRNGKey(12)\n",
    "rng_key, rng_key_ = random.split(rng_key)\n",
    "\n",
    "# Run NUTS.\n",
    "kernel = NUTS(model)\n",
    "mcmc = MCMC(kernel, num_warmup=50, num_samples=300)#, num_chains=5)"
   ]
  },
  {
   "cell_type": "code",
   "execution_count": null,
   "metadata": {},
   "outputs": [
    {
     "name": "stderr",
     "output_type": "stream",
     "text": [
      "sample:  24%|██▎       | 83/350 [00:20<01:20,  3.32it/s, 63 steps of size 3.89e-03. acc. prob=0.76] "
     ]
    }
   ],
   "source": [
    "mcmc.run(rng_key_)\n",
    "#mcmc.run(rng_key_, x_scaled=x_scaled)\n",
    "mcmc.print_summary()\n",
    "print(f\"w1_true = {w1t}\\n\" +\n",
    "     f\"w3_true = {w3t}\\n\" +\n",
    "     f\"w5_true = {w5t}\")"
   ]
  },
  {
   "cell_type": "code",
   "execution_count": null,
   "metadata": {},
   "outputs": [],
   "source": [
    "samples_1 = mcmc.get_samples()\n",
    "fig, axs = plt.subplots(nrows=len(samples_1.keys()), ncols=1, figsize=(5, 8))\n",
    "axs = axs.flatten()\n",
    "count = 0\n",
    "for key in samples_1.keys():\n",
    "    axs[count].plot(samples_1[f'{key}'])\n",
    "    axs[count].set_ylabel(f'{key}')\n",
    "    count += 1\n",
    "plt.tight_layout()"
   ]
  },
  {
   "cell_type": "code",
   "execution_count": null,
   "metadata": {},
   "outputs": [],
   "source": [
    "plt.figure()\n",
    "plt.plot(m, eigvals_true)\n",
    "for i in range(eig_samples.shape[0]):\n",
    "    plt.plot(m, eig_samples[i, :], 'r', alpha=0.02)\n",
    "plt.xlabel('$m$')\n",
    "plt.ylabel('$\\delta\\omega_{nlm}$')\n",
    "plt.show()"
   ]
  },
  {
   "cell_type": "code",
   "execution_count": null,
   "metadata": {},
   "outputs": [],
   "source": []
  }
 ],
 "metadata": {
  "kernelspec": {
   "display_name": "jax-gpu",
   "language": "python",
   "name": "jax-gpu"
  },
  "language_info": {
   "codemirror_mode": {
    "name": "ipython",
    "version": 3
   },
   "file_extension": ".py",
   "mimetype": "text/x-python",
   "name": "python",
   "nbconvert_exporter": "python",
   "pygments_lexer": "ipython3",
   "version": "3.8.10"
  }
 },
 "nbformat": 4,
 "nbformat_minor": 4
}
