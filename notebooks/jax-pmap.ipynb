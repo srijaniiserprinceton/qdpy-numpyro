{
 "cells": [
  {
   "cell_type": "code",
   "execution_count": 1,
   "metadata": {},
   "outputs": [],
   "source": [
    "import os\n",
    "import numpy as np\n",
    "# sets number of CPU device count\n",
    "os.environ[\"XLA_FLAGS\"] = \"--xla_force_host_platform_device_count=20\""
   ]
  },
  {
   "cell_type": "code",
   "execution_count": 2,
   "metadata": {},
   "outputs": [
    {
     "name": "stdout",
     "output_type": "stream",
     "text": [
      "CPU count = 20\n",
      "CPU list = [CpuDevice(id=0), CpuDevice(id=1), CpuDevice(id=2), CpuDevice(id=3), CpuDevice(id=4), CpuDevice(id=5), CpuDevice(id=6), CpuDevice(id=7), CpuDevice(id=8), CpuDevice(id=9), CpuDevice(id=10), CpuDevice(id=11), CpuDevice(id=12), CpuDevice(id=13), CpuDevice(id=14), CpuDevice(id=15), CpuDevice(id=16), CpuDevice(id=17), CpuDevice(id=18), CpuDevice(id=19)]\n"
     ]
    }
   ],
   "source": [
    "import jax\n",
    "jax.config.update('jax_platform_name', 'cpu')\n",
    "cpus = jax.devices('cpu')\n",
    "cpu_count = jax.device_count()\n",
    "\n",
    "print(f\"CPU count = {cpu_count}\")\n",
    "print(f\"CPU list = {cpus}\")"
   ]
  },
  {
   "cell_type": "code",
   "execution_count": null,
   "metadata": {},
   "outputs": [],
   "source": []
  },
  {
   "cell_type": "code",
   "execution_count": 4,
   "metadata": {},
   "outputs": [
    {
     "name": "stdout",
     "output_type": "stream",
     "text": [
      "[1. 1.]\n",
      "[1. 1. 1.]\n",
      "1.0000001\n"
     ]
    }
   ],
   "source": [
    "from functools import partial\n",
    "import jax\n",
    "import jax.numpy as jnp\n",
    "@partial(jax.pmap, axis_name='rows')\n",
    "@partial(jax.pmap, axis_name='cols')\n",
    "def normalize(x):\n",
    "    row_normed = x / jax.lax.psum(x, 'rows')\n",
    "    col_normed = x / jax.lax.psum(x, 'cols')\n",
    "    doubly_normed = x / jax.lax.psum(x, ('rows', 'cols'))\n",
    "    return row_normed, col_normed, doubly_normed\n",
    "\n",
    "x = jnp.arange(6.).reshape((3, 2))\n",
    "row_normed, col_normed, doubly_normed = normalize(x)  \n",
    "print(row_normed.sum(0))  \n",
    "print(col_normed.sum(1))  \n",
    "print(doubly_normed.sum((0, 1)))  "
   ]
  },
  {
   "cell_type": "code",
   "execution_count": 5,
   "metadata": {},
   "outputs": [
    {
     "ename": "AttributeError",
     "evalue": "module 'jax' has no attribute 'process_index'",
     "output_type": "error",
     "traceback": [
      "\u001b[0;31m---------------------------------------------------------------------------\u001b[0m",
      "\u001b[0;31mAttributeError\u001b[0m                            Traceback (most recent call last)",
      "\u001b[0;32m<ipython-input-5-e3c0d30bb3c2>\u001b[0m in \u001b[0;36m<module>\u001b[0;34m\u001b[0m\n\u001b[1;32m      1\u001b[0m \u001b[0mf\u001b[0m \u001b[0;34m=\u001b[0m \u001b[0;32mlambda\u001b[0m \u001b[0mx\u001b[0m\u001b[0;34m:\u001b[0m \u001b[0mx\u001b[0m \u001b[0;34m+\u001b[0m \u001b[0mjax\u001b[0m\u001b[0;34m.\u001b[0m\u001b[0mlax\u001b[0m\u001b[0;34m.\u001b[0m\u001b[0mpsum\u001b[0m\u001b[0;34m(\u001b[0m\u001b[0mx\u001b[0m\u001b[0;34m,\u001b[0m \u001b[0maxis_name\u001b[0m\u001b[0;34m=\u001b[0m\u001b[0;34m'i'\u001b[0m\u001b[0;34m)\u001b[0m\u001b[0;34m\u001b[0m\u001b[0;34m\u001b[0m\u001b[0m\n\u001b[0;32m----> 2\u001b[0;31m \u001b[0mdata\u001b[0m \u001b[0;34m=\u001b[0m \u001b[0mjnp\u001b[0m\u001b[0;34m.\u001b[0m\u001b[0marange\u001b[0m\u001b[0;34m(\u001b[0m\u001b[0;36m6\u001b[0m\u001b[0;34m)\u001b[0m \u001b[0;32mif\u001b[0m \u001b[0mjax\u001b[0m\u001b[0;34m.\u001b[0m\u001b[0mprocess_index\u001b[0m\u001b[0;34m(\u001b[0m\u001b[0;34m)\u001b[0m \u001b[0;34m==\u001b[0m \u001b[0;36m0\u001b[0m \u001b[0;32melse\u001b[0m \u001b[0mjnp\u001b[0m\u001b[0;34m.\u001b[0m\u001b[0marange\u001b[0m\u001b[0;34m(\u001b[0m\u001b[0;36m6\u001b[0m\u001b[0;34m,\u001b[0m \u001b[0;36m12\u001b[0m\u001b[0;34m)\u001b[0m\u001b[0;34m\u001b[0m\u001b[0;34m\u001b[0m\u001b[0m\n\u001b[0m\u001b[1;32m      3\u001b[0m \u001b[0mout\u001b[0m \u001b[0;34m=\u001b[0m \u001b[0mpmap\u001b[0m\u001b[0;34m(\u001b[0m\u001b[0mf\u001b[0m\u001b[0;34m,\u001b[0m \u001b[0maxis_name\u001b[0m\u001b[0;34m=\u001b[0m\u001b[0;34m'i'\u001b[0m\u001b[0;34m)\u001b[0m\u001b[0;34m(\u001b[0m\u001b[0mdata\u001b[0m\u001b[0;34m)\u001b[0m\u001b[0;34m\u001b[0m\u001b[0;34m\u001b[0m\u001b[0m\n\u001b[1;32m      4\u001b[0m \u001b[0mprint\u001b[0m\u001b[0;34m(\u001b[0m\u001b[0mout\u001b[0m\u001b[0;34m)\u001b[0m\u001b[0;34m\u001b[0m\u001b[0;34m\u001b[0m\u001b[0m\n",
      "\u001b[0;31mAttributeError\u001b[0m: module 'jax' has no attribute 'process_index'"
     ]
    }
   ],
   "source": [
    "f = lambda x: x + jax.lax.psum(x, axis_name='i')\n",
    "data = jnp.arange(6) if jax.process_index() == 0 else jnp.arange(6, 12)\n",
    "out = pmap(f, axis_name='i')(data)\n",
    "print(out)  "
   ]
  },
  {
   "cell_type": "code",
   "execution_count": 13,
   "metadata": {},
   "outputs": [
    {
     "name": "stdout",
     "output_type": "stream",
     "text": [
      "[0.         0.06666667 0.13333334 0.2        0.26666668 0.33333334]\n",
      "[13. 13.]\n"
     ]
    }
   ],
   "source": [
    "from functools import partial\n",
    "@partial(jax.pmap, axis_name='i', devices=jax.devices()[:6])\n",
    "def f1(x):\n",
    "    return x / jax.lax.psum(x, axis_name='i')\n",
    "\n",
    "@partial(jax.pmap, axis_name='i', devices=jax.devices()[-2:])\n",
    "def f2(x):\n",
    "    return jax.lax.psum(x ** 2, axis_name='i')\n",
    "\n",
    "def func_par(x, devices=jax.devices()):\n",
    "    @partial(jax.pmap, axis_name='i', devices=devices)\n",
    "    def f2(x):\n",
    "        return jax.lax.psum(x ** 2, axis_name='i')\n",
    "    \n",
    "    return f2(x)\n",
    "\n",
    "def func_eig(x, devices=jax.devices()):\n",
    "    @partial(jax.pmap, devices=devices)\n",
    "    def f3(x):\n",
    "        return jax.scipy.linalg.eigh(x)\n",
    "    \n",
    "    return f3(x)\n",
    "\n",
    "@jax.jit\n",
    "def calceig(x):\n",
    "    return jax.scipy.linalg.eigh(x)\n",
    "\n",
    "print(f1(jnp.arange(6.)))  \n",
    "print(func_par(jnp.array([2., 3.]), jax.devices()[-2:]))  "
   ]
  },
  {
   "cell_type": "code",
   "execution_count": 15,
   "metadata": {},
   "outputs": [
    {
     "data": {
      "text/plain": [
       "(Buffer([-4.47476959e+00, -4.32579851e+00, -4.13233232e+00,\n",
       "         -4.02423859e+00, -3.95493865e+00, -3.90555954e+00,\n",
       "         -3.76627660e+00, -3.69392967e+00, -3.44470358e+00,\n",
       "         -3.41919041e+00, -3.30953288e+00, -3.27461457e+00,\n",
       "         -3.16211414e+00, -3.04298115e+00, -3.00135088e+00,\n",
       "         -2.94170976e+00, -2.93453813e+00, -2.80347967e+00,\n",
       "         -2.66035557e+00, -2.58380842e+00, -2.47034979e+00,\n",
       "         -2.40401959e+00, -2.37228274e+00, -2.35917568e+00,\n",
       "         -2.28182244e+00, -2.22655416e+00, -2.18811488e+00,\n",
       "         -2.12785149e+00, -2.03857446e+00, -1.98961008e+00,\n",
       "         -1.90002215e+00, -1.84667826e+00, -1.83442557e+00,\n",
       "         -1.75481093e+00, -1.63829613e+00, -1.56548703e+00,\n",
       "         -1.48740411e+00, -1.44238770e+00, -1.37465513e+00,\n",
       "         -1.35969830e+00, -1.27306783e+00, -1.22310758e+00,\n",
       "         -1.17699921e+00, -1.06548786e+00, -1.02089632e+00,\n",
       "         -9.72605348e-01, -9.12236869e-01, -8.29795182e-01,\n",
       "         -7.88799226e-01, -7.63289511e-01, -7.13915348e-01,\n",
       "         -6.29870534e-01, -5.85977077e-01, -5.50576866e-01,\n",
       "         -4.78979886e-01, -4.00177717e-01, -3.60207617e-01,\n",
       "         -3.01563144e-01, -2.51578778e-01, -1.86189309e-01,\n",
       "         -1.08790256e-01, -9.84962285e-02, -4.63595390e-02,\n",
       "          2.44551226e-02,  5.59831113e-02,  1.80095717e-01,\n",
       "          2.59470642e-01,  3.22884709e-01,  3.69946450e-01,\n",
       "          4.04558480e-01,  4.72408652e-01,  5.56932390e-01,\n",
       "          5.96618474e-01,  6.26649559e-01,  6.72450304e-01,\n",
       "          6.94674850e-01,  7.73733795e-01,  8.05038631e-01,\n",
       "          8.84426057e-01,  9.43889737e-01,  9.56108212e-01,\n",
       "          9.89690959e-01,  1.13486385e+00,  1.21094275e+00,\n",
       "          1.24349308e+00,  1.29764736e+00,  1.35548079e+00,\n",
       "          1.37666750e+00,  1.42629933e+00,  1.50528145e+00,\n",
       "          1.58540785e+00,  1.67280447e+00,  1.68823576e+00,\n",
       "          1.80408359e+00,  1.87037122e+00,  1.96602523e+00,\n",
       "          2.02467489e+00,  2.09871984e+00,  2.14079595e+00,\n",
       "          2.18918538e+00,  2.27393770e+00,  2.30504155e+00,\n",
       "          2.36825204e+00,  2.39785028e+00,  2.46838117e+00,\n",
       "          2.51167274e+00,  2.54169393e+00,  2.63228583e+00,\n",
       "          2.72334695e+00,  2.86724710e+00,  2.94418097e+00,\n",
       "          3.01211190e+00,  3.05428457e+00,  3.15937424e+00,\n",
       "          3.19324732e+00,  3.25774455e+00,  3.39829850e+00,\n",
       "          3.48108268e+00,  3.52893734e+00,  3.59217882e+00,\n",
       "          3.76624990e+00,  3.83299589e+00,  3.88771462e+00,\n",
       "          4.03492737e+00,  4.24757290e+00,  4.31534243e+00,\n",
       "          4.47846222e+00,  6.39726372e+01], dtype=float32),\n",
       " Buffer([[-0.08245857,  0.0307504 , -0.14424276, ...,  0.100968  ,\n",
       "          -0.1337777 , -0.09223123],\n",
       "         [-0.12194562,  0.06948189,  0.05743956, ...,  0.05226645,\n",
       "          -0.0799959 , -0.09372735],\n",
       "         [ 0.09672508, -0.04349893, -0.00578524, ...,  0.01027057,\n",
       "          -0.02901395, -0.08679399],\n",
       "         ...,\n",
       "         [ 0.08005386,  0.0009677 , -0.22745894, ..., -0.07041878,\n",
       "          -0.06382012, -0.08921258],\n",
       "         [ 0.03195595,  0.0388435 , -0.09007226, ..., -0.09347843,\n",
       "           0.09833823, -0.09297912],\n",
       "         [-0.00184992, -0.19410306, -0.031861  , ..., -0.02917022,\n",
       "           0.09907538, -0.09207556]], dtype=float32))"
      ]
     },
     "execution_count": 15,
     "metadata": {},
     "output_type": "execute_result"
    }
   ],
   "source": [
    "a = np.random.rand(128, 128)\n",
    "aj = jnp.asarray(a)\n",
    "calceig(aj)\n",
    "#func_eig(aj, devices=cpus[:5])"
   ]
  },
  {
   "cell_type": "code",
   "execution_count": null,
   "metadata": {},
   "outputs": [],
   "source": [
    "jax.devices()[0]"
   ]
  },
  {
   "cell_type": "code",
   "execution_count": null,
   "metadata": {},
   "outputs": [],
   "source": []
  }
 ],
 "metadata": {
  "kernelspec": {
   "display_name": "jax-gpu",
   "language": "python",
   "name": "jax-gpu"
  },
  "language_info": {
   "codemirror_mode": {
    "name": "ipython",
    "version": 3
   },
   "file_extension": ".py",
   "mimetype": "text/x-python",
   "name": "python",
   "nbconvert_exporter": "python",
   "pygments_lexer": "ipython3",
   "version": "3.8.10"
  }
 },
 "nbformat": 4,
 "nbformat_minor": 4
}
